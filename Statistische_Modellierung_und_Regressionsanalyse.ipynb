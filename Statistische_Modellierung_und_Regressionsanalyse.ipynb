{
 "cells": [
  {
   "cell_type": "markdown",
   "id": "af76936d-cdcc-484e-9cee-37d729c82b5b",
   "metadata": {},
   "source": [
    "<div style=\"font-size:40px;\">\n",
    "Statistische Modellierung und Regressionsanalyse\n",
    "</div>"
   ]
  },
  {
   "cell_type": "markdown",
   "id": "d3f71f30-7b66-4b85-9967-44f6f4f667a5",
   "metadata": {},
   "source": [
    "# Einleitung EDA\n",
    "<div style=\"text-align: justify;\">\n",
    "Mit der Checkliste wird erst die EDA verfolgt, um anschliessend besser die gestellten Fragen beantworten zu können. Bei der Auswahl der Fragen kann man viele Fragen stellen, hier kommen zwei zur Auswahl. Bei manchen Zeilen ist head verwendet worden, um das Maximum von 100 Seiten eher erreichen zu können.\n",
    "</div>\n",
    "\n",
    "Checkliste der explorativen Datenanalyse:\n",
    "\n",
    "-   Frage/n formulieren\n",
    "-   Daten einlesen\n",
    "-   str() zur ersten Überprüfung\n",
    "-   Typen überprüfen\n",
    "-   Dimensionen überprüfen\n",
    "-   Überprüfe den Anfang und das Ende des Datensatzes\n",
    "-   Unwichtige Spalten fallen lassen\n",
    "-   Duplikate erkennen\n",
    "-   Namen der Spalten ändern\n",
    "-   Fehlende Werte fallen lassen, imputieren\n",
    "-   Darstellung und Umgang mit Outliers\n",
    "-   Daten erkunden\n",
    "-   Überprüfung von Korrelation\n",
    "-   Mit mindestens einer weiteren Quelle überprüfen\n",
    "-   Weitere Fragen und Anmerkungen\n",
    "-   Quellenangaben\n",
    "\n",
    "Fragen formulieren:\n",
    "\n",
    "-   Welches Land erhält die höchste/niedrigste Punktzahl und aus welcher Provinz kommen diese Weine her?\n",
    "-   Welche Degustierende kommen häufig vor und wo bewegen sich diese hauptsächlich"
   ]
  },
  {
   "cell_type": "markdown",
   "id": "7362a851-566b-4b43-ad0b-408437cf710f",
   "metadata": {},
   "source": [
    "# Statistisches Vorgehen EDA\n",
    "<div style=\"text-align: justify;\">\n",
    "Als erstes sollen die Daten eingelesen werden. Es handelt sich um einen Datensatz über Weine. Mit str können die Typen angesehen werden, mit head eine erste Einsicht gewonnen werden. Des Weiteren soll kurz die Währung angesehen werden, die Dimensionen den Anfang und das Ende des Datensatzes.\n",
    "</div>\n",
    "### Überprüfung der Daten in mehreren Schritten"
   ]
  },
  {
   "cell_type": "code",
   "execution_count": 2,
   "id": "7c76bd37-a1c5-4746-ad2a-8fa8450bcdf4",
   "metadata": {},
   "outputs": [
    {
     "name": "stdout",
     "output_type": "stream",
     "text": [
      "'data.frame':\t129971 obs. of  14 variables:\n",
      " $ id                   : int  0 1 2 3 4 5 6 7 8 9 ...\n",
      " $ country              : chr  \"Italy\" \"Portugal\" \"US\" \"US\" ...\n",
      " $ description          : chr  \"Aromas include tropical fruit, broom, brimstone and dried herb. The palate isn't overly expressive, offering un\"| __truncated__ \"This is ripe and fruity, a wine that is smooth while still structured. Firm tannins are filled out with juicy r\"| __truncated__ \"Tart and snappy, the flavors of lime flesh and rind dominate. Some green pineapple pokes through, with crisp ac\"| __truncated__ \"Pineapple rind, lemon pith and orange blossom start off the aromas. The palate is a bit more opulent, with note\"| __truncated__ ...\n",
      " $ designation          : chr  \"Vulkà Bianco\" \"Avidagos\" \"\" \"Reserve Late Harvest\" ...\n",
      " $ points               : int  87 87 87 87 87 87 87 87 87 87 ...\n",
      " $ price                : int  NA 15 14 13 65 15 16 24 12 27 ...\n",
      " $ province             : chr  \"Sicily & Sardinia\" \"Douro\" \"Oregon\" \"Michigan\" ...\n",
      " $ region_1             : chr  \"Etna\" \"\" \"Willamette Valley\" \"Lake Michigan Shore\" ...\n",
      " $ region_2             : chr  \"\" \"\" \"Willamette Valley\" \"\" ...\n",
      " $ taster_name          : chr  \"Kerin O’Keefe\" \"Roger Voss\" \"Paul Gregutt\" \"Alexander Peartree\" ...\n",
      " $ taster_twitter_handle: chr  \"@kerinokeefe\" \"@vossroger\" \"@paulgwine \" \"\" ...\n",
      " $ title                : chr  \"Nicosia 2013 Vulkà Bianco  (Etna)\" \"Quinta dos Avidagos 2011 Avidagos Red (Douro)\" \"Rainstorm 2013 Pinot Gris (Willamette Valley)\" \"St. Julian 2013 Reserve Late Harvest Riesling (Lake Michigan Shore)\" ...\n",
      " $ variety              : chr  \"White Blend\" \"Portuguese Red\" \"Pinot Gris\" \"Riesling\" ...\n",
      " $ winery               : chr  \"Nicosia\" \"Quinta dos Avidagos\" \"Rainstorm\" \"St. Julian\" ...\n"
     ]
    },
    {
     "data": {
      "text/html": [
       "<table class=\"dataframe\">\n",
       "<caption>A data.frame: 2 × 14</caption>\n",
       "<thead>\n",
       "\t<tr><th></th><th scope=col>id</th><th scope=col>country</th><th scope=col>description</th><th scope=col>designation</th><th scope=col>points</th><th scope=col>price</th><th scope=col>province</th><th scope=col>region_1</th><th scope=col>region_2</th><th scope=col>taster_name</th><th scope=col>taster_twitter_handle</th><th scope=col>title</th><th scope=col>variety</th><th scope=col>winery</th></tr>\n",
       "\t<tr><th></th><th scope=col>&lt;int&gt;</th><th scope=col>&lt;chr&gt;</th><th scope=col>&lt;chr&gt;</th><th scope=col>&lt;chr&gt;</th><th scope=col>&lt;int&gt;</th><th scope=col>&lt;int&gt;</th><th scope=col>&lt;chr&gt;</th><th scope=col>&lt;chr&gt;</th><th scope=col>&lt;chr&gt;</th><th scope=col>&lt;chr&gt;</th><th scope=col>&lt;chr&gt;</th><th scope=col>&lt;chr&gt;</th><th scope=col>&lt;chr&gt;</th><th scope=col>&lt;chr&gt;</th></tr>\n",
       "</thead>\n",
       "<tbody>\n",
       "\t<tr><th scope=row>1</th><td>0</td><td><span style=white-space:pre-wrap>Italy   </span></td><td><span style=white-space:pre-wrap>Aromas include tropical fruit, broom, brimstone and dried herb. The palate isn't overly expressive, offering unripened apple, citrus and dried sage alongside brisk acidity.                                                       </span></td><td>Vulkà Bianco</td><td>87</td><td>NA</td><td>Sicily &amp; Sardinia</td><td>Etna</td><td></td><td>Kerin O’Keefe</td><td>@kerinokeefe</td><td><span style=white-space:pre-wrap>Nicosia 2013 Vulkà Bianco  (Etna)            </span></td><td><span style=white-space:pre-wrap>White Blend   </span></td><td><span style=white-space:pre-wrap>Nicosia            </span></td></tr>\n",
       "\t<tr><th scope=row>2</th><td>1</td><td>Portugal</td><td>This is ripe and fruity, a wine that is smooth while still structured. Firm tannins are filled out with juicy red berry fruits and freshened with acidity. It's  already drinkable, although it will certainly be better from 2016.</td><td>Avidagos    </td><td>87</td><td>15</td><td>Douro            </td><td>    </td><td></td><td>Roger Voss   </td><td>@vossroger  </td><td>Quinta dos Avidagos 2011 Avidagos Red (Douro)</td><td>Portuguese Red</td><td>Quinta dos Avidagos</td></tr>\n",
       "</tbody>\n",
       "</table>\n"
      ],
      "text/latex": [
       "A data.frame: 2 × 14\n",
       "\\begin{tabular}{r|llllllllllllll}\n",
       "  & id & country & description & designation & points & price & province & region\\_1 & region\\_2 & taster\\_name & taster\\_twitter\\_handle & title & variety & winery\\\\\n",
       "  & <int> & <chr> & <chr> & <chr> & <int> & <int> & <chr> & <chr> & <chr> & <chr> & <chr> & <chr> & <chr> & <chr>\\\\\n",
       "\\hline\n",
       "\t1 & 0 & Italy    & Aromas include tropical fruit, broom, brimstone and dried herb. The palate isn't overly expressive, offering unripened apple, citrus and dried sage alongside brisk acidity.                                                        & Vulkà Bianco & 87 & NA & Sicily \\& Sardinia & Etna &  & Kerin O’Keefe & @kerinokeefe & Nicosia 2013 Vulkà Bianco  (Etna)             & White Blend    & Nicosia            \\\\\n",
       "\t2 & 1 & Portugal & This is ripe and fruity, a wine that is smooth while still structured. Firm tannins are filled out with juicy red berry fruits and freshened with acidity. It's  already drinkable, although it will certainly be better from 2016. & Avidagos     & 87 & 15 & Douro             &      &  & Roger Voss    & @vossroger   & Quinta dos Avidagos 2011 Avidagos Red (Douro) & Portuguese Red & Quinta dos Avidagos\\\\\n",
       "\\end{tabular}\n"
      ],
      "text/markdown": [
       "\n",
       "A data.frame: 2 × 14\n",
       "\n",
       "| <!--/--> | id &lt;int&gt; | country &lt;chr&gt; | description &lt;chr&gt; | designation &lt;chr&gt; | points &lt;int&gt; | price &lt;int&gt; | province &lt;chr&gt; | region_1 &lt;chr&gt; | region_2 &lt;chr&gt; | taster_name &lt;chr&gt; | taster_twitter_handle &lt;chr&gt; | title &lt;chr&gt; | variety &lt;chr&gt; | winery &lt;chr&gt; |\n",
       "|---|---|---|---|---|---|---|---|---|---|---|---|---|---|---|\n",
       "| 1 | 0 | Italy    | Aromas include tropical fruit, broom, brimstone and dried herb. The palate isn't overly expressive, offering unripened apple, citrus and dried sage alongside brisk acidity.                                                        | Vulkà Bianco | 87 | NA | Sicily &amp; Sardinia | Etna | <!----> | Kerin O’Keefe | @kerinokeefe | Nicosia 2013 Vulkà Bianco  (Etna)             | White Blend    | Nicosia             |\n",
       "| 2 | 1 | Portugal | This is ripe and fruity, a wine that is smooth while still structured. Firm tannins are filled out with juicy red berry fruits and freshened with acidity. It's  already drinkable, although it will certainly be better from 2016. | Avidagos     | 87 | 15 | Douro             | <!----> | <!----> | Roger Voss    | @vossroger   | Quinta dos Avidagos 2011 Avidagos Red (Douro) | Portuguese Red | Quinta dos Avidagos |\n",
       "\n"
      ],
      "text/plain": [
       "  id country \n",
       "1 0  Italy   \n",
       "2 1  Portugal\n",
       "  description                                                                                                                                                                                                                        \n",
       "1 Aromas include tropical fruit, broom, brimstone and dried herb. The palate isn't overly expressive, offering unripened apple, citrus and dried sage alongside brisk acidity.                                                       \n",
       "2 This is ripe and fruity, a wine that is smooth while still structured. Firm tannins are filled out with juicy red berry fruits and freshened with acidity. It's  already drinkable, although it will certainly be better from 2016.\n",
       "  designation  points price province          region_1 region_2 taster_name  \n",
       "1 Vulkà Bianco 87     NA    Sicily & Sardinia Etna              Kerin O’Keefe\n",
       "2 Avidagos     87     15    Douro                               Roger Voss   \n",
       "  taster_twitter_handle title                                        \n",
       "1 @kerinokeefe          Nicosia 2013 Vulkà Bianco  (Etna)            \n",
       "2 @vossroger            Quinta dos Avidagos 2011 Avidagos Red (Douro)\n",
       "  variety        winery             \n",
       "1 White Blend    Nicosia            \n",
       "2 Portuguese Red Quinta dos Avidagos"
      ]
     },
     "metadata": {},
     "output_type": "display_data"
    },
    {
     "name": "stdout",
     "output_type": "stream",
     "text": [
      "     id country\n",
      "217 216   Italy\n",
      "                                                                                                                                                                                                                                                                                                      description\n",
      "217 Black-skinned berry, pipe tobacco and Mediterranean herb aromas waft out of the glass and carry over to the firm linear palate along with morello cherry, licorice and a hint of clove. Taut fine-grained tannins and fresh acidity provide the backbone while orange peel marks the finish. Drink 2019–2025.\n",
      "    designation points price province               region_1 region_2\n",
      "217                 90    57  Tuscany Brunello di Montalcino         \n",
      "      taster_name taster_twitter_handle\n",
      "217 Kerin O’Keefe          @kerinokeefe\n",
      "                                            title    variety           winery\n",
      "217 Podere Scopetone 2012  Brunello di Montalcino Sangiovese Podere Scopetone\n",
      "     id country\n",
      "221 220      US\n",
      "                                                                                                                                                                               description\n",
      "221 Briny green olive notes underlie a tropically ripe, full-bodied expression of the variety. The wine's apple, pineapple and mango fruit is wrapped in toasted oak and moderate acidity.\n",
      "    designation points price   province     region_1 region_2    taster_name\n",
      "221                 90    40 California Sonoma Coast   Sonoma Virginie Boone\n",
      "    taster_twitter_handle                                            title\n",
      "221               @vboone Sixteen by Twenty 2014 Chardonnay (Sonoma Coast)\n",
      "       variety            winery\n",
      "221 Chardonnay Sixteen by Twenty\n"
     ]
    },
    {
     "data": {
      "text/html": [
       "<style>\n",
       ".list-inline {list-style: none; margin:0; padding: 0}\n",
       ".list-inline>li {display: inline-block}\n",
       ".list-inline>li:not(:last-child)::after {content: \"\\00b7\"; padding: 0 .5ex}\n",
       "</style>\n",
       "<ol class=list-inline><li>129971</li><li>14</li></ol>\n"
      ],
      "text/latex": [
       "\\begin{enumerate*}\n",
       "\\item 129971\n",
       "\\item 14\n",
       "\\end{enumerate*}\n"
      ],
      "text/markdown": [
       "1. 129971\n",
       "2. 14\n",
       "\n",
       "\n"
      ],
      "text/plain": [
       "[1] 129971     14"
      ]
     },
     "metadata": {},
     "output_type": "display_data"
    },
    {
     "data": {
      "text/html": [
       "<table class=\"dataframe\">\n",
       "<caption>A data.frame: 1 × 14</caption>\n",
       "<thead>\n",
       "\t<tr><th></th><th scope=col>id</th><th scope=col>country</th><th scope=col>description</th><th scope=col>designation</th><th scope=col>points</th><th scope=col>price</th><th scope=col>province</th><th scope=col>region_1</th><th scope=col>region_2</th><th scope=col>taster_name</th><th scope=col>taster_twitter_handle</th><th scope=col>title</th><th scope=col>variety</th><th scope=col>winery</th></tr>\n",
       "\t<tr><th></th><th scope=col>&lt;int&gt;</th><th scope=col>&lt;chr&gt;</th><th scope=col>&lt;chr&gt;</th><th scope=col>&lt;chr&gt;</th><th scope=col>&lt;int&gt;</th><th scope=col>&lt;int&gt;</th><th scope=col>&lt;chr&gt;</th><th scope=col>&lt;chr&gt;</th><th scope=col>&lt;chr&gt;</th><th scope=col>&lt;chr&gt;</th><th scope=col>&lt;chr&gt;</th><th scope=col>&lt;chr&gt;</th><th scope=col>&lt;chr&gt;</th><th scope=col>&lt;chr&gt;</th></tr>\n",
       "</thead>\n",
       "<tbody>\n",
       "\t<tr><th scope=row>1</th><td>0</td><td>Italy</td><td>Aromas include tropical fruit, broom, brimstone and dried herb. The palate isn't overly expressive, offering unripened apple, citrus and dried sage alongside brisk acidity.</td><td>Vulkà Bianco</td><td>87</td><td>NA</td><td>Sicily &amp; Sardinia</td><td>Etna</td><td></td><td>Kerin O’Keefe</td><td>@kerinokeefe</td><td><span style=white-space:pre-wrap>Nicosia 2013 Vulkà Bianco  (Etna)</span></td><td>White Blend</td><td>Nicosia</td></tr>\n",
       "</tbody>\n",
       "</table>\n"
      ],
      "text/latex": [
       "A data.frame: 1 × 14\n",
       "\\begin{tabular}{r|llllllllllllll}\n",
       "  & id & country & description & designation & points & price & province & region\\_1 & region\\_2 & taster\\_name & taster\\_twitter\\_handle & title & variety & winery\\\\\n",
       "  & <int> & <chr> & <chr> & <chr> & <int> & <int> & <chr> & <chr> & <chr> & <chr> & <chr> & <chr> & <chr> & <chr>\\\\\n",
       "\\hline\n",
       "\t1 & 0 & Italy & Aromas include tropical fruit, broom, brimstone and dried herb. The palate isn't overly expressive, offering unripened apple, citrus and dried sage alongside brisk acidity. & Vulkà Bianco & 87 & NA & Sicily \\& Sardinia & Etna &  & Kerin O’Keefe & @kerinokeefe & Nicosia 2013 Vulkà Bianco  (Etna) & White Blend & Nicosia\\\\\n",
       "\\end{tabular}\n"
      ],
      "text/markdown": [
       "\n",
       "A data.frame: 1 × 14\n",
       "\n",
       "| <!--/--> | id &lt;int&gt; | country &lt;chr&gt; | description &lt;chr&gt; | designation &lt;chr&gt; | points &lt;int&gt; | price &lt;int&gt; | province &lt;chr&gt; | region_1 &lt;chr&gt; | region_2 &lt;chr&gt; | taster_name &lt;chr&gt; | taster_twitter_handle &lt;chr&gt; | title &lt;chr&gt; | variety &lt;chr&gt; | winery &lt;chr&gt; |\n",
       "|---|---|---|---|---|---|---|---|---|---|---|---|---|---|---|\n",
       "| 1 | 0 | Italy | Aromas include tropical fruit, broom, brimstone and dried herb. The palate isn't overly expressive, offering unripened apple, citrus and dried sage alongside brisk acidity. | Vulkà Bianco | 87 | NA | Sicily &amp; Sardinia | Etna | <!----> | Kerin O’Keefe | @kerinokeefe | Nicosia 2013 Vulkà Bianco  (Etna) | White Blend | Nicosia |\n",
       "\n"
      ],
      "text/plain": [
       "  id country\n",
       "1 0  Italy  \n",
       "  description                                                                                                                                                                 \n",
       "1 Aromas include tropical fruit, broom, brimstone and dried herb. The palate isn't overly expressive, offering unripened apple, citrus and dried sage alongside brisk acidity.\n",
       "  designation  points price province          region_1 region_2 taster_name  \n",
       "1 Vulkà Bianco 87     NA    Sicily & Sardinia Etna              Kerin O’Keefe\n",
       "  taster_twitter_handle title                             variety     winery \n",
       "1 @kerinokeefe          Nicosia 2013 Vulkà Bianco  (Etna) White Blend Nicosia"
      ]
     },
     "metadata": {},
     "output_type": "display_data"
    },
    {
     "data": {
      "text/html": [
       "<table class=\"dataframe\">\n",
       "<caption>A data.frame: 1 × 14</caption>\n",
       "<thead>\n",
       "\t<tr><th></th><th scope=col>id</th><th scope=col>country</th><th scope=col>description</th><th scope=col>designation</th><th scope=col>points</th><th scope=col>price</th><th scope=col>province</th><th scope=col>region_1</th><th scope=col>region_2</th><th scope=col>taster_name</th><th scope=col>taster_twitter_handle</th><th scope=col>title</th><th scope=col>variety</th><th scope=col>winery</th></tr>\n",
       "\t<tr><th></th><th scope=col>&lt;int&gt;</th><th scope=col>&lt;chr&gt;</th><th scope=col>&lt;chr&gt;</th><th scope=col>&lt;chr&gt;</th><th scope=col>&lt;int&gt;</th><th scope=col>&lt;int&gt;</th><th scope=col>&lt;chr&gt;</th><th scope=col>&lt;chr&gt;</th><th scope=col>&lt;chr&gt;</th><th scope=col>&lt;chr&gt;</th><th scope=col>&lt;chr&gt;</th><th scope=col>&lt;chr&gt;</th><th scope=col>&lt;chr&gt;</th><th scope=col>&lt;chr&gt;</th></tr>\n",
       "</thead>\n",
       "<tbody>\n",
       "\t<tr><th scope=row>129971</th><td>129970</td><td>France</td><td>Big, rich and off-dry, this is powered by intense spiciness and rounded texture. Lychees dominate the fruit profile, giving an opulent feel to the aftertaste. Drink now.</td><td>Lieu-dit Harth Cuvée Caroline</td><td>90</td><td>21</td><td>Alsace</td><td>Alsace</td><td></td><td>Roger Voss</td><td>@vossroger</td><td>Domaine Schoffit 2012 Lieu-dit Harth Cuvée Caroline Gewurztraminer (Alsace)</td><td>Gewürztraminer</td><td>Domaine Schoffit</td></tr>\n",
       "</tbody>\n",
       "</table>\n"
      ],
      "text/latex": [
       "A data.frame: 1 × 14\n",
       "\\begin{tabular}{r|llllllllllllll}\n",
       "  & id & country & description & designation & points & price & province & region\\_1 & region\\_2 & taster\\_name & taster\\_twitter\\_handle & title & variety & winery\\\\\n",
       "  & <int> & <chr> & <chr> & <chr> & <int> & <int> & <chr> & <chr> & <chr> & <chr> & <chr> & <chr> & <chr> & <chr>\\\\\n",
       "\\hline\n",
       "\t129971 & 129970 & France & Big, rich and off-dry, this is powered by intense spiciness and rounded texture. Lychees dominate the fruit profile, giving an opulent feel to the aftertaste. Drink now. & Lieu-dit Harth Cuvée Caroline & 90 & 21 & Alsace & Alsace &  & Roger Voss & @vossroger & Domaine Schoffit 2012 Lieu-dit Harth Cuvée Caroline Gewurztraminer (Alsace) & Gewürztraminer & Domaine Schoffit\\\\\n",
       "\\end{tabular}\n"
      ],
      "text/markdown": [
       "\n",
       "A data.frame: 1 × 14\n",
       "\n",
       "| <!--/--> | id &lt;int&gt; | country &lt;chr&gt; | description &lt;chr&gt; | designation &lt;chr&gt; | points &lt;int&gt; | price &lt;int&gt; | province &lt;chr&gt; | region_1 &lt;chr&gt; | region_2 &lt;chr&gt; | taster_name &lt;chr&gt; | taster_twitter_handle &lt;chr&gt; | title &lt;chr&gt; | variety &lt;chr&gt; | winery &lt;chr&gt; |\n",
       "|---|---|---|---|---|---|---|---|---|---|---|---|---|---|---|\n",
       "| 129971 | 129970 | France | Big, rich and off-dry, this is powered by intense spiciness and rounded texture. Lychees dominate the fruit profile, giving an opulent feel to the aftertaste. Drink now. | Lieu-dit Harth Cuvée Caroline | 90 | 21 | Alsace | Alsace | <!----> | Roger Voss | @vossroger | Domaine Schoffit 2012 Lieu-dit Harth Cuvée Caroline Gewurztraminer (Alsace) | Gewürztraminer | Domaine Schoffit |\n",
       "\n"
      ],
      "text/plain": [
       "       id     country\n",
       "129971 129970 France \n",
       "       description                                                                                                                                                              \n",
       "129971 Big, rich and off-dry, this is powered by intense spiciness and rounded texture. Lychees dominate the fruit profile, giving an opulent feel to the aftertaste. Drink now.\n",
       "       designation                   points price province region_1 region_2\n",
       "129971 Lieu-dit Harth Cuvée Caroline 90     21    Alsace   Alsace           \n",
       "       taster_name taster_twitter_handle\n",
       "129971 Roger Voss  @vossroger           \n",
       "       title                                                                      \n",
       "129971 Domaine Schoffit 2012 Lieu-dit Harth Cuvée Caroline Gewurztraminer (Alsace)\n",
       "       variety        winery          \n",
       "129971 Gewürztraminer Domaine Schoffit"
      ]
     },
     "metadata": {},
     "output_type": "display_data"
    }
   ],
   "source": [
    "data_eda <- read.csv('winemag-data-130k-v2.csv') # Hier den Pfad ändern, falls notwendig\n",
    "\n",
    "## Erste Überprüfung, Typen überprüfen\n",
    "str(data_eda)\n",
    "\n",
    "# Head\n",
    "head(data_eda, n = 2)\n",
    "\n",
    "# Es werden nun die Preise auf Ihre Währung überprüft\n",
    "# Beispiel Zeile 217 und 221\n",
    "print(data_eda[217,])\n",
    "print(data_eda[221,])\n",
    "\n",
    "# Dimensionen\n",
    "dim(data_eda)\n",
    "\n",
    "# Überprüfe den Anfang und das Ende des Datensatzes\n",
    "head(data_eda,1)\n",
    "tail(data_eda,1)"
   ]
  },
  {
   "cell_type": "markdown",
   "id": "8f0fa89f-5aaf-4a81-99c3-d5ee4bce3515",
   "metadata": {},
   "source": [
    "#### Resultate der Überprüfungen\n",
    "<div style=\"text-align: justify;\">\n",
    "Eine Auflistung der Resultate, mit der Reihenfolge Typen, Währung, Dimensionen und Formatierung.\n",
    "    \n",
    "-   id: Ist vom Typ int, was Sinn macht, denn es handelt sich hier um eine Identifikation jedes einzelnen Eintrags. Für die exploratie Datenanalyse eher untwichtig und nicht aussagekräftig dann auch für die Verwendung in einer linearen oder logistischen Regressions ungünstig. Ist wohl noch ein Auszug aus einer DB Tabelle mit einem primary key. Da man Zeilen auch anders zählen kann, wird diese Spalte dann auch gelöscht (dropped), was man an Daten einsparen kann und dem Modell nicht dienlich ist, sollte man entfernen.\n",
    "\n",
    "-   points: Ist vom Typ int, macht Sinn, denn üblicherweise ist die Punktevergabe mit ganzen Zahlen vorhanden.\n",
    "\n",
    "-   price: Ist vom Typ int, und is der Preis des Weines.Hier wird anscheined gerundet, Rappen wie beispielsweise bei Coop oder Migros gibt es auch. Somit üblicherweise verkaufen Läden Ihre Produkte nicht gerundet.\n",
    "\n",
    "-   country, description, designation, province, region_1, region_2, taster_name, taster_twitter_handle, title, variety, winery: Sind vom Typ chr, macht Sinn, denn die Einträge sind alle Strings. Eventuell für ein Modell müsste man hier dann numerische Werte verwenden (One hot encoding?).\n",
    "\n",
    "Resultat zu den Features selbst:\n",
    "\n",
    "-   country: Gibt das Land an\n",
    "-   description: Beschreibt den Wein, es handelt sich ja um eine Degustation\n",
    "-   designation: Name oder Titel des Weines\n",
    "-   ponts: Punktevergabe\n",
    "-   price: Preis des Weines, es wird jedoch keine Währung angegeben\n",
    "-   province: Die Hauptregion oder Bundesland\n",
    "-   region_1: Weinregion innerhalb der Provinz (wird noch unbenannt)\n",
    "-   region_2: Unterregion von region_1 (wird noch unbenannt)\n",
    "-   variety: Die Rebsorte, die verwendert wird\n",
    "-   winery: Weingut\n",
    "</div>\n",
    "\n",
    "<div style=\"text-align: justify;\">\n",
    "Ein Wein stammt aus der Toskana (Preis 57) und eine aus Kalifornien (Preis 40) Die Überprüfung der Webpage WineEnthusiast (Ist auch die Quelle, <https://www.wineenthusiast.com/toplists/enthusiast-100-2023/>) gibt stets US Dollars an. Somit nehmen wir an, dass die Preise in US Dollar vorkommen.\n",
    "</div>\n",
    "\n",
    "<div style=\"text-align: justify;\">\n",
    "14 Spalten, 129971 Zeilen\n",
    "\n",
    "Zeilen und Spalten können sich im Verlaufe der EDA verändern. Für ein Modell werden kleine Datensätze bevorzugt. Dies sind die nächsten Schritte nach der EDA, wobei es dann um Feature Eingineering / Selection geht.\n",
    "</div>\n",
    "\n",
    "<div style=\"text-align: justify;\">\n",
    "Die Formatierung schein zu stimmen, Umlaute und/oder spezielle Zeichen könnte man ebenfalls ausbessern.\n",
    "</div>"
   ]
  },
  {
   "cell_type": "markdown",
   "id": "9f4e7385-69fc-484c-bd19-f9fee26b6a5f",
   "metadata": {},
   "source": [
    "### Spalten, Duplikate, Imputation\n",
    "<div style=\"text-align: justify;\">\n",
    "Es sollen nun Spalten, Duplikate und die Imputation angewendet werden.\n",
    "</div>"
   ]
  },
  {
   "cell_type": "code",
   "execution_count": 3,
   "id": "c48efdf8-d9b0-4b37-8aab-4270c51dd993",
   "metadata": {
    "editable": true,
    "slideshow": {
     "slide_type": ""
    },
    "tags": []
   },
   "outputs": [
    {
     "data": {
      "text/plain": [
       "\n",
       " FALSE   TRUE \n",
       "119987   9984 "
      ]
     },
     "metadata": {},
     "output_type": "display_data"
    },
    {
     "data": {
      "text/html": [
       "<style>\n",
       ".list-inline {list-style: none; margin:0; padding: 0}\n",
       ".list-inline>li {display: inline-block}\n",
       ".list-inline>li:not(:last-child)::after {content: \"\\00b7\"; padding: 0 .5ex}\n",
       "</style>\n",
       "<ol class=list-inline><li>9984</li><li>11</li></ol>\n"
      ],
      "text/latex": [
       "\\begin{enumerate*}\n",
       "\\item 9984\n",
       "\\item 11\n",
       "\\end{enumerate*}\n"
      ],
      "text/markdown": [
       "1. 9984\n",
       "2. 11\n",
       "\n",
       "\n"
      ],
      "text/plain": [
       "[1] 9984   11"
      ]
     },
     "metadata": {},
     "output_type": "display_data"
    },
    {
     "data": {
      "text/html": [
       "<table class=\"dataframe\">\n",
       "<caption>A data.frame: 2 × 11</caption>\n",
       "<thead>\n",
       "\t<tr><th></th><th scope=col>country</th><th scope=col>description</th><th scope=col>designation</th><th scope=col>points</th><th scope=col>price</th><th scope=col>province</th><th scope=col>region_1</th><th scope=col>region_2</th><th scope=col>taster_name</th><th scope=col>variety</th><th scope=col>winery</th></tr>\n",
       "\t<tr><th></th><th scope=col>&lt;chr&gt;</th><th scope=col>&lt;chr&gt;</th><th scope=col>&lt;chr&gt;</th><th scope=col>&lt;int&gt;</th><th scope=col>&lt;int&gt;</th><th scope=col>&lt;chr&gt;</th><th scope=col>&lt;chr&gt;</th><th scope=col>&lt;chr&gt;</th><th scope=col>&lt;chr&gt;</th><th scope=col>&lt;chr&gt;</th><th scope=col>&lt;chr&gt;</th></tr>\n",
       "</thead>\n",
       "<tbody>\n",
       "\t<tr><th scope=row>2409</th><td>US   </td><td>This is weighty, creamy and medium to full in body. It has plenty of lime and pear flavors, plus slight brown sugar and vanilla notes.                                                             </td><td>                  </td><td>85</td><td>14</td><td>California       </td><td>North Coast</td><td>North Coast</td><td>Virginie Boone</td><td>Chardonnay</td><td>Souverain       </td></tr>\n",
       "\t<tr><th scope=row>2410</th><td>Italy</td><td>There's a touch of toasted almond at the start, but then this Grillo revs up in the glass to deliver notes of citrus, stone fruit, crushed stone and lemon tart. The mouthfeel is crisp and simple.</td><td>Sallier de la Tour</td><td>85</td><td>13</td><td>Sicily &amp; Sardinia</td><td><span style=white-space:pre-wrap>Sicilia    </span></td><td><span style=white-space:pre-wrap>           </span></td><td><span style=white-space:pre-wrap>              </span></td><td><span style=white-space:pre-wrap>Grillo    </span></td><td>Tasca d'Almerita</td></tr>\n",
       "</tbody>\n",
       "</table>\n"
      ],
      "text/latex": [
       "A data.frame: 2 × 11\n",
       "\\begin{tabular}{r|lllllllllll}\n",
       "  & country & description & designation & points & price & province & region\\_1 & region\\_2 & taster\\_name & variety & winery\\\\\n",
       "  & <chr> & <chr> & <chr> & <int> & <int> & <chr> & <chr> & <chr> & <chr> & <chr> & <chr>\\\\\n",
       "\\hline\n",
       "\t2409 & US    & This is weighty, creamy and medium to full in body. It has plenty of lime and pear flavors, plus slight brown sugar and vanilla notes.                                                              &                    & 85 & 14 & California        & North Coast & North Coast & Virginie Boone & Chardonnay & Souverain       \\\\\n",
       "\t2410 & Italy & There's a touch of toasted almond at the start, but then this Grillo revs up in the glass to deliver notes of citrus, stone fruit, crushed stone and lemon tart. The mouthfeel is crisp and simple. & Sallier de la Tour & 85 & 13 & Sicily \\& Sardinia & Sicilia     &             &                & Grillo     & Tasca d'Almerita\\\\\n",
       "\\end{tabular}\n"
      ],
      "text/markdown": [
       "\n",
       "A data.frame: 2 × 11\n",
       "\n",
       "| <!--/--> | country &lt;chr&gt; | description &lt;chr&gt; | designation &lt;chr&gt; | points &lt;int&gt; | price &lt;int&gt; | province &lt;chr&gt; | region_1 &lt;chr&gt; | region_2 &lt;chr&gt; | taster_name &lt;chr&gt; | variety &lt;chr&gt; | winery &lt;chr&gt; |\n",
       "|---|---|---|---|---|---|---|---|---|---|---|---|\n",
       "| 2409 | US    | This is weighty, creamy and medium to full in body. It has plenty of lime and pear flavors, plus slight brown sugar and vanilla notes.                                                              | <!----> | 85 | 14 | California        | North Coast | North Coast | Virginie Boone | Chardonnay | Souverain        |\n",
       "| 2410 | Italy | There's a touch of toasted almond at the start, but then this Grillo revs up in the glass to deliver notes of citrus, stone fruit, crushed stone and lemon tart. The mouthfeel is crisp and simple. | Sallier de la Tour | 85 | 13 | Sicily &amp; Sardinia | Sicilia     | <!----> | <!----> | Grillo     | Tasca d'Almerita |\n",
       "\n"
      ],
      "text/plain": [
       "     country\n",
       "2409 US     \n",
       "2410 Italy  \n",
       "     description                                                                                                                                                                                        \n",
       "2409 This is weighty, creamy and medium to full in body. It has plenty of lime and pear flavors, plus slight brown sugar and vanilla notes.                                                             \n",
       "2410 There's a touch of toasted almond at the start, but then this Grillo revs up in the glass to deliver notes of citrus, stone fruit, crushed stone and lemon tart. The mouthfeel is crisp and simple.\n",
       "     designation        points price province          region_1    region_2   \n",
       "2409                    85     14    California        North Coast North Coast\n",
       "2410 Sallier de la Tour 85     13    Sicily & Sardinia Sicilia                \n",
       "     taster_name    variety    winery          \n",
       "2409 Virginie Boone Chardonnay Souverain       \n",
       "2410                Grillo     Tasca d'Almerita"
      ]
     },
     "metadata": {},
     "output_type": "display_data"
    }
   ],
   "source": [
    "library(ggplot2)\n",
    "# Unwichtige Spalten fallen lassen\n",
    "data_eda2 <- data_eda[, c(\"country\", \"description\", \"designation\", \"points\", \"price\",\"province\",\"region_1\",\"region_2\",\"taster_name\",\"variety\",\"winery\")]\n",
    "\n",
    "# Duplikate erkennen\n",
    "table(duplicated(data_eda2)) \n",
    "duplicated_rows <- data_eda2[duplicated(data_eda2), ]\n",
    "dim(duplicated_rows)\n",
    "head(duplicated_rows,2)"
   ]
  },
  {
   "cell_type": "code",
   "execution_count": 4,
   "id": "2a727935-ffec-4c23-a4e3-6bafd5961c5b",
   "metadata": {},
   "outputs": [
    {
     "data": {
      "text/html": [
       "<style>\n",
       ".dl-inline {width: auto; margin:0; padding: 0}\n",
       ".dl-inline>dt, .dl-inline>dd {float: none; width: auto; display: inline-block}\n",
       ".dl-inline>dt::after {content: \":\\0020\"; padding-right: .5ex}\n",
       ".dl-inline>dt:not(:first-of-type) {padding-left: .5ex}\n",
       "</style><dl class=dl-inline><dt>country</dt><dd>0</dd><dt>description</dt><dd>0</dd><dt>designation</dt><dd>0</dd><dt>points</dt><dd>0</dd><dt>price</dt><dd>8996</dd><dt>province</dt><dd>0</dd><dt>region</dt><dd>0</dd><dt>subregion</dt><dd>0</dd><dt>taster_name</dt><dd>0</dd><dt>variety</dt><dd>0</dd><dt>winery</dt><dd>0</dd></dl>\n"
      ],
      "text/latex": [
       "\\begin{description*}\n",
       "\\item[country] 0\n",
       "\\item[description] 0\n",
       "\\item[designation] 0\n",
       "\\item[points] 0\n",
       "\\item[price] 8996\n",
       "\\item[province] 0\n",
       "\\item[region] 0\n",
       "\\item[subregion] 0\n",
       "\\item[taster\\textbackslash{}\\_name] 0\n",
       "\\item[variety] 0\n",
       "\\item[winery] 0\n",
       "\\end{description*}\n"
      ],
      "text/markdown": [
       "country\n",
       ":   0description\n",
       ":   0designation\n",
       ":   0points\n",
       ":   0price\n",
       ":   8996province\n",
       ":   0region\n",
       ":   0subregion\n",
       ":   0taster_name\n",
       ":   0variety\n",
       ":   0winery\n",
       ":   0\n",
       "\n"
      ],
      "text/plain": [
       "    country description designation      points       price    province \n",
       "          0           0           0           0        8996           0 \n",
       "     region   subregion taster_name     variety      winery \n",
       "          0           0           0           0           0 "
      ]
     },
     "metadata": {},
     "output_type": "display_data"
    }
   ],
   "source": [
    "# Namen der Spalten ändern\n",
    "names(data_eda2)[names(data_eda2) == \"region_1\"] <- \"region\"\n",
    "names(data_eda2)[names(data_eda2) == \"region_2\"] <- \"subregion\"\n",
    "\n",
    "# Fehlende Werte fallen lassen, imputieren\n",
    "sapply(data_eda2, function(x) sum(is.na(x)))"
   ]
  },
  {
   "cell_type": "code",
   "execution_count": 5,
   "id": "00515505-f7a6-47d5-a770-877835005ae0",
   "metadata": {},
   "outputs": [
    {
     "data": {
      "image/png": "[encoded data removed]",
      "text/plain": [
       "plot without title"
      ]
     },
     "metadata": {
      "image/png": {
       "height": 420,
       "width": 420
      }
     },
     "output_type": "display_data"
    }
   ],
   "source": [
    "library(gridExtra)\n",
    "value_imputed <- data.frame(\n",
    "  original = data_eda2$price,\n",
    "  imputed_mean = replace(data_eda2$price, is.na(data_eda2$price), mean(data_eda2$price, na.rm = TRUE)),\n",
    "  imputed_median = replace(data_eda2$price, is.na(data_eda2$price),\n",
    "  median(data_eda2$price, na.rm = TRUE)))\n",
    "                           \n",
    "original <- suppressWarnings(ggplot(value_imputed, aes(x = original)) +\n",
    "  geom_histogram(binwidth = 5) + xlim(0,350) +\n",
    "  ggtitle(\"Original\"))\n",
    "\n",
    "mean_imputed <- suppressWarnings(ggplot(value_imputed, aes(x = imputed_mean)) +\n",
    "  geom_histogram(binwidth = 5) + xlim(0,350) +\n",
    "  ggtitle(\"Mittelwert imputierte Werte\"))\n",
    "\n",
    "median_imputed <- suppressWarnings(ggplot(value_imputed, aes(x = imputed_median)) +\n",
    "  geom_histogram(binwidth = 5) + xlim(0,350) +\n",
    "  ggtitle(\"Median imputierte Werte\"))\n",
    "\n",
    "suppressWarnings(grid.arrange(original, mean_imputed, median_imputed, ncol = 2))"
   ]
  },
  {
   "cell_type": "markdown",
   "id": "8594af96-ffea-45fa-8c33-b3eb4c621327",
   "metadata": {},
   "source": [
    "#### Resultate der Anpassungsschritte\n",
    "<div style=\"text-align: justify;\">\n",
    "\n",
    "-   Die Spalte taster_twitter wird nicht weiter verwendet. Je nach Fragestellung ist eine Spalte mehr oder weniger wichtig. Insgesamt gesehen, könnte man so auch nachträglich weitere Fragen stellen, somit spricht dies für den Erhalt der Spalten.\n",
    "\n",
    "-   Es gibt 9984 Duplikate im Datensatz. Hierbei handelt es sich aber um Zeilen, die teilweise übereinstimmende Werte haben. Beipsiel die Punkteanzahl von 85. Da das Feld Beschreibung üblicherweise immer ein Unikat ist, kann man auch nie reine Duplikate erkennen. Somit gibt es hier kein reinen Duplikate.\n",
    "\n",
    "-   Bei der Spalte Preise gibt es  8996 NA Werte. Die Idee ist nun das Histogramm anzusehen, dies ohne Imputation und mit Imputation. Die Berechnungen sind der Mittelwert und der Median.\n",
    "    \n",
    "-   Es gibt sehr hohe Preise für Weine (Beispiel 3300). Diese werden eher bei den Outliers behandelt. Hier geht es in erster Linie um die Imputation und die Auswirkungen davon.\n",
    "\n",
    "-   Die Mittelwert Imputation würde bei dem Bin 7 eine Erhöung von 7457 auf 16453 bedeuten.Die Bin Weite ist 5, 7\\*5 ist 35. Somit gibt es einen Anstieg der Weine mit den Preisen zwischen 30 USD und 35 USD um 8996.\n",
    "\n",
    "-   Die Median Imputation würde bei dem Bin 5 eine Erhöhung von 13245 auf 22241 bedeuten. Die Bin Weite ist 5, 5\\*5 ist 25. Somit gibt es einen Anstieg der Weine mit den Preisen zwischen 20 USD und 25 USD.\n",
    "\n",
    "-   Wie nun diese Imputationen dann richtige oder eher falsche Ergebnisse erzielen, könnte man weiterhin untersuchen, würde aber etwas den Rahme der Arbeit sprengen, da es sich nur um eine Teilarbeit handelt, die Auswirkungen von Imputation liegt nicht im Fokus der Semesterarbeit.\n",
    "\n",
    "-   Da nur die Preise teilweise fehlen, aber alle anderen 14 Features keine NA Werter aufweisen, werden wir nicht imputieren und die Zeilen auch nicht fallen gelassen. Ebenfalls für die Fragestellung ist dies Spalte weniger relevant.\n",
    "</div>"
   ]
  },
  {
   "cell_type": "markdown",
   "id": "0826d1ab-dba6-4946-a0aa-0e4f8b1b302a",
   "metadata": {},
   "source": [
    "### Outliers bei Punkte und Preise und Korrelation\n",
    "<div style=\"text-align: justify;\">\n",
    "Outliers bei den Punkte und Preisen werden anhand von Boxplots erkannst. Mit dem upper und lower boudn können dann die Outliers aus dem Datensatz gelesen werden. Die Prüfung der Korrelation soll anschliessend mehr über den Zusammenhang von Punkte und Preise zeigen.\n",
    "</div>"
   ]
  },
  {
   "cell_type": "code",
   "execution_count": 6,
   "id": "411dd0f8-da4b-4440-ae8a-e772678b5543",
   "metadata": {},
   "outputs": [
    {
     "data": {
      "text/plain": [
       "   Min. 1st Qu.  Median    Mean 3rd Qu.    Max. \n",
       "  80.00   86.00   88.00   88.45   91.00  100.00 "
      ]
     },
     "metadata": {},
     "output_type": "display_data"
    },
    {
     "data": {
      "text/html": [
       "<strong>75%:</strong> 98.5"
      ],
      "text/latex": [
       "\\textbf{75\\textbackslash{}\\%:} 98.5"
      ],
      "text/markdown": [
       "**75%:** 98.5"
      ],
      "text/plain": [
       " 75% \n",
       "98.5 "
      ]
     },
     "metadata": {},
     "output_type": "display_data"
    },
    {
     "data": {
      "text/html": [
       "<strong>25%:</strong> 78.5"
      ],
      "text/latex": [
       "\\textbf{25\\textbackslash{}\\%:} 78.5"
      ],
      "text/markdown": [
       "**25%:** 78.5"
      ],
      "text/plain": [
       " 25% \n",
       "78.5 "
      ]
     },
     "metadata": {},
     "output_type": "display_data"
    },
    {
     "data": {
      "image/png": "[encoded data removed]",
      "text/plain": [
       "plot without title"
      ]
     },
     "metadata": {
      "image/png": {
       "height": 420,
       "width": 420
      }
     },
     "output_type": "display_data"
    }
   ],
   "source": [
    "# Darstellung und Umgang mit Outliers (Boxplot) Punkte\n",
    "# Boxplot Punkte\n",
    "boxplot(data_eda2$points, xlab=\"Punkte\")\n",
    "summary(data_eda2$points)\n",
    "q3_points <- quantile(data_eda2$points, 0.75)\n",
    "iqr_points <- IQR(data_eda2$points)\n",
    "upper_bound_points <- q3_points + 1.5*iqr_points\n",
    "upper_bound_points\n",
    "q1_points <- quantile(data_eda2$points, 0.25)\n",
    "lower_bound_points <- q1_points - 1.5*iqr_points\n",
    "lower_bound_points"
   ]
  },
  {
   "cell_type": "code",
   "execution_count": 7,
   "id": "95d2fc48-60a9-4c00-81ee-0874bbfc6ebc",
   "metadata": {},
   "outputs": [
    {
     "data": {
      "text/html": [
       "0"
      ],
      "text/latex": [
       "0"
      ],
      "text/markdown": [
       "0"
      ],
      "text/plain": [
       "[1] 0"
      ]
     },
     "metadata": {},
     "output_type": "display_data"
    },
    {
     "data": {
      "text/html": [
       "<table class=\"dataframe\">\n",
       "<caption>A data.frame: 2 × 11</caption>\n",
       "<thead>\n",
       "\t<tr><th></th><th scope=col>country</th><th scope=col>description</th><th scope=col>designation</th><th scope=col>points</th><th scope=col>price</th><th scope=col>province</th><th scope=col>region</th><th scope=col>subregion</th><th scope=col>taster_name</th><th scope=col>variety</th><th scope=col>winery</th></tr>\n",
       "\t<tr><th></th><th scope=col>&lt;chr&gt;</th><th scope=col>&lt;chr&gt;</th><th scope=col>&lt;chr&gt;</th><th scope=col>&lt;int&gt;</th><th scope=col>&lt;int&gt;</th><th scope=col>&lt;chr&gt;</th><th scope=col>&lt;chr&gt;</th><th scope=col>&lt;chr&gt;</th><th scope=col>&lt;chr&gt;</th><th scope=col>&lt;chr&gt;</th><th scope=col>&lt;chr&gt;</th></tr>\n",
       "</thead>\n",
       "<tbody>\n",
       "\t<tr><th scope=row>346</th><td>Australia</td><td>This wine contains some material over 100 years old, but shows no signs of fragility. Instead, it's concentrated through age and should hold in the bottle indefinitely. It's dark coffee-brown in color, with delectable aromas of rancio, dried fig, molasses and black tea, yet despite enormous concentration avoids excessive weight. And it's amazingly complex and fresh on the nearly endless finish.</td><td>Rare</td><td>100</td><td>350</td><td>Victoria  </td><td>Rutherglen          </td><td>               </td><td>Joe Czerwinski</td><td>Muscat            </td><td>Chambers Rosewood Vineyards</td></tr>\n",
       "\t<tr><th scope=row>1557</th><td>US       </td><td>The flagship wine from Quilceda Creek offers exotic scents of plum, cassis, loam, coffee and pine sap, a rich and evocative blend. The wine delivers all that is promised and more; it is deep and dense with flavor, polished, focused and persistent. Vanilla, espresso, fine tannins, luscious acids and cascading fruits.                                                                                </td><td>    </td><td> 99</td><td>125</td><td>Washington</td><td>Columbia Valley (WA)</td><td>Columbia Valley</td><td>Paul Gregutt  </td><td>Cabernet Sauvignon</td><td>Quilceda Creek             </td></tr>\n",
       "</tbody>\n",
       "</table>\n"
      ],
      "text/latex": [
       "A data.frame: 2 × 11\n",
       "\\begin{tabular}{r|lllllllllll}\n",
       "  & country & description & designation & points & price & province & region & subregion & taster\\_name & variety & winery\\\\\n",
       "  & <chr> & <chr> & <chr> & <int> & <int> & <chr> & <chr> & <chr> & <chr> & <chr> & <chr>\\\\\n",
       "\\hline\n",
       "\t346 & Australia & This wine contains some material over 100 years old, but shows no signs of fragility. Instead, it's concentrated through age and should hold in the bottle indefinitely. It's dark coffee-brown in color, with delectable aromas of rancio, dried fig, molasses and black tea, yet despite enormous concentration avoids excessive weight. And it's amazingly complex and fresh on the nearly endless finish. & Rare & 100 & 350 & Victoria   & Rutherglen           &                 & Joe Czerwinski & Muscat             & Chambers Rosewood Vineyards\\\\\n",
       "\t1557 & US        & The flagship wine from Quilceda Creek offers exotic scents of plum, cassis, loam, coffee and pine sap, a rich and evocative blend. The wine delivers all that is promised and more; it is deep and dense with flavor, polished, focused and persistent. Vanilla, espresso, fine tannins, luscious acids and cascading fruits.                                                                                 &      &  99 & 125 & Washington & Columbia Valley (WA) & Columbia Valley & Paul Gregutt   & Cabernet Sauvignon & Quilceda Creek             \\\\\n",
       "\\end{tabular}\n"
      ],
      "text/markdown": [
       "\n",
       "A data.frame: 2 × 11\n",
       "\n",
       "| <!--/--> | country &lt;chr&gt; | description &lt;chr&gt; | designation &lt;chr&gt; | points &lt;int&gt; | price &lt;int&gt; | province &lt;chr&gt; | region &lt;chr&gt; | subregion &lt;chr&gt; | taster_name &lt;chr&gt; | variety &lt;chr&gt; | winery &lt;chr&gt; |\n",
       "|---|---|---|---|---|---|---|---|---|---|---|---|\n",
       "| 346 | Australia | This wine contains some material over 100 years old, but shows no signs of fragility. Instead, it's concentrated through age and should hold in the bottle indefinitely. It's dark coffee-brown in color, with delectable aromas of rancio, dried fig, molasses and black tea, yet despite enormous concentration avoids excessive weight. And it's amazingly complex and fresh on the nearly endless finish. | Rare | 100 | 350 | Victoria   | Rutherglen           | <!----> | Joe Czerwinski | Muscat             | Chambers Rosewood Vineyards |\n",
       "| 1557 | US        | The flagship wine from Quilceda Creek offers exotic scents of plum, cassis, loam, coffee and pine sap, a rich and evocative blend. The wine delivers all that is promised and more; it is deep and dense with flavor, polished, focused and persistent. Vanilla, espresso, fine tannins, luscious acids and cascading fruits.                                                                                 | <!----> |  99 | 125 | Washington | Columbia Valley (WA) | Columbia Valley | Paul Gregutt   | Cabernet Sauvignon | Quilceda Creek              |\n",
       "\n"
      ],
      "text/plain": [
       "     country  \n",
       "346  Australia\n",
       "1557 US       \n",
       "     description                                                                                                                                                                                                                                                                                                                                                                                                  \n",
       "346  This wine contains some material over 100 years old, but shows no signs of fragility. Instead, it's concentrated through age and should hold in the bottle indefinitely. It's dark coffee-brown in color, with delectable aromas of rancio, dried fig, molasses and black tea, yet despite enormous concentration avoids excessive weight. And it's amazingly complex and fresh on the nearly endless finish.\n",
       "1557 The flagship wine from Quilceda Creek offers exotic scents of plum, cassis, loam, coffee and pine sap, a rich and evocative blend. The wine delivers all that is promised and more; it is deep and dense with flavor, polished, focused and persistent. Vanilla, espresso, fine tannins, luscious acids and cascading fruits.                                                                                \n",
       "     designation points price province   region               subregion      \n",
       "346  Rare        100    350   Victoria   Rutherglen                          \n",
       "1557              99    125   Washington Columbia Valley (WA) Columbia Valley\n",
       "     taster_name    variety            winery                     \n",
       "346  Joe Czerwinski Muscat             Chambers Rosewood Vineyards\n",
       "1557 Paul Gregutt   Cabernet Sauvignon Quilceda Creek             "
      ]
     },
     "metadata": {},
     "output_type": "display_data"
    },
    {
     "data": {
      "text/html": [
       "<style>\n",
       ".list-inline {list-style: none; margin:0; padding: 0}\n",
       ".list-inline>li {display: inline-block}\n",
       ".list-inline>li:not(:last-child)::after {content: \"\\00b7\"; padding: 0 .5ex}\n",
       "</style>\n",
       "<ol class=list-inline><li>52</li><li>11</li></ol>\n"
      ],
      "text/latex": [
       "\\begin{enumerate*}\n",
       "\\item 52\n",
       "\\item 11\n",
       "\\end{enumerate*}\n"
      ],
      "text/markdown": [
       "1. 52\n",
       "2. 11\n",
       "\n",
       "\n"
      ],
      "text/plain": [
       "[1] 52 11"
      ]
     },
     "metadata": {},
     "output_type": "display_data"
    }
   ],
   "source": [
    "# Empty values\n",
    "sum(is.na(data_eda2$points))\n",
    "\n",
    "# Select Outliers Punkte\n",
    "outliers_points <- data_eda2[data_eda2$points >= 98.5, ]\n",
    "head(outliers_points,2)\n",
    "dim(outliers_points)"
   ]
  },
  {
   "cell_type": "markdown",
   "id": "d9d17f88-e2ec-4f06-9496-43de06cca697",
   "metadata": {},
   "source": [
    "<div style=\"text-align: justify;\">\n",
    "\n",
    "-   Die Spalte Punkte hat keine leeren Werte, und es gibt 52 Outliers, die alle über dem upper bound von 98.5 liegen.\n",
    "\n",
    "</div>"
   ]
  },
  {
   "cell_type": "code",
   "execution_count": 8,
   "id": "4e65c0eb-da7c-4f3a-aa1e-a6c73b7c0e36",
   "metadata": {},
   "outputs": [
    {
     "data": {
      "text/plain": [
       "   Min. 1st Qu.  Median    Mean 3rd Qu.    Max.    NA's \n",
       "   4.00   17.00   25.00   35.36   42.00 3300.00    8996 "
      ]
     },
     "metadata": {},
     "output_type": "display_data"
    },
    {
     "data": {
      "text/html": [
       "<strong>75%:</strong> 79.5"
      ],
      "text/latex": [
       "\\textbf{75\\textbackslash{}\\%:} 79.5"
      ],
      "text/markdown": [
       "**75%:** 79.5"
      ],
      "text/plain": [
       " 75% \n",
       "79.5 "
      ]
     },
     "metadata": {},
     "output_type": "display_data"
    },
    {
     "data": {
      "text/html": [
       "<strong>25%:</strong> -20.5"
      ],
      "text/latex": [
       "\\textbf{25\\textbackslash{}\\%:} -20.5"
      ],
      "text/markdown": [
       "**25%:** -20.5"
      ],
      "text/plain": [
       "  25% \n",
       "-20.5 "
      ]
     },
     "metadata": {},
     "output_type": "display_data"
    },
    {
     "data": {
      "image/png": "[encoded data removed]",
      "text/plain": [
       "plot without title"
      ]
     },
     "metadata": {
      "image/png": {
       "height": 420,
       "width": 420
      }
     },
     "output_type": "display_data"
    }
   ],
   "source": [
    "# Darstellung und Umgang mit Outliers (Boxplot) Preis\n",
    "# Boxplot Preis\n",
    "boxplot(data_eda2$price, xlab=\"Preis\")\n",
    "summary(data_eda2$price)\n",
    "q3_price <- quantile(data_eda2$price, 0.75, na.rm=TRUE)\n",
    "iqr_price <- IQR(data_eda2$price, na.rm=TRUE)\n",
    "upper_bound_price <- q3_price + 1.5*iqr_price\n",
    "upper_bound_price\n",
    "q1_price <- quantile(data_eda2$price, 0.25, , na.rm=TRUE)\n",
    "lower_bound_price <- q1_price - 1.5*iqr_price\n",
    "lower_bound_price"
   ]
  },
  {
   "cell_type": "code",
   "execution_count": 9,
   "id": "0bd458e5-20a1-4614-9669-f8548911a171",
   "metadata": {},
   "outputs": [
    {
     "data": {
      "text/html": [
       "8996"
      ],
      "text/latex": [
       "8996"
      ],
      "text/markdown": [
       "8996"
      ],
      "text/plain": [
       "[1] 8996"
      ]
     },
     "metadata": {},
     "output_type": "display_data"
    },
    {
     "data": {
      "text/html": [
       "<table class=\"dataframe\">\n",
       "<caption>A data.frame: 2 × 11</caption>\n",
       "<thead>\n",
       "\t<tr><th></th><th scope=col>country</th><th scope=col>description</th><th scope=col>designation</th><th scope=col>points</th><th scope=col>price</th><th scope=col>province</th><th scope=col>region</th><th scope=col>subregion</th><th scope=col>taster_name</th><th scope=col>variety</th><th scope=col>winery</th></tr>\n",
       "\t<tr><th></th><th scope=col>&lt;chr&gt;</th><th scope=col>&lt;chr&gt;</th><th scope=col>&lt;chr&gt;</th><th scope=col>&lt;int&gt;</th><th scope=col>&lt;int&gt;</th><th scope=col>&lt;chr&gt;</th><th scope=col>&lt;chr&gt;</th><th scope=col>&lt;chr&gt;</th><th scope=col>&lt;chr&gt;</th><th scope=col>&lt;chr&gt;</th><th scope=col>&lt;chr&gt;</th></tr>\n",
       "</thead>\n",
       "<tbody>\n",
       "\t<tr><th scope=row>129932</th><td>France</td><td>A powerful, chunky wine, packed with solid tannins that promise good aging. It has a sense of drama in its spice, dark tannins and spacious fruit. This is going to develop well over 5–10 years.</td><td>  </td><td>91</td><td>107</td><td>Burgundy</td><td>Grands-Echezeaux</td><td>  </td><td>Roger Voss</td><td>Pinot Noir</td><td>Henri de Villamont</td></tr>\n",
       "\t<tr><th scope=row>NA.8995</th><td>NA    </td><td>NA                                                                                                                                                                                               </td><td>NA</td><td>NA</td><td> NA</td><td>NA      </td><td>NA              </td><td>NA</td><td>NA        </td><td>NA        </td><td>NA                </td></tr>\n",
       "</tbody>\n",
       "</table>\n"
      ],
      "text/latex": [
       "A data.frame: 2 × 11\n",
       "\\begin{tabular}{r|lllllllllll}\n",
       "  & country & description & designation & points & price & province & region & subregion & taster\\_name & variety & winery\\\\\n",
       "  & <chr> & <chr> & <chr> & <int> & <int> & <chr> & <chr> & <chr> & <chr> & <chr> & <chr>\\\\\n",
       "\\hline\n",
       "\t129932 & France & A powerful, chunky wine, packed with solid tannins that promise good aging. It has a sense of drama in its spice, dark tannins and spacious fruit. This is going to develop well over 5–10 years. &    & 91 & 107 & Burgundy & Grands-Echezeaux &    & Roger Voss & Pinot Noir & Henri de Villamont\\\\\n",
       "\tNA.8995 & NA     & NA                                                                                                                                                                                                & NA & NA &  NA & NA       & NA               & NA & NA         & NA         & NA                \\\\\n",
       "\\end{tabular}\n"
      ],
      "text/markdown": [
       "\n",
       "A data.frame: 2 × 11\n",
       "\n",
       "| <!--/--> | country &lt;chr&gt; | description &lt;chr&gt; | designation &lt;chr&gt; | points &lt;int&gt; | price &lt;int&gt; | province &lt;chr&gt; | region &lt;chr&gt; | subregion &lt;chr&gt; | taster_name &lt;chr&gt; | variety &lt;chr&gt; | winery &lt;chr&gt; |\n",
       "|---|---|---|---|---|---|---|---|---|---|---|---|\n",
       "| 129932 | France | A powerful, chunky wine, packed with solid tannins that promise good aging. It has a sense of drama in its spice, dark tannins and spacious fruit. This is going to develop well over 5–10 years. | <!----> | 91 | 107 | Burgundy | Grands-Echezeaux | <!----> | Roger Voss | Pinot Noir | Henri de Villamont |\n",
       "| NA.8995 | NA     | NA                                                                                                                                                                                                | NA | NA |  NA | NA       | NA               | NA | NA         | NA         | NA                 |\n",
       "\n"
      ],
      "text/plain": [
       "        country\n",
       "129932  France \n",
       "NA.8995 NA     \n",
       "        description                                                                                                                                                                                      \n",
       "129932  A powerful, chunky wine, packed with solid tannins that promise good aging. It has a sense of drama in its spice, dark tannins and spacious fruit. This is going to develop well over 5–10 years.\n",
       "NA.8995 NA                                                                                                                                                                                               \n",
       "        designation points price province region           subregion\n",
       "129932              91     107   Burgundy Grands-Echezeaux          \n",
       "NA.8995 NA          NA      NA   NA       NA               NA       \n",
       "        taster_name variety    winery            \n",
       "129932  Roger Voss  Pinot Noir Henri de Villamont\n",
       "NA.8995 NA          NA         NA                "
      ]
     },
     "metadata": {},
     "output_type": "display_data"
    },
    {
     "data": {
      "text/html": [
       "<style>\n",
       ".list-inline {list-style: none; margin:0; padding: 0}\n",
       ".list-inline>li {display: inline-block}\n",
       ".list-inline>li:not(:last-child)::after {content: \"\\00b7\"; padding: 0 .5ex}\n",
       "</style>\n",
       "<ol class=list-inline><li>16237</li><li>11</li></ol>\n"
      ],
      "text/latex": [
       "\\begin{enumerate*}\n",
       "\\item 16237\n",
       "\\item 11\n",
       "\\end{enumerate*}\n"
      ],
      "text/markdown": [
       "1. 16237\n",
       "2. 11\n",
       "\n",
       "\n"
      ],
      "text/plain": [
       "[1] 16237    11"
      ]
     },
     "metadata": {},
     "output_type": "display_data"
    }
   ],
   "source": [
    "# Empty values\n",
    "sum(is.na(data_eda2$price))\n",
    "\n",
    "# Select Outliers Preis\n",
    "outliers_price <- data_eda2[data_eda2$price >= 79.5, ]\n",
    "tail(outliers_price,2)\n",
    "dim(outliers_price)"
   ]
  },
  {
   "cell_type": "markdown",
   "id": "33f4ec16-39ea-4578-8aa7-88eda2264529",
   "metadata": {},
   "source": [
    "<div style=\"text-align: justify;\">\n",
    "\n",
    "-   Die Spalte Punkte hat 8996 leere Werte, und es gibt 16237 Outliers, die alle über dem upper bound von 79.5 liegen.\n",
    "\n",
    "</div>"
   ]
  },
  {
   "cell_type": "code",
   "execution_count": 10,
   "id": "42ccb401-77ea-4821-af42-c8330fccd993",
   "metadata": {},
   "outputs": [
    {
     "name": "stdout",
     "output_type": "stream",
     "text": [
      "[1] 0.4161667\n"
     ]
    },
    {
     "name": "stderr",
     "output_type": "stream",
     "text": [
      "\u001b[1m\u001b[22m`geom_smooth()` using formula = 'y ~ x'\n"
     ]
    },
    {
     "data": {
      "image/png": "[encoded data removed]",
      "text/plain": [
       "plot without title"
      ]
     },
     "metadata": {
      "image/png": {
       "height": 420,
       "width": 420
      }
     },
     "output_type": "display_data"
    }
   ],
   "source": [
    "# Überprüfung der Korrelation mit einem Scatterplot\n",
    "numeric_data <- data_eda2[, c(\"points\", \"price\")]\n",
    "numeric_data <- na.omit(numeric_data)\n",
    "correlation <- cor(numeric_data$points, numeric_data$price, use = \"complete.obs\")\n",
    "print(correlation)\n",
    "\n",
    "suppressWarnings(print(ggplot(numeric_data, aes(x = price, y = points)) +\n",
    "  geom_point() +\n",
    "  geom_smooth(method = \"lm\", col = \"blue\") + \n",
    "  labs(title = \"Scatterplot of Points vs Price\", x = \"Price\", y = \"Points\") +\n",
    "  xlim(0,500) +\n",
    "  ylim(80,100)))"
   ]
  },
  {
   "cell_type": "markdown",
   "id": "5f767fa3-5a54-4d99-8730-f599c62ae3c9",
   "metadata": {},
   "source": [
    "### Resultate Outliers bei Punkte und Preise und Korrelation\n",
    "<div style=\"text-align: justify;\">\n",
    "\n",
    "Resultat für die Spalte Punkte:\n",
    "\n",
    "-   Mit dem IQR kann bestimmt werden, was sich noch in dem Boxplot und in den Whiskers befindet. Hier ist 98.5 als upper bound berechnet. Alles was über 98.5 liegt sind Outliers. Die Punktzahl 99 und 100 ist nun nicht besonders weit entfernt von 98.5, daher ist es fraglich, ob man diese trotzdem Outliers nennen kann, obwohl die Rechnung es beweist.\n",
    "\n",
    "-   Der lower bound liegt bei 78.5, hier gibt es keine Outliers, denn das Minimum an Punkten die erreicht werden können ist 80.\n",
    "\n",
    "-   Aus dem Summary kann man erkennen, dass das Minimum 80 und das Maximum 100 beträgt. 52 Einträge (Zeilen) sind somit Outliers, siehe dim.\n",
    "\n",
    "-   Will man nun die Outliers, die über den upper bound gehen löschen? Auf keinen Fall, es handelt sich hierbei um Weine, die die höchste Punktzahl erreicht haben. Es wäre noch interessant zu erfahren, warum diese Weine derart hoch ausgezeichnet werden. Dies in einem nächsten Schritt.\n",
    "\n",
    "Resultat für die Spalte Preise:\n",
    "\n",
    "-   Mit dem IQR kann bestimmt werden, was sich noch in dem Boxplot und in den Whiskers befindet. Hier ist 79.5 als upper bound berechnet. Alles was über 79.5 liegt sind Outliers. 7241 von 129971 sind Outliers. Der lower bound beträgt -20.5. Die kleinste Preis ist 4 und logischerweise wird kein Wein gratis verkauft. Somit gibt es keine Outliers in diesem Bereich. Aus dem Summary kann man erkennen, dass das Minimum 4 und das Maximum 3300 beträgt.\n",
    "\n",
    "-   Will man nun die Outliers, die über den upper bound gehen löschen? Auf keinen Fall, es handelt sich hierbei um Weine, die nebst der hohen Punktzahl auch einen hohen Preis erzielt haben. Es wäre noch interessant zu erfahren, warum diese Weine derart hoch ausgezeichnet werden. Dies in einem nächsten Schritt.\n",
    "\n",
    "-   Es ist anzumerken, dass 8996 Werte in dem Boxplot ignoriert sind, weil diese NA Werte aufweisen. 7241 Werte werden als Outliers gekennzeichnet, ev. könnte man diese ignorieren. Jedoch können Outliers auch so wichtige Informationen liefern. Wie nun die vorangegangene Imputation die Resultate hätte verändern können bedarf einer weiteren Untersuchung. Ist hier aber out-of-scope. Ebenfalls out-of-scope ist die Untersuchung des Modell, sollte man hier die Outliers ignorieren wollen.\n",
    "\n",
    "Resultat der Korrelation:\n",
    "\n",
    "-   Mit eine Wert von 0.4161667 kann gesagt werden, dass eher keine Korrelation vorliegt. Es ist näher zu 0 als zu 1 oder -1. Man kann erkennen, dass eine höhere Punktzahl auch einen höheren Preis bedeutet. Es gitb aber viele kostengünstigere Weine, die eine hohe Punktzahl erhalten und umgekehrt.\n",
    "\n",
    "Resultat des Scatterplots, das die Ergebnisse der Korrelation weiter unterstütz:\n",
    "\n",
    "-   Es ist interessant zu sehen, dass eine hohe Anzahl an Punkten nicht immer auch einen hohen Preis bedeutet. Der eine 3300 US Dollar hat eine Punktzahl von 88 und kommt aus Frankreich, Bordeaux (visuell aus der Tabelle). Der eine 350 US Dollar hat eine Punktzahl von 100 und kommt aus Australien Victoria (visuell aus der Tabelle). Zu erkennen ist eine Zunahme des Preises mit der Zunahme der Punkte. 94, 95, 96 und 97 sind das zu erreichende Maximum, danach folgt eine Abnahme\n",
    "</div>"
   ]
  },
  {
   "cell_type": "markdown",
   "id": "accd907d-0f1c-4271-bc98-ed5bd5efa22b",
   "metadata": {},
   "source": [
    "### Fragen beantworten\n",
    "<div style=\"text-align: justify;\">\n",
    "\n",
    "-   Welches Land erhält die höchste/niedrigste Punktzahl und aus welcher Provinz kommen diese Weine her? ACHTUNG: Mit head gekürzt um die erlaubten 100 Seiten erreichen zu können.\n",
    "-   Welche Degustierende kommen häufig vor und wo bewegen sich diese hauptsächlich.\n",
    "</div>"
   ]
  },
  {
   "cell_type": "code",
   "execution_count": 11,
   "id": "175f0aca-c081-4470-bd44-73be8de433ac",
   "metadata": {},
   "outputs": [
    {
     "data": {
      "text/html": [
       "<table class=\"dataframe\">\n",
       "<caption>A data.frame: 6 × 3</caption>\n",
       "<thead>\n",
       "\t<tr><th></th><th scope=col>country</th><th scope=col>province</th><th scope=col>points</th></tr>\n",
       "\t<tr><th></th><th scope=col>&lt;chr&gt;</th><th scope=col>&lt;chr&gt;</th><th scope=col>&lt;int&gt;</th></tr>\n",
       "</thead>\n",
       "<tbody>\n",
       "\t<tr><th scope=row>346</th><td>Australia</td><td>Victoria </td><td>100</td></tr>\n",
       "\t<tr><th scope=row>7336</th><td>Italy    </td><td>Tuscany  </td><td>100</td></tr>\n",
       "\t<tr><th scope=row>36529</th><td>France   </td><td>Champagne</td><td>100</td></tr>\n",
       "\t<tr><th scope=row>39287</th><td>Italy    </td><td>Tuscany  </td><td>100</td></tr>\n",
       "\t<tr><th scope=row>42198</th><td>Portugal </td><td>Douro    </td><td>100</td></tr>\n",
       "\t<tr><th scope=row>45782</th><td>Italy    </td><td>Tuscany  </td><td>100</td></tr>\n",
       "</tbody>\n",
       "</table>\n"
      ],
      "text/latex": [
       "A data.frame: 6 × 3\n",
       "\\begin{tabular}{r|lll}\n",
       "  & country & province & points\\\\\n",
       "  & <chr> & <chr> & <int>\\\\\n",
       "\\hline\n",
       "\t346 & Australia & Victoria  & 100\\\\\n",
       "\t7336 & Italy     & Tuscany   & 100\\\\\n",
       "\t36529 & France    & Champagne & 100\\\\\n",
       "\t39287 & Italy     & Tuscany   & 100\\\\\n",
       "\t42198 & Portugal  & Douro     & 100\\\\\n",
       "\t45782 & Italy     & Tuscany   & 100\\\\\n",
       "\\end{tabular}\n"
      ],
      "text/markdown": [
       "\n",
       "A data.frame: 6 × 3\n",
       "\n",
       "| <!--/--> | country &lt;chr&gt; | province &lt;chr&gt; | points &lt;int&gt; |\n",
       "|---|---|---|---|\n",
       "| 346 | Australia | Victoria  | 100 |\n",
       "| 7336 | Italy     | Tuscany   | 100 |\n",
       "| 36529 | France    | Champagne | 100 |\n",
       "| 39287 | Italy     | Tuscany   | 100 |\n",
       "| 42198 | Portugal  | Douro     | 100 |\n",
       "| 45782 | Italy     | Tuscany   | 100 |\n",
       "\n"
      ],
      "text/plain": [
       "      country   province  points\n",
       "346   Australia Victoria  100   \n",
       "7336  Italy     Tuscany   100   \n",
       "36529 France    Champagne 100   \n",
       "39287 Italy     Tuscany   100   \n",
       "42198 Portugal  Douro     100   \n",
       "45782 Italy     Tuscany   100   "
      ]
     },
     "metadata": {},
     "output_type": "display_data"
    },
    {
     "data": {
      "text/html": [
       "<table class=\"dataframe\">\n",
       "<caption>A data.frame: 6 × 3</caption>\n",
       "<thead>\n",
       "\t<tr><th></th><th scope=col>country</th><th scope=col>province</th><th scope=col>points</th></tr>\n",
       "\t<tr><th></th><th scope=col>&lt;chr&gt;</th><th scope=col>&lt;chr&gt;</th><th scope=col>&lt;int&gt;</th></tr>\n",
       "</thead>\n",
       "<tbody>\n",
       "\t<tr><th scope=row>345</th><td>Chile    </td><td>Leyda Valley    </td><td>80</td></tr>\n",
       "\t<tr><th scope=row>3641</th><td>Portugal </td><td>Vinho Verde     </td><td>80</td></tr>\n",
       "\t<tr><th scope=row>3642</th><td>Chile    </td><td>Maule Valley    </td><td>80</td></tr>\n",
       "\t<tr><th scope=row>4557</th><td>Italy    </td><td>Central Italy   </td><td>80</td></tr>\n",
       "\t<tr><th scope=row>4558</th><td>Spain    </td><td>Catalonia       </td><td>80</td></tr>\n",
       "\t<tr><th scope=row>5906</th><td>Argentina</td><td>Mendoza Province</td><td>80</td></tr>\n",
       "</tbody>\n",
       "</table>\n"
      ],
      "text/latex": [
       "A data.frame: 6 × 3\n",
       "\\begin{tabular}{r|lll}\n",
       "  & country & province & points\\\\\n",
       "  & <chr> & <chr> & <int>\\\\\n",
       "\\hline\n",
       "\t345 & Chile     & Leyda Valley     & 80\\\\\n",
       "\t3641 & Portugal  & Vinho Verde      & 80\\\\\n",
       "\t3642 & Chile     & Maule Valley     & 80\\\\\n",
       "\t4557 & Italy     & Central Italy    & 80\\\\\n",
       "\t4558 & Spain     & Catalonia        & 80\\\\\n",
       "\t5906 & Argentina & Mendoza Province & 80\\\\\n",
       "\\end{tabular}\n"
      ],
      "text/markdown": [
       "\n",
       "A data.frame: 6 × 3\n",
       "\n",
       "| <!--/--> | country &lt;chr&gt; | province &lt;chr&gt; | points &lt;int&gt; |\n",
       "|---|---|---|---|\n",
       "| 345 | Chile     | Leyda Valley     | 80 |\n",
       "| 3641 | Portugal  | Vinho Verde      | 80 |\n",
       "| 3642 | Chile     | Maule Valley     | 80 |\n",
       "| 4557 | Italy     | Central Italy    | 80 |\n",
       "| 4558 | Spain     | Catalonia        | 80 |\n",
       "| 5906 | Argentina | Mendoza Province | 80 |\n",
       "\n"
      ],
      "text/plain": [
       "     country   province         points\n",
       "345  Chile     Leyda Valley     80    \n",
       "3641 Portugal  Vinho Verde      80    \n",
       "3642 Chile     Maule Valley     80    \n",
       "4557 Italy     Central Italy    80    \n",
       "4558 Spain     Catalonia        80    \n",
       "5906 Argentina Mendoza Province 80    "
      ]
     },
     "metadata": {},
     "output_type": "display_data"
    }
   ],
   "source": [
    "# Welches Land erhält die höchste/niedrigste Punktzahl und aus welcher Provinz kommen diese Weine her?\n",
    "\n",
    "# Maximum points\n",
    "max_points <- max(data_eda2$points, na.rm = TRUE)\n",
    "highest_points_data <- subset(data_eda2, points == max_points)\n",
    "highest_points_info <- highest_points_data[, c(\"country\", \"province\", \"points\")]\n",
    "head(highest_points_info)\n",
    "\n",
    "# Minimum points\n",
    "min_points <- min(data_eda2$points, na.rm = TRUE)\n",
    "lowest_points_data <- subset(data_eda2, points == min_points)\n",
    "lowest_points_info <- lowest_points_data[, c(\"country\", \"province\", \"points\")]\n",
    "head(lowest_points_info)"
   ]
  },
  {
   "cell_type": "code",
   "execution_count": 12,
   "id": "0ae9957c-b645-49b6-a85c-8c57d7588876",
   "metadata": {},
   "outputs": [
    {
     "data": {
      "text/html": [
       "<table class=\"dataframe\">\n",
       "<caption>A data.frame: 6 × 2</caption>\n",
       "<thead>\n",
       "\t<tr><th></th><th scope=col>taster_name</th><th scope=col>country</th></tr>\n",
       "\t<tr><th></th><th scope=col>&lt;chr&gt;</th><th scope=col>&lt;chr&gt;</th></tr>\n",
       "</thead>\n",
       "<tbody>\n",
       "\t<tr><th scope=row>1</th><td>Kerin O’Keefe     </td><td>Italy   </td></tr>\n",
       "\t<tr><th scope=row>2</th><td>Roger Voss        </td><td>Portugal</td></tr>\n",
       "\t<tr><th scope=row>3</th><td>Paul Gregutt      </td><td>US      </td></tr>\n",
       "\t<tr><th scope=row>4</th><td>Alexander Peartree</td><td>US      </td></tr>\n",
       "\t<tr><th scope=row>5</th><td>Paul Gregutt      </td><td>US      </td></tr>\n",
       "\t<tr><th scope=row>6</th><td>Michael Schachner </td><td>Spain   </td></tr>\n",
       "</tbody>\n",
       "</table>\n"
      ],
      "text/latex": [
       "A data.frame: 6 × 2\n",
       "\\begin{tabular}{r|ll}\n",
       "  & taster\\_name & country\\\\\n",
       "  & <chr> & <chr>\\\\\n",
       "\\hline\n",
       "\t1 & Kerin O’Keefe      & Italy   \\\\\n",
       "\t2 & Roger Voss         & Portugal\\\\\n",
       "\t3 & Paul Gregutt       & US      \\\\\n",
       "\t4 & Alexander Peartree & US      \\\\\n",
       "\t5 & Paul Gregutt       & US      \\\\\n",
       "\t6 & Michael Schachner  & Spain   \\\\\n",
       "\\end{tabular}\n"
      ],
      "text/markdown": [
       "\n",
       "A data.frame: 6 × 2\n",
       "\n",
       "| <!--/--> | taster_name &lt;chr&gt; | country &lt;chr&gt; |\n",
       "|---|---|---|\n",
       "| 1 | Kerin O’Keefe      | Italy    |\n",
       "| 2 | Roger Voss         | Portugal |\n",
       "| 3 | Paul Gregutt       | US       |\n",
       "| 4 | Alexander Peartree | US       |\n",
       "| 5 | Paul Gregutt       | US       |\n",
       "| 6 | Michael Schachner  | Spain    |\n",
       "\n"
      ],
      "text/plain": [
       "  taster_name        country \n",
       "1 Kerin O’Keefe      Italy   \n",
       "2 Roger Voss         Portugal\n",
       "3 Paul Gregutt       US      \n",
       "4 Alexander Peartree US      \n",
       "5 Paul Gregutt       US      \n",
       "6 Michael Schachner  Spain   "
      ]
     },
     "metadata": {},
     "output_type": "display_data"
    },
    {
     "data": {
      "text/html": [
       "<table class=\"dataframe\">\n",
       "<caption>A data.frame: 5 × 2</caption>\n",
       "<thead>\n",
       "\t<tr><th></th><th scope=col>taster_name</th><th scope=col>country</th></tr>\n",
       "\t<tr><th></th><th scope=col>&lt;chr&gt;</th><th scope=col>&lt;chr&gt;</th></tr>\n",
       "</thead>\n",
       "<tbody>\n",
       "\t<tr><th scope=row>1</th><td>                  </td><td>Italy, US, France, South Africa, Australia, Mexico, Chile, New Zealand, Germany, Spain, Israel, Argentina, Portugal, Austria, Hungary, Canada                                       </td></tr>\n",
       "\t<tr><th scope=row>2</th><td>Alexander Peartree</td><td>US                                                                                                                                                                                  </td></tr>\n",
       "\t<tr><th scope=row>3</th><td>Anna Lee C. Iijima</td><td>Germany, US, Romania, Czech Republic, Slovenia, Canada, Croatia, Bulgaria, Hungary, Morocco, Bosnia and Herzegovina, Slovakia, Georgia, Turkey, Lebanon, Moldova, Ukraine, Macedonia</td></tr>\n",
       "\t<tr><th scope=row>4</th><td>Anne Krebiehl MW  </td><td>Austria, France, England,                                                                                                                                                           </td></tr>\n",
       "\t<tr><th scope=row>5</th><td>Carrie Dykes      </td><td>US                                                                                                                                                                                  </td></tr>\n",
       "</tbody>\n",
       "</table>\n"
      ],
      "text/latex": [
       "A data.frame: 5 × 2\n",
       "\\begin{tabular}{r|ll}\n",
       "  & taster\\_name & country\\\\\n",
       "  & <chr> & <chr>\\\\\n",
       "\\hline\n",
       "\t1 &                    & Italy, US, France, South Africa, Australia, Mexico, Chile, New Zealand, Germany, Spain, Israel, Argentina, Portugal, Austria, Hungary, Canada                                       \\\\\n",
       "\t2 & Alexander Peartree & US                                                                                                                                                                                  \\\\\n",
       "\t3 & Anna Lee C. Iijima & Germany, US, Romania, Czech Republic, Slovenia, Canada, Croatia, Bulgaria, Hungary, Morocco, Bosnia and Herzegovina, Slovakia, Georgia, Turkey, Lebanon, Moldova, Ukraine, Macedonia\\\\\n",
       "\t4 & Anne Krebiehl MW   & Austria, France, England,                                                                                                                                                           \\\\\n",
       "\t5 & Carrie Dykes       & US                                                                                                                                                                                  \\\\\n",
       "\\end{tabular}\n"
      ],
      "text/markdown": [
       "\n",
       "A data.frame: 5 × 2\n",
       "\n",
       "| <!--/--> | taster_name &lt;chr&gt; | country &lt;chr&gt; |\n",
       "|---|---|---|\n",
       "| 1 | <!----> | Italy, US, France, South Africa, Australia, Mexico, Chile, New Zealand, Germany, Spain, Israel, Argentina, Portugal, Austria, Hungary, Canada                                        |\n",
       "| 2 | Alexander Peartree | US                                                                                                                                                                                   |\n",
       "| 3 | Anna Lee C. Iijima | Germany, US, Romania, Czech Republic, Slovenia, Canada, Croatia, Bulgaria, Hungary, Morocco, Bosnia and Herzegovina, Slovakia, Georgia, Turkey, Lebanon, Moldova, Ukraine, Macedonia |\n",
       "| 4 | Anne Krebiehl MW   | Austria, France, England,                                                                                                                                                            |\n",
       "| 5 | Carrie Dykes       | US                                                                                                                                                                                   |\n",
       "\n"
      ],
      "text/plain": [
       "  taster_name       \n",
       "1                   \n",
       "2 Alexander Peartree\n",
       "3 Anna Lee C. Iijima\n",
       "4 Anne Krebiehl MW  \n",
       "5 Carrie Dykes      \n",
       "  country                                                                                                                                                                             \n",
       "1 Italy, US, France, South Africa, Australia, Mexico, Chile, New Zealand, Germany, Spain, Israel, Argentina, Portugal, Austria, Hungary, Canada                                       \n",
       "2 US                                                                                                                                                                                  \n",
       "3 Germany, US, Romania, Czech Republic, Slovenia, Canada, Croatia, Bulgaria, Hungary, Morocco, Bosnia and Herzegovina, Slovakia, Georgia, Turkey, Lebanon, Moldova, Ukraine, Macedonia\n",
       "4 Austria, France, England,                                                                                                                                                           \n",
       "5 US                                                                                                                                                                                  "
      ]
     },
     "metadata": {},
     "output_type": "display_data"
    }
   ],
   "source": [
    "# Welche Degustierende kommen vor und wo bewegen sich diese hauptsächlich?\n",
    "taster_country_data <- data_eda2[, c(\"taster_name\", \"country\")]\n",
    "head(taster_country_data)\n",
    "taster_summary <- aggregate(country ~ taster_name, data = taster_country_data, \n",
    "                            function(x) paste(unique(x), collapse = \", \"))\n",
    "head(taster_summary,5)"
   ]
  },
  {
   "cell_type": "markdown",
   "id": "51d6706d-c658-4ed0-b243-39ff7a394a7a",
   "metadata": {},
   "source": [
    "#### Resultate der Fragen\n",
    "<div style=\"text-align: justify;\">\n",
    "\n",
    "-   Höchste Punktzahl, siehe Output: Australien, Frankreich, Italien, Portugal und US. Frankeich ist mit Bordeaux und Champagne gut vertreten. Italien mit der Toskana. Portugal mit Duoro und Port. US mit California und Washington. Australien einmal mit Victoria.\n",
    "\n",
    "-   Bemerkung: Es ist nicht überraschend, das Frankreich und Italien gut vertreten sind. Es gehört vorallem bei Frankreich zur Kultur, haben das passende Klima und Weine stellen diese schon seit Jahrzenten her. US mit Kalifornien hat ebenfalls ein gutes Klima. Australien kommt nur einmal vor. Insgesamt kann bestimmt auch das Klima berücksichtig werden, diese Untersuchung wäre aber out-of-scope.\n",
    "\n",
    "-   Niedrigste Punktzahl, siehe Output: Hier auch erreichen die Länder mit der Maximalanzahl der Punkte auch das Minimun, das zu erreichen ist. Beispielweise liefert US Kalifornien ebenfalls Weine mit der niedrigsten Anzahl Punkte.\n",
    "\n",
    "-   Siehe Output: Anna Lee C. Iijima, Jeff Jenssen, Joe Czerwinski, Susan Kostrzewa sind sehr weit gekommen. Deren Aufenthalt ist in der USA, in Europa und auch in Nahosten. \n",
    "</div>"
   ]
  },
  {
   "cell_type": "markdown",
   "id": "c7854f28-bda0-4fc9-9db4-7d42c703ac65",
   "metadata": {},
   "source": [
    "### Übeprüfung mit einer zweite Quelle\n",
    "<div style=\"text-align: justify;\">\n",
    "Bei der EDA wird ebenfalls noch mit einer weiteren Quelle verglichen. Zum einen kann man so auch die Aussagen von Fragen unterstützen oder auch Unterschiede erkennen und daraus erneut Wissen generieren. Dieses mal wird nur das Land Frankreich mit Bordeaux und Burgundy berücksichtigt. DIe Boxplots in Vergleich zeigen einen starken Unterschied. Ebenfalls die teursten Weine unterscheiden sich im Preis.\n",
    "</div>"
   ]
  },
  {
   "cell_type": "markdown",
   "id": "cfd9068e-14c6-4158-95a9-042f31295f03",
   "metadata": {},
   "source": [
    "#### Resultat des Quellenvergleichs\n",
    "<div style=\"text-align: justify;\">\n",
    "Auch bei der zweiten Quelle wird Frankreich, Bordeaux und Burgundy angesehen, siehe Quelle2_FR. Die Preisliste ist in EUR, das Maximum ist 60.45 Euro, im Vergleich zur ersten Quelle mit 3300 USD.\n",
    "\n",
    "-   Hier ein Bespiel des teuersten Weins aus der ersten Quelle in USD: <https://www.wineenthusiast.com/buying-guide/chateau-les-ormes-sorbet-2013-medoc/?queryID=ac1352b7cc25cfd3c23491b18663e1af&objectID=wine#230236&indexName=PROD_WINEENTHUSIAST_REVIEWS>\n",
    "\n",
    "-   Wir haben Anzahl Zeilen aus Quelle 1 mit 9921 und aus der Quelle 2 131 Einträge. Der Mittelwert der Quelle 1 liegt bei 52.96 bei der Quelle 2 14.46. Aufgrund der Outliers macht es auch Sinn den Median zu betrachten: Quelle 1 ist 28, Quelle 2 ist 10.85\n",
    "\n",
    "-   Aufgrund der wenigen Zeilen, die die zweite Quelle hergibt, kann nicht besonders viel daraus hergeleitet werden. Die Zunahme der zweiten Quelle besagt aber, dass es viele Degustierende geben kann, die Weine von unterschiedlicher Qualität testen. Wine Enthusiast, wie der Name bereits sagt, berücksichtigt auch sehr teure Weine, es gibt deutlich mehr Daten, möglicherweise werden auch andere Weinorte berücksichtigt, die eher einem höheren Standard entsprechen. Jeder kann Wein degustieren, eine Liste erstellen, Votings hinzufügen etc. Nicht jeder kann aber Weine auf hohem Niveau bewerten.\n",
    "\n",
    "Weitere Fragen und Anmerkungen:\n",
    "\n",
    "-   Wie die teuersten Weine zustandekommen ist wohl ein Thema von Jahrgang und das Klima zu jener Zeit, wie die Trauben wachsen (Boden, Licht. Wetter) usw.. Interessant ist, dass es auch hohe Punktzahlen gibt aber der Preis nicht übetrieben ist, siehe auch Resultat bei den Outliers in der ersten Quelle.\n",
    "\n",
    "-   Die zweite Quelle liefert deutliche Unterschiede in den Preisen der Weine. Die erwähnte Outliers aus der ersten Quelle kommen da nicht vor. Der einzige sehr teuer Wein mit 3410.79 EUR stammt aus dem Pomerol.\n",
    "\n",
    "-   Die erste Quelle liefert nebst \"normalen\" Weinen auch sehr qualitativ hochwertige Weine an.\n",
    "</div>"
   ]
  },
  {
   "cell_type": "markdown",
   "id": "8334ee2e-164e-4b18-881c-a10ac3c72f8c",
   "metadata": {},
   "source": [
    "# Beschreibung Ergebnisse EDA\n",
    "<div style=\"text-align: justify;\">\n",
    "Die Ergebnisse kommen alle bei den bereits erwähnten Resultaten vor.\n",
    "</div>"
   ]
  },
  {
   "cell_type": "markdown",
   "id": "b27200e1-d7a8-4094-abf8-08213afb6bff",
   "metadata": {},
   "source": [
    "# Analyse/Hinterfragn Ergebnisse EDA\n",
    "<div style=\"text-align: justify;\">\n",
    "Die Analyse der Ergebnisse kommt bei den bereits erwähnten Resultaten vor.\n",
    "</div>"
   ]
  },
  {
   "cell_type": "markdown",
   "id": "e6c866e6-165a-43b3-96a6-73fa6441baac",
   "metadata": {},
   "source": [
    "# Einleitung lineare Regression"
   ]
  },
  {
   "cell_type": "markdown",
   "id": "6013dde0-20a7-425c-9207-838d65ae4da0",
   "metadata": {
    "editable": true,
    "slideshow": {
     "slide_type": ""
    },
    "tags": []
   },
   "source": [
    "# Statistisches Vorgehen lineare Regression\n",
    "<div style=\"text-align: justify;\">\n",
    "Die Schritte der linearen Regression sind Modellannahmen prüfen, Residuen überprüfen und das Treffen von Vorhersagen. Der Datensatz wird dazu dann aufgetrennt in 98% und 2%. Die 98% dienen der Modellbildung, 2% dienen dann den Vorhersagen.\n",
    "</div>"
   ]
  },
  {
   "cell_type": "markdown",
   "id": "5a20b7d1-327c-4c19-b718-1a18275e391c",
   "metadata": {
    "editable": true,
    "slideshow": {
     "slide_type": ""
    },
    "tags": []
   },
   "source": [
    "## Multiple lineare Regression, Modellannahmen prüfen\n",
    "<div style=\"text-align: justify;\">\n",
    "\n",
    "</div>"
   ]
  },
  {
   "cell_type": "code",
   "execution_count": 13,
   "id": "a540fef3-4b44-40b7-93ac-4b0536153fe6",
   "metadata": {
    "editable": true,
    "slideshow": {
     "slide_type": ""
    },
    "tags": []
   },
   "outputs": [],
   "source": [
    "## Multiple lineare Regressionsanalyse\n",
    "# Modell erstellen vor der Kürzung des Datensatz \n",
    "# (Die Kürzung wird dann für die Vorhersage verwendet. Der Datensatz wird dann um 2% gekürzt.)\n",
    "data_eda2$country <- factor(data_eda2$country)\n",
    "data_eda2$variety <- factor(data_eda2$variety)\n",
    "data_eda2 <- na.omit(data_eda2)"
   ]
  },
  {
   "cell_type": "code",
   "execution_count": 14,
   "id": "1f658d4b-4208-42ed-941f-755a3413c5e5",
   "metadata": {},
   "outputs": [
    {
     "name": "stdout",
     "output_type": "stream",
     "text": [
      "                           Estimate  Std. Error    t value     Pr(>|t|)\n",
      "(Intercept)             -436.642229 36.72037107 -11.891008 1.374768e-32\n",
      "points                     5.130424  0.03669983 139.794190 0.000000e+00\n",
      "countryFrance             15.265413  5.18057767   2.946662 3.212854e-03\n",
      "countryGermany            19.054967  5.25809419   3.623930 2.902793e-04\n",
      "countryItaly              12.386156  5.19013041   2.386483 1.701195e-02\n",
      "countryMexico             15.846382  6.77765172   2.338034 1.938710e-02\n",
      "countrySwitzerland        61.253042 14.81510780   4.134499 3.559715e-05\n",
      "countryUruguay            14.170548  6.43754410   2.201235 2.772128e-02\n",
      "varietyFrancisa          117.387529 51.19676338   2.292870 2.185720e-02\n",
      "varietyRamisco           445.322041 51.22041539   8.694229 3.534735e-18\n",
      "varietyRosenmuskateller  110.180384 51.20577802   2.151718 3.142157e-02\n",
      "varietyTerrantez         176.061194 51.22065288   3.437309 5.877244e-04\n"
     ]
    }
   ],
   "source": [
    "mlr <- lm(price ~ points + country + variety, data=data_eda2)\n",
    "coefficients <- summary(mlr)$coefficients\n",
    "significant_coefficients <- coefficients[coefficients[, \"Pr(>|t|)\"] < 0.05, ]\n",
    "print(significant_coefficients)"
   ]
  },
  {
   "cell_type": "markdown",
   "id": "09d16ff4-4978-4780-9be1-f1f9c484bbc9",
   "metadata": {},
   "source": [
    "<div style=\"text-align: justify;\">\n",
    "\n",
    "-   Dies sind die Variablen, die dem Modell am meisten beisteuern.\n",
    "\n",
    "</div>"
   ]
  },
  {
   "cell_type": "code",
   "execution_count": 15,
   "id": "f782dcd6-73a7-4e59-9a7a-661f001386b1",
   "metadata": {
    "editable": true,
    "slideshow": {
     "slide_type": ""
    },
    "tags": []
   },
   "outputs": [
    {
     "data": {
      "image/png": "[encoded data removed]",
      "text/plain": [
       "Plot with title \"\""
      ]
     },
     "metadata": {
      "image/png": {
       "height": 420,
       "width": 420
      }
     },
     "output_type": "display_data"
    }
   ],
   "source": [
    "# Modellprüfung\n",
    " # Residuals vs. Fitted, Tukey-Anscombe\n",
    "par(mfrow = c(3, 2))\n",
    "suppressWarnings(plot(mlr$fitted.values, mlr$residuals,\n",
    "     xlab = \"Fitted values\",\n",
    "     ylab = \"Residuals\",\n",
    "     main = \"Tukey-Anscombe Plot\"))\n",
    "abline(h = 0, col = \"red\")\n",
    "\n",
    "# Q-Q Plot\n",
    "suppressWarnings(qqnorm(mlr$residuals))\n",
    "qqline(mlr$residuals, col = \"red\")\n",
    "\n",
    "suppressWarnings(plot(mlr, which=3)) # Scale-Location\n",
    "suppressWarnings(plot(mlr, which=4)) # Cook's distance\n",
    "suppressWarnings(plot(mlr, which=5)) # Residuals vs. Leverage"
   ]
  },
  {
   "cell_type": "markdown",
   "id": "fa8be8fd-1bf5-4fb3-8358-eda9cab44fb2",
   "metadata": {},
   "source": [
    "<div style=\"text-align: justify;\">\n",
    "\n",
    "-   Man erkennt bei den Plots, dass die Resultate schlecht ausfallen. Das Modell ist ungeeignet. Mehr dazu bei den Resultaten.\n",
    "\n",
    "</div>"
   ]
  },
  {
   "cell_type": "code",
   "execution_count": 17,
   "id": "83b14cb1-095c-4870-acd7-1319edd7a227",
   "metadata": {},
   "outputs": [
    {
     "data": {
      "text/html": [
       "<style>\n",
       ".list-inline {list-style: none; margin:0; padding: 0}\n",
       ".list-inline>li {display: inline-block}\n",
       ".list-inline>li:not(:last-child)::after {content: \"\\00b7\"; padding: 0 .5ex}\n",
       "</style>\n",
       "<ol class=list-inline><li>120975</li><li>11</li></ol>\n"
      ],
      "text/latex": [
       "\\begin{enumerate*}\n",
       "\\item 120975\n",
       "\\item 11\n",
       "\\end{enumerate*}\n"
      ],
      "text/markdown": [
       "1. 120975\n",
       "2. 11\n",
       "\n",
       "\n"
      ],
      "text/plain": [
       "[1] 120975     11"
      ]
     },
     "metadata": {},
     "output_type": "display_data"
    },
    {
     "name": "stdout",
     "output_type": "stream",
     "text": [
      "                           Estimate  Std. Error    t value     Pr(>|t|)\n",
      "(Intercept)             -436.336579 36.81804993 -11.851159 2.214299e-32\n",
      "points                     5.127084  0.03716126 137.968514 0.000000e+00\n",
      "countryBrazil             14.928660  7.46652778   1.999411 4.556616e-02\n",
      "countryFrance             15.358101  5.19479944   2.956438 3.112767e-03\n",
      "countryGermany            18.815741  5.27399214   3.567647 3.603446e-04\n",
      "countryItaly              12.343490  5.20458973   2.371655 1.771023e-02\n",
      "countryMexico             15.869392  6.79576957   2.335187 1.953533e-02\n",
      "countrySwitzerland        72.884771 15.94394951   4.571312 4.851711e-06\n",
      "countryUruguay            14.305116  6.47054738   2.210805 2.705129e-02\n",
      "varietyFrancisa          117.428477 51.32853464   2.287782 2.215201e-02\n",
      "varietyRamisco           445.389115 51.35257816   8.673160 4.255012e-18\n",
      "varietyRosenmuskateller  110.233860 51.33772797   2.147229 3.177709e-02\n",
      "varietyTerrantez         176.134947 51.35282033   3.429898 6.040144e-04\n"
     ]
    }
   ],
   "source": [
    "# Kürzung des Datensatz\n",
    "# Antstelle der vorhandenen Libraries wie caret oder caTools\n",
    "# werde ich von Hand 98% der Daten für das Modell wählen und 2% dann für die Vorhersage\n",
    "# 98% sind gerundet 127373 Zeilen, 2% sind 2598 Zeilen\n",
    "library(dplyr)\n",
    "# Mixen\n",
    "set.seed(123)\n",
    "shuffled_dataset <- data_eda2[sample(nrow(data_eda2)), ]\n",
    "data_frame <- as.data.frame(shuffled_dataset)\n",
    "dim(data_eda2)\n",
    "# 98% wählen, mit diesen wird das Modell neu gebildet\n",
    "data_98 <- data_frame %>% slice(1:118556)\n",
    "\n",
    "# 2% wählen, mit diesen wird die Vorhersage getan, aus diesen kann stichprobenweise Werte entnommen werden\n",
    "#data_2 <- data_frame %>% filter(row_number() >= 127374 & row_number() <= 129970)\n",
    "data_2 <- data_frame %>% slice(118557:120975)\n",
    "\n",
    "# Modell erneut bilden und auswerten\n",
    "mlr2 <- lm(price ~ points + country + variety, data=data_98)\n",
    "coefficients2 <- summary(mlr2)$coefficients\n",
    "significant_coefficients2 <- coefficients2[coefficients2[, \"Pr(>|t|)\"] < 0.05, ]\n",
    "print(suppressWarnings(significant_coefficients2))"
   ]
  },
  {
   "cell_type": "markdown",
   "id": "732631f8-c8ad-4b3a-bccc-8b5ded9a995c",
   "metadata": {},
   "source": [
    "<div style=\"text-align: justify;\">\n",
    "\n",
    "-   Auch bei dem gekürzten Datensatz (noch 98%) sind es diese Variablen, die für das Modell wichtig sind. Dieser Datensatz wird bei den Vorhersagen verwendet.\n",
    "\n",
    "</div>"
   ]
  },
  {
   "cell_type": "markdown",
   "id": "ea9ac848-b174-4f4e-8893-196e77a1d222",
   "metadata": {
    "editable": true,
    "slideshow": {
     "slide_type": ""
    },
    "tags": []
   },
   "source": [
    "### Resultat Multiple lineare Regression, Modellannahmen prüfen\n",
    "<div style=\"text-align: justify;\">\n",
    "\n",
    "-   Die wichtisten Variablen, die anscheinend Aussagekraft bieten sind: Punkte, Frankreich, Deutschland, Italien, Mexiko, Schweiz und Uruguay.\n",
    "    Die wichtigen variety Spalten sind hier:  varietyFrancisa, varietyRamisco, varietyRosenmuskateller, varietyTerrantez\n",
    "    Aufgrund der Ladezeit habe ich mit Absicht nur wenige Features gewählt.\n",
    "    Idealerweise würde mann alle Features verwenden.\n",
    "\n",
    "-   Als nächstes würde man untersuchen, warum genau dies Variablen zum Modell Wert beisteuern.\n",
    "    Dies jedoch gerade out-o-scope für eine Teilaufgabe.\n",
    "    \n",
    "-   Residuals vs. Fitted, Tukey-Anscombe: Die Punkte streuen nicht um den Wert 0, es sieht mehr nach einem Funnel Form aus, was auf Heteroskedastizität hindeutet, also die Varianz scheint nich konstant zu sein.\n",
    "    Ebenfalls kann dies auf Nicht-Linearität hinweisen.\n",
    "    Ebenfalls die Kurvenform deutet wie die Funnel Form auf dasselbe Problem.\n",
    "\n",
    "-   Q-Q Plot: Die Punkte weichen nach 2 stark von der Linie ab.\n",
    "    Somit folgen die Residuen keiner Normalverteilung.\n",
    "\n",
    "-   Scale-Location: Die rote Linie ist nicht horizontal und die Punkte sind nicht zufällig verteilt.\n",
    "    Homoskedastizität kommt somit hier wohl nicht vor.\n",
    "    Mit Breusch-Pagan kann auch Homoskedastizität geprüft werden.\n",
    "\n",
    "-   Cook's distance: Es gibt Outliers und diese könnten das Modell beeinflussen.\n",
    "    Hier sind diese aber sehr interessant, denn es handelt sich um Weine, die nicht der Norm entsprechen.\n",
    "    Interessant wäre zu wissen, warum diese zu Outliern werden.\n",
    "    Ev.\n",
    "    gibt es dazu mehr über den Wachstum der Trauben, Boden, Lichteinfluss, Klima usw..\n",
    "    zu erfahren.\n",
    "    Vorausgesetzt, dass die Daten stimmen.\n",
    "\n",
    "-   Residuals vs. Leverage: Hohe Hebelwirkung aber kleine Resiuden deutet eher darauf hin, dass diese Outliers keinen grossen Einfluss auf das Modlel haben.\n",
    "\n",
    "-   Die beiden ersten Plots könnte man ebenso mit \"which\" zeichnen.\n",
    "    Ich habe dies nun ohne \"which\", weil diese schneller zeichnen.\n",
    "\n",
    "-   Mit eine Transformation könnte man nun das Modell verbessern, damit es den Modellannahmen besser entspräche.\n",
    "    Wie eine lineare, logistische Transformation oder Wurzeltransformation.\n",
    "    Ev.\n",
    "    eignen sich auch nicht lineare Modell ohne Transformation.\n",
    "\n",
    "-   Auch nach der Kürzung des Datensatzes gibt es natürlich keine Verbesserung am Modell. Die Resultate sind dieselben Werte. Das gebildete Modell mlr2 auf den gekürzten Datensatz soll für die Vorhersagen verwendet werden. Der Rest des Datensatzes würd für die Vorhersage verwendet.\n",
    "\n",
    "-   1209756 wird entsprechend rechnerisch von Hand in 98% und 2% mit slice getrennt. Dies sind dann die 1:118556 und die 118557:120975.\n",
    "    \n",
    "</div>"
   ]
  },
  {
   "cell_type": "markdown",
   "id": "ae095320-982a-4a3d-b224-4e3557fc0856",
   "metadata": {},
   "source": [
    "## Multiple lineare Regression, Vorhersagen treffen"
   ]
  },
  {
   "cell_type": "code",
   "execution_count": 18,
   "id": "afc66ec8-bfaf-46e5-9085-c550718f6b2e",
   "metadata": {},
   "outputs": [
    {
     "name": "stdout",
     "output_type": "stream",
     "text": [
      "   original predicted\n",
      "1        17        15\n",
      "2        48        37\n",
      "3        20        33\n",
      "4        34        42\n",
      "5        24        31\n",
      "6        13        22\n",
      "7        14        17\n",
      "8        25        24\n",
      "9        22        30\n",
      "10       18        22\n",
      "   original predicted\n",
      "79       25        38\n"
     ]
    },
    {
     "data": {
      "image/png": "[encoded data removed]",
      "text/plain": [
       "plot without title"
      ]
     },
     "metadata": {
      "image/png": {
       "height": 420,
       "width": 420
      }
     },
     "output_type": "display_data"
    }
   ],
   "source": [
    "# Einige Vorhersagen des Modells mlr2\n",
    "\n",
    "# Herstellung des leeren dataframes für die Originalwerte price und vorhergesagten Werte price\n",
    "empty_df <- data.frame(\n",
    "  original = numeric(),\n",
    "  predicted = numeric()\n",
    ")\n",
    "\n",
    "# 100 Vorhersagen von dem davor generierten data_2, das somit als Testdatensatz dient, die Vorhersagen dürfte schlecht ausfallen, da keine Transformation angewendet worden ist.\n",
    "for (x in 1:100) {\n",
    "  prediction <- suppressWarnings(predict(mlr2, newdata = data_2[x,]))\n",
    "  empty_df[x, ] <- c(data_2[x,]$price,round(prediction)) \n",
    "}\n",
    "print(head(empty_df,10))\n",
    "\n",
    "par(mfrow = c(1, 2))\n",
    "boxplot(empty_df$original, xlab=\"Original\")\n",
    "boxplot(empty_df$predicted, xlab=\"Vohergesagt\")\n",
    "\n",
    "# Beispiel Zeile 79\n",
    "print(empty_df[79,])"
   ]
  },
  {
   "cell_type": "markdown",
   "id": "816b0a2f-0112-4334-8c1a-8387db577c9e",
   "metadata": {},
   "source": [
    "### Multiple lineare Regression, Vorhersagen treffen\n",
    "<div style=\"text-align: justify;\">\n",
    "    \n",
    "-   Wie erwartet sind die Vorhersagen nicht besonders genau. Das hat auch die visuelle Modellbeurteilung ergeben.\n",
    "\n",
    "-   Bei der Liste mit den zehn Einträgen kann man erkennen, dass es wenige gibt, die eine gute Vorhersage liefern, siehe dazu die 10 Zeilen.\n",
    "\n",
    "-   Die Boxplots sind nicht übereinstimmend aber auch nicht krass unterschiedlich, es unterstützt die Zahlenwerte, die manchmal besser stimmen und manchmal nicht. Eine weitere Untersuchung dieser Werte wird nicht unternommen. \n",
    "</div>"
   ]
  },
  {
   "cell_type": "markdown",
   "id": "53ec4a68-1a4b-483c-ace8-3f532312baaa",
   "metadata": {},
   "source": [
    "# Beschreibung Ergebnisse multiple lineare Regression\n",
    "<div style=\"text-align: justify;\">\n",
    "Die Ergebnisse kommen alle bei den bereits erwähnten Resultaten vor.\n",
    "</div>"
   ]
  },
  {
   "cell_type": "markdown",
   "id": "6cf2863d-22ce-439e-ad71-4e1c0d85f594",
   "metadata": {},
   "source": [
    "# Analyse/Hinterfragen Ergebnisse multiple lineare Regression\n",
    "<div style=\"text-align: justify;\">\n",
    "Die Analyse der Ergebnisse kommt bei den bereits erwähnten Resultaten vor. \n",
    "    \n",
    "-   Es könnte weiterhin gesehen werden, wie die Resutlate sich ändern, wenn man mehrere shuffle vornehmen und wiederum diese vergleichen würde.\n",
    "\n",
    "-   Mit einer Transformation würde ertwartet werden, dass sich die Werte verbessern.\n",
    "</div>"
   ]
  },
  {
   "cell_type": "markdown",
   "id": "60b3000c-2984-44d1-a921-58c2e40d1cd1",
   "metadata": {},
   "source": [
    "# Einleitung logistische Regression\n",
    "<div style=\"text-align: justify;\">\n",
    "Anbei nun die logistische Regression.\n",
    "</div>"
   ]
  },
  {
   "cell_type": "markdown",
   "id": "fce625b6-cea2-4158-8b4f-48de0b6b270b",
   "metadata": {},
   "source": [
    "# Statistisches Vorgehen logistische Regression\n",
    "<div style=\"text-align: justify;\">\n",
    "Auch hier folgt diese typische Vorgehensweise: Modellprüfung, Residuenanalyse und die Vorhersagen.\n",
    "</div>"
   ]
  },
  {
   "cell_type": "markdown",
   "id": "3138cadc-0370-4e8d-afe8-e2c27a6c9ffb",
   "metadata": {},
   "source": [
    "## Modellprüfung logistische Regression\n",
    "<div style=\"text-align: justify;\">\n",
    "Auch hier gilt es das Modell auf Tauglichkeit zu prüfen, was im Endeffekt beduten wird, wie gut die Vorhersagen sind.\n",
    "</div>"
   ]
  },
  {
   "cell_type": "code",
   "execution_count": 19,
   "id": "2edb7689-9c57-4873-88e3-a792e10c5218",
   "metadata": {},
   "outputs": [
    {
     "data": {
      "text/plain": [
       "\n",
       "Call:\n",
       "glm(formula = votes ~ vote_count + popularity + runtime, family = binomial(), \n",
       "    data = dataset2)\n",
       "\n",
       "Coefficients:\n",
       "              Estimate Std. Error z value Pr(>|z|)    \n",
       "(Intercept) -7.288e-01  8.340e-02  -8.738   <2e-16 ***\n",
       "vote_count   4.191e-04  2.694e-05  15.554   <2e-16 ***\n",
       "popularity   1.028e-03  4.152e-04   2.475   0.0133 *  \n",
       "runtime      1.334e-02  8.673e-04  15.384   <2e-16 ***\n",
       "---\n",
       "Signif. codes:  0 '***' 0.001 '**' 0.01 '*' 0.05 '.' 0.1 ' ' 1\n",
       "\n",
       "(Dispersion parameter for binomial family taken to be 1)\n",
       "\n",
       "    Null deviance: 11873  on 9988  degrees of freedom\n",
       "Residual deviance: 10857  on 9985  degrees of freedom\n",
       "  (25 observations deleted due to missingness)\n",
       "AIC: 10865\n",
       "\n",
       "Number of Fisher Scoring iterations: 6\n"
      ]
     },
     "metadata": {},
     "output_type": "display_data"
    }
   ],
   "source": [
    "# Logistische Regression\n",
    "# Auswahl eines Datensatzes, der mehr numerische Werte hat, in diesem Fall der movie Datensatz.\n",
    "# Für die logistische Regression kommt nun auch noch eine Spalte mit 0 und 1 dazu.\n",
    "# Bei einem Wert von 6 oder darüber ergibt dies eine 1, sonst eine 0\n",
    "# Die 6 ist hier willkürlich gewählt, ev. müsste man genauer angeben, wie man den Threshold wählt.\n",
    "# Hier entspricht die 6 einem Minimum.\n",
    "\n",
    "# Neuer Datensatz\n",
    "dataset2 <- read.csv('movies.csv') # Hier den Pfad ändern, falls notwendig\n",
    "votes <- ifelse(dataset2$vote_average >= 6, 1, 0)\n",
    "\n",
    "# Modell erstellen\n",
    "logit_model <- glm(votes ~ vote_count + popularity + runtime, data = dataset2, family = binomial())\n",
    "summary(logit_model)"
   ]
  },
  {
   "cell_type": "markdown",
   "id": "9f87a1c3-af2c-4cda-9287-b2ac1a0751d7",
   "metadata": {},
   "source": [
    "### Resultat Modellprüfung logistische Regression\n",
    "<div style=\"text-align: justify;\">\n",
    "-   vote_count und runtime scheinen für dieses Modell wichtige Features zu sein. \n",
    "</div>"
   ]
  },
  {
   "cell_type": "markdown",
   "id": "ad119c66-1cee-4768-a690-85267d48d8cf",
   "metadata": {},
   "source": [
    "## Residuenanalyse logistische Regression\n",
    "<div style=\"text-align: justify;\">\n",
    "Es folgt die Residuenanalyse.\n",
    "</div>"
   ]
  },
  {
   "cell_type": "code",
   "execution_count": 20,
   "id": "f3a23af7-b8ee-48cc-beeb-f091a73f8ef1",
   "metadata": {},
   "outputs": [
    {
     "data": {
      "image/png": "[encoded data removed]",
      "text/plain": [
       "Plot with title \"QQ Plot of Deviance Residuals\""
      ]
     },
     "metadata": {
      "image/png": {
       "height": 420,
       "width": 420
      }
     },
     "output_type": "display_data"
    }
   ],
   "source": [
    "par(mfrow = c(2, 2))\n",
    "# Residuenanalyse\n",
    "plot(logit_model, which = 1)\n",
    "# Cook's distance\n",
    "cooks_d <- cooks.distance(logit_model)\n",
    "plot(cooks_d, type = \"h\", main = \"Cook's Distance\", ylab = \"Cook's Distance\")\n",
    "abline(h = 4 / nrow(dataset2), col = \"red\")  # Rule of thumb threshold\n",
    "# Q-Q Plot\n",
    "deviance_residuals <- residuals(logit_model, type = \"deviance\")\n",
    "qqnorm(deviance_residuals, main = \"QQ Plot of Deviance Residuals\")\n",
    "qqline(deviance_residuals, col = \"red\")"
   ]
  },
  {
   "cell_type": "markdown",
   "id": "e0a64a5b-d3eb-49b6-b9a5-b21f839ad8f0",
   "metadata": {},
   "source": [
    "### Resultat Residuenanalyse logistische Regression\n",
    "<div style=\"text-align: justify;\">\n",
    "\n",
    "-   Der Residuenplot zeigt Übereinstimmungen und Abweichungen.\n",
    "    Der Erwartungswert ist nahe bei 0 mit Abweichungen.\n",
    "    Die Werte sind am Anfang gut verstreut, weichen dann aber in eine Kurve aus mit Outliers.\n",
    "\n",
    "-   Cook's Distanz zeigt hier Werte an, die das Modell beinflussen könnten.\n",
    "\n",
    "-   Der Q-Q Plot zeigt hier weniger eine Normalverteilung der Residuen an (gibt es bei der logistischen Regression nicht), sondern zeigt eher Outliers an.\n",
    "\n",
    "</div>"
   ]
  },
  {
   "cell_type": "markdown",
   "id": "3ece679e-4c52-4387-8bc9-631cf643d07c",
   "metadata": {},
   "source": [
    "## Vorhersage logistische Regression\n",
    "<div style=\"text-align: justify;\">\n",
    "</div>"
   ]
  },
  {
   "cell_type": "code",
   "execution_count": 21,
   "id": "eb071db4-1511-460a-8e3c-c518829e03ab",
   "metadata": {},
   "outputs": [
    {
     "name": "stdout",
     "output_type": "stream",
     "text": [
      "        1 \n",
      "0.9989793 \n"
     ]
    }
   ],
   "source": [
    "# Vorhersage\n",
    "# Dieses Mal wird der Datensatz nicht aufgetrennt, sondern es wird willkürlich ein Zeile bestimmt. Diese Zeile sollte sich einer bereits bestehenden Zeile aus dataset2 ähnlich sein und müsste somit auch eine ähnliche Vorhersage ergeben.\n",
    "data_log <- data.frame(original_title=\"Some title\", popularity=5402.308, release_date=\"30/09/2021\", vote_average = \"7\", vote_count=1740, revenue=424000000, runtime=100)\n",
    "\n",
    "pred <- predict(logit_model, newdata = data_log,\n",
    "type = \"response\")\n",
    "print(pred)"
   ]
  },
  {
   "cell_type": "markdown",
   "id": "ef22adef-7a76-4d88-b014-9b7eaacd5502",
   "metadata": {},
   "source": [
    "### Resultat Vorhersage logistische Regression\n",
    "<div style=\"text-align: justify;\">\n",
    "Das Resultat entspricht einer 1.\n",
    "    Der vote_average ist bei der ersten Zeile auf grösser als 6, was dann auch eine 1 ergibt.\n",
    "    Da nun data_log nur geringfügig sich von der Originalzeile unterscheidet, wird hier als pred auch eine 1 erwartet.\n",
    "\n",
    "-   Das Resultat könnte aber auch nur Zufall sein, den auch bei dem logistischen Modell sollte man eine Transformation versuchen, um das Modell verbessern zu können.\n",
    "\n",
    "-   Hier habe ich auf 100 Werte verzichtet, da wie bei der linearen Regression auch die Werte nur aus Zufall besser oder schlechter sind, da eine Transformation nicht angewendet worden ist.\n",
    "\n",
    "-   ROC ist nicht thematisiert worden\n",
    "\n",
    "Anmerkungen:\n",
    "\n",
    "-   Aufgrund der Ladezeit habe ich nur wenige Features bei dem dataset2 verwendet.\n",
    "\n",
    "-   Für die logistische Regression habe ich einen neuen Datensatz dataset2 verwendet, weil dataset nur zwei numerische Spalten vorweisen kann und die Umrechnung nicht numerischer Spalten in numerische Spalten nicht Thema dieser Teilarbeit ist.\n",
    "    Eine Schwäche sind die 0 Werte bei den Einnahmen.\n",
    "    Diese könnten für das Modell ein Problem darstellen.\n",
    "    Macht auch nicht Sinn, denn die Einnahmen sind immer gösser als 0.\n",
    "</div>"
   ]
  },
  {
   "cell_type": "markdown",
   "id": "3d9d14d6-d55a-4790-8af4-3e1c6f1311b6",
   "metadata": {},
   "source": [
    "# Beschreibung Ergebnisse logistische Regression\n",
    "<div style=\"text-align: justify;\">\n",
    "Die Ergebnisse kommen alle bei den bereits erwähnten Resultaten vor.\n",
    "</div>"
   ]
  },
  {
   "cell_type": "markdown",
   "id": "d3682b0b-af2f-482c-af46-f4989e43fdfd",
   "metadata": {},
   "source": [
    "# Analyse/Hinterfragen Ergebnisse logistische Regression\n",
    "<div style=\"text-align: justify;\">\n",
    "-   Die Wahl der Zahl 6, um die 1 und 0 zu bestimmen ist willkürlich gewählt. Es könnte weiter untersucht werden, welcher Wert am besten ist und wie sich die Resultate dann unterscheiden.\n",
    "</div>"
   ]
  },
  {
   "cell_type": "markdown",
   "id": "594ab15e-5d1d-430b-98db-5adcec256fb5",
   "metadata": {},
   "source": [
    "# Quellenangaben\n",
    " \n",
    "-   Datensatz für EDA, erste Quelle: https://mavenanalytics.io/data-playground?order=date_added%2Cdesc&search=wine (1.11.2024)\n",
    "\n",
    "-   Datensatz für EDA, zweite Quelle: https://www.kaggle.com/datasets/budnyak/wine-rating-and-price (1.11.2024)\n",
    "\n",
    "-   Datensatz für lineare Regression: https://mavenanalytics.io/data-playground?order=date_added%2Cdesc&search=wine (1.11.2024)\n",
    "\n",
    "-   Datensatz für logistische Regression: https://www.kaggle.com/datasets/omkarborikar/top-10000-popular-movies (1.11.2024)"
   ]
  },
  {
   "cell_type": "code",
   "execution_count": null,
   "id": "26cf80a9-73d7-4e47-a222-ab8da8fdb1c1",
   "metadata": {},
   "outputs": [],
   "source": []
  }
 ],
 "metadata": {
  "kernelspec": {
   "display_name": "R",
   "language": "R",
   "name": "ir"
  },
  "language_info": {
   "codemirror_mode": "r",
   "file_extension": ".r",
   "mimetype": "text/x-r-source",
   "name": "R",
   "pygments_lexer": "r",
   "version": "4.4.2"
  }
 },
 "nbformat": 4,
 "nbformat_minor": 5
}
