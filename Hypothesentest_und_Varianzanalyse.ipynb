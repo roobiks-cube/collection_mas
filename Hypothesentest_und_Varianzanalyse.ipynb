{
 "cells": [
  {
   "cell_type": "markdown",
   "id": "502d4cb3-5725-4d9a-b519-09895ea60867",
   "metadata": {},
   "source": [
    "<div style=\"font-size:40px;\">\n",
    "Hypothesentest und Varianzanalyse\n",
    "</div>"
   ]
  },
  {
   "cell_type": "markdown",
   "id": "d3f71f30-7b66-4b85-9967-44f6f4f667a5",
   "metadata": {},
   "source": [
    "# Einleitung Hypothesentest und Varianzanalyse\n",
    "<div style=\"text-align: justify;\">\n",
    "Mit der Checkliste wird Schritt für Schritt der Hypothesentest und die Varianzanalyse berechnet.\n",
    "</div>\n",
    "\n",
    "Vorgehensweise:\n",
    "\n",
    "- Daten einlesen\n",
    "- Annahmen für einen t-Test prüfen\n",
    "- Tranformation testen\n",
    "- Ein-Stichproben t-Test\n",
    "- Zwei-Stichproben t-Test, gepaart, ungepaart\n",
    "- Effektstärken\n",
    "- ANOVA\n",
    "\n",
    "Begründung für die Auswahl des Datensatzes CO2 von R:\n",
    "\n",
    "- Da bereits bei der Semesterarbeit 1 und Semesterarbeit 2 das Thema EDA vorgekommen ist, wird\n",
    "hier nicht erneut der Datensatz bereinigt oder auf Schwachstellen überprüft. Somit entfällt die ganze Standardisierung, Normalisierung, Imuputation, usw. Der Datensatz kann somit gleich verwendet werden (Transformation wird kurz angesehen). Eher sollen die Vorbedingungen für den t-test und ANOVA überprüft werden.\n",
    "\n",
    "- Obwohl die Stichprobengrösse > 30 ist, ist jedoch die Varianz der Grundgesamtheit unbekannt, daher die Auswahl des t-test. Der Z-test käme zur Auswahl bei >=  30 und Varianz der Grundgesamtheit ist bekannt."
   ]
  },
  {
   "cell_type": "markdown",
   "id": "20ab1bbe-8e3b-4f62-93b4-f59ff80c66fc",
   "metadata": {},
   "source": [
    "#### Resultate der Anpassungsschritte\n",
    "<div style=\"text-align: justify;\">\n",
    "\n",
    "-   Es handelt sich um die CO2 Aufnahme von Grass Pflanzen Echinochloa crus-galli, auch genannt Hühnerhirse.\n",
    "\n",
    "Plant: Ordinale Factors\n",
    "\n",
    "Type: Factors\n",
    "\n",
    "Treatment: Factors\n",
    "\n",
    "conc: Numerisch\n",
    "\n",
    "Uptak: Numersich\n",
    "</div>"
   ]
  },
  {
   "cell_type": "markdown",
   "id": "7362a851-566b-4b43-ad0b-408437cf710f",
   "metadata": {},
   "source": [
    "# Statistisches Vorgehen Hypothesentest und Varianzanalyse"
   ]
  },
  {
   "cell_type": "markdown",
   "id": "08ca2b2e-8903-4a60-afe0-13ffc82bb1b1",
   "metadata": {},
   "source": [
    "## Annahmen für einen unabhängigen t-Test überprüfen\n",
    "<div style=\"text-align: justify;\">\n",
    "Die zu püfenden Annahmen sind: Numerisch mit str, Beobachtungen sind unabhänig voneinander mit Scatterplot und Überprüfung der Korrelation, Varianzüberprüfung mit einem Sample und den Boxplots, Überprüfung der Normalverteilung mit QQ-Plot (separat chilled und nonchilled un darin für die Spalten conc und uptake) und Shapiro-Wilk (ebenfalls auch chilled und nochchilled mit den Spalten con und uptake).\n",
    "</div>"
   ]
  },
  {
   "cell_type": "code",
   "execution_count": 46,
   "id": "f4a77308-9f28-4222-bc41-c704dd57675e",
   "metadata": {},
   "outputs": [
    {
     "data": {
      "text/html": [
       "<table class=\"dataframe\">\n",
       "<caption>A nfnGroupedData: 6 × 5</caption>\n",
       "<thead>\n",
       "\t<tr><th></th><th scope=col>Plant</th><th scope=col>Type</th><th scope=col>Treatment</th><th scope=col>conc</th><th scope=col>uptake</th></tr>\n",
       "\t<tr><th></th><th scope=col>&lt;ord&gt;</th><th scope=col>&lt;fct&gt;</th><th scope=col>&lt;fct&gt;</th><th scope=col>&lt;dbl&gt;</th><th scope=col>&lt;dbl&gt;</th></tr>\n",
       "</thead>\n",
       "<tbody>\n",
       "\t<tr><th scope=row>1</th><td>Qn1</td><td>Quebec</td><td>nonchilled</td><td> 95</td><td>16.0</td></tr>\n",
       "\t<tr><th scope=row>2</th><td>Qn1</td><td>Quebec</td><td>nonchilled</td><td>175</td><td>30.4</td></tr>\n",
       "\t<tr><th scope=row>3</th><td>Qn1</td><td>Quebec</td><td>nonchilled</td><td>250</td><td>34.8</td></tr>\n",
       "\t<tr><th scope=row>4</th><td>Qn1</td><td>Quebec</td><td>nonchilled</td><td>350</td><td>37.2</td></tr>\n",
       "\t<tr><th scope=row>5</th><td>Qn1</td><td>Quebec</td><td>nonchilled</td><td>500</td><td>35.3</td></tr>\n",
       "\t<tr><th scope=row>6</th><td>Qn1</td><td>Quebec</td><td>nonchilled</td><td>675</td><td>39.2</td></tr>\n",
       "</tbody>\n",
       "</table>\n"
      ],
      "text/latex": [
       "A nfnGroupedData: 6 × 5\n",
       "\\begin{tabular}{r|lllll}\n",
       "  & Plant & Type & Treatment & conc & uptake\\\\\n",
       "  & <ord> & <fct> & <fct> & <dbl> & <dbl>\\\\\n",
       "\\hline\n",
       "\t1 & Qn1 & Quebec & nonchilled &  95 & 16.0\\\\\n",
       "\t2 & Qn1 & Quebec & nonchilled & 175 & 30.4\\\\\n",
       "\t3 & Qn1 & Quebec & nonchilled & 250 & 34.8\\\\\n",
       "\t4 & Qn1 & Quebec & nonchilled & 350 & 37.2\\\\\n",
       "\t5 & Qn1 & Quebec & nonchilled & 500 & 35.3\\\\\n",
       "\t6 & Qn1 & Quebec & nonchilled & 675 & 39.2\\\\\n",
       "\\end{tabular}\n"
      ],
      "text/markdown": [
       "\n",
       "A nfnGroupedData: 6 × 5\n",
       "\n",
       "| <!--/--> | Plant &lt;ord&gt; | Type &lt;fct&gt; | Treatment &lt;fct&gt; | conc &lt;dbl&gt; | uptake &lt;dbl&gt; |\n",
       "|---|---|---|---|---|---|\n",
       "| 1 | Qn1 | Quebec | nonchilled |  95 | 16.0 |\n",
       "| 2 | Qn1 | Quebec | nonchilled | 175 | 30.4 |\n",
       "| 3 | Qn1 | Quebec | nonchilled | 250 | 34.8 |\n",
       "| 4 | Qn1 | Quebec | nonchilled | 350 | 37.2 |\n",
       "| 5 | Qn1 | Quebec | nonchilled | 500 | 35.3 |\n",
       "| 6 | Qn1 | Quebec | nonchilled | 675 | 39.2 |\n",
       "\n"
      ],
      "text/plain": [
       "  Plant Type   Treatment  conc uptake\n",
       "1 Qn1   Quebec nonchilled  95  16.0  \n",
       "2 Qn1   Quebec nonchilled 175  30.4  \n",
       "3 Qn1   Quebec nonchilled 250  34.8  \n",
       "4 Qn1   Quebec nonchilled 350  37.2  \n",
       "5 Qn1   Quebec nonchilled 500  35.3  \n",
       "6 Qn1   Quebec nonchilled 675  39.2  "
      ]
     },
     "metadata": {},
     "output_type": "display_data"
    },
    {
     "name": "stdout",
     "output_type": "stream",
     "text": [
      "Classes 'nfnGroupedData', 'nfGroupedData', 'groupedData' and 'data.frame':\t84 obs. of  5 variables:\n",
      " $ Plant    : Ord.factor w/ 12 levels \"Qn1\"<\"Qn2\"<\"Qn3\"<..: 1 1 1 1 1 1 1 2 2 2 ...\n",
      " $ Type     : Factor w/ 2 levels \"Quebec\",\"Mississippi\": 1 1 1 1 1 1 1 1 1 1 ...\n",
      " $ Treatment: Factor w/ 2 levels \"nonchilled\",\"chilled\": 1 1 1 1 1 1 1 1 1 1 ...\n",
      " $ conc     : num  95 175 250 350 500 675 1000 95 175 250 ...\n",
      " $ uptake   : num  16 30.4 34.8 37.2 35.3 39.2 39.7 13.6 27.3 37.1 ...\n",
      " - attr(*, \"formula\")=Class 'formula'  language uptake ~ conc | Plant\n",
      "  .. ..- attr(*, \".Environment\")=<environment: R_EmptyEnv> \n",
      " - attr(*, \"outer\")=Class 'formula'  language ~Treatment * Type\n",
      "  .. ..- attr(*, \".Environment\")=<environment: R_EmptyEnv> \n",
      " - attr(*, \"labels\")=List of 2\n",
      "  ..$ x: chr \"Ambient carbon dioxide concentration\"\n",
      "  ..$ y: chr \"CO2 uptake rate\"\n",
      " - attr(*, \"units\")=List of 2\n",
      "  ..$ x: chr \"(uL/L)\"\n",
      "  ..$ y: chr \"(umol/m^2 s)\"\n"
     ]
    }
   ],
   "source": [
    "# Daten einlesen\n",
    "# Verwendung des Datensatzes CO2\n",
    "data_co2 <- CO2\n",
    "head(CO2)\n",
    "# Überprüfen\n",
    "str(data_co2)"
   ]
  },
  {
   "cell_type": "code",
   "execution_count": 47,
   "id": "db24bc90-36f0-49ee-a0a6-c715d9372e0c",
   "metadata": {},
   "outputs": [
    {
     "name": "stdout",
     "output_type": "stream",
     "text": [
      "[1] 0.4851774\n",
      "[1] 0.4277141\n",
      "[1] 0.6081648\n"
     ]
    },
    {
     "data": {
      "image/png": "[encoded data removed]",
      "text/plain": [
       "Plot with title \"Scatter Plot only nonchilled\""
      ]
     },
     "metadata": {
      "image/png": {
       "height": 420,
       "width": 420
      }
     },
     "output_type": "display_data"
    }
   ],
   "source": [
    "library(dplyr)\n",
    "# Annahmen prüfen\n",
    "# Die Daten sind numerisch, siehe Datensatz\n",
    "\n",
    "# Die Beobachtungen sind unabhängig voneinander\n",
    "chilled <- data_co2 %>% filter(data_co2$Treatment == \"chilled\")\n",
    "nonchilled <- data_co2 %>% filter(data_co2$Treatment == \"nonchilled\")\n",
    "\n",
    "par(mfrow = c(2, 2))\n",
    "plot(data_co2$uptake, data_co2$conc, main = \"Scatter Plot all\",\n",
    "     xlab = \"uptake\", ylab = \"conc\",\n",
    "     pch = 19, col = \"blue\")\n",
    "\n",
    "plot(chilled$uptake, chilled$conc, main = \"Scatter Plot only chilled\",\n",
    "     xlab = \"uptake\", ylab = \"conc\",\n",
    "     pch = 19, col = \"blue\")\n",
    "\n",
    "plot(nonchilled$uptake, nonchilled$conc, main = \"Scatter Plot only nonchilled\",\n",
    "     xlab = \"uptake\", ylab = \"conc\",\n",
    "     pch = 19, col = \"blue\")\n",
    "\n",
    "correlation <- cor(data_co2$uptake, data_co2$conc)\n",
    "print(correlation)\n",
    "\n",
    "correlation <- cor(chilled$uptake, chilled$conc)\n",
    "print(correlation)\n",
    "\n",
    "correlation <- cor(nonchilled$uptake, nonchilled$conc)\n",
    "print(correlation)"
   ]
  },
  {
   "cell_type": "markdown",
   "id": "15edb962-45a8-4439-a29c-845c24a672bd",
   "metadata": {},
   "source": [
    "<div style=\"text-align: justify;\">\n",
    "Sowhol Scatterplot wie auch die Zahlenwerte deuten auf Unabhängigkeit, dazu mehr bei den Resultaten.\n",
    "</div>"
   ]
  },
  {
   "cell_type": "code",
   "execution_count": 48,
   "id": "83afb52a-2a9b-4ef5-8a36-2e418a21cbeb",
   "metadata": {},
   "outputs": [
    {
     "name": "stdout",
     "output_type": "stream",
     "text": [
      "\u001b[90m# A tibble: 2 × 4\u001b[39m\n",
      "  Treatment  sample_size mean_value sd_value\n",
      "  \u001b[3m\u001b[90m<fct>\u001b[39m\u001b[23m            \u001b[3m\u001b[90m<int>\u001b[39m\u001b[23m      \u001b[3m\u001b[90m<dbl>\u001b[39m\u001b[23m    \u001b[3m\u001b[90m<dbl>\u001b[39m\u001b[23m\n",
      "\u001b[90m1\u001b[39m nonchilled          42       30.6     9.70\n",
      "\u001b[90m2\u001b[39m chilled             42       23.8    10.9 \n",
      "\u001b[90m# A tibble: 2 × 4\u001b[39m\n",
      "  Treatment  sample_size mean_value sd_value\n",
      "  \u001b[3m\u001b[90m<fct>\u001b[39m\u001b[23m            \u001b[3m\u001b[90m<int>\u001b[39m\u001b[23m      \u001b[3m\u001b[90m<dbl>\u001b[39m\u001b[23m    \u001b[3m\u001b[90m<dbl>\u001b[39m\u001b[23m\n",
      "\u001b[90m1\u001b[39m nonchilled          42        435     298.\n",
      "\u001b[90m2\u001b[39m chilled             42        435     298.\n"
     ]
    },
    {
     "data": {
      "image/png": "[encoded data removed]",
      "text/plain": [
       "plot without title"
      ]
     },
     "metadata": {
      "image/png": {
       "height": 420,
       "width": 420
      }
     },
     "output_type": "display_data"
    }
   ],
   "source": [
    "par(mfrow = c(1, 2))\n",
    "data_frame1 <- boxplot(data_co2$uptake~data_co2$Treatment, data=data_co2)\n",
    "data_frame2 <- boxplot(data_co2$conc~data_co2$Treatment, data=data_co2)\n",
    "\n",
    "# Sample size, Mean, SD für chilled, nonchilled und uptake\n",
    "df_summary1 <- data_co2 %>%\n",
    "  group_by(Treatment) %>%\n",
    "  summarise(\n",
    "    sample_size = n(),\n",
    "    mean_value = mean(uptake),\n",
    "    sd_value = sd(uptake)\n",
    "  )\n",
    "\n",
    "print(df_summary1)\n",
    "\n",
    "# Sample size, Mean, SD für chilled, nonchilled und conc\n",
    "df_summary2 <- data_co2 %>%\n",
    "  group_by(Treatment) %>%\n",
    "  summarise(\n",
    "    sample_size = n(),\n",
    "    mean_value = mean(conc),\n",
    "    sd_value = sd(conc)\n",
    "  )\n",
    "\n",
    "print(df_summary2)"
   ]
  },
  {
   "cell_type": "markdown",
   "id": "dccb2ecc-94dc-40ee-b414-c918d1c9fe1d",
   "metadata": {},
   "source": [
    "<div style=\"text-align: justify;\">\n",
    "Die Überprüfung der Varianz ist bei uptake mit 9.7 und 10.9 ähnlich, bei conc gleich.\n",
    "</div>"
   ]
  },
  {
   "cell_type": "code",
   "execution_count": 49,
   "id": "77ed999a-6f97-4470-8140-a3a582e5af6c",
   "metadata": {},
   "outputs": [
    {
     "data": {
      "image/png": "[encoded data removed]",
      "text/plain": [
       "Plot with title \"QQ Plot only nonchilled\""
      ]
     },
     "metadata": {
      "image/png": {
       "height": 420,
       "width": 420
      }
     },
     "output_type": "display_data"
    }
   ],
   "source": [
    "# Stichproben sind annährend normalverteilt, mit QQ Plot und Shapiro-Wilk\n",
    "# Erstellung der Data frames\n",
    "chilled <- data_co2 %>% filter(data_co2$Treatment == \"chilled\")\n",
    "nonchilled <- data_co2 %>% filter(data_co2$Treatment == \"nonchilled\")\n",
    "\n",
    "par(mfrow = c(2, 2))\n",
    "# QQ  Plots\n",
    "qqnorm(chilled$conc, pch = 1, frame = FALSE, main = \"QQ Plot only chilled\",\n",
    "     xlab = \"conc\")\n",
    "qqline(chilled$conc, col = \"steelblue\", lwd = 2)\n",
    "qqnorm(nonchilled$conc, pch = 1, frame = FALSE,  main = \"QQ Plot only nonchilled\",\n",
    "     xlab = \"conc\")\n",
    "qqline(nonchilled$conc, col = \"red\", lwd = 2)\n",
    "qqnorm(chilled$uptake, pch = 1, frame = FALSE,  main = \"QQ Plot only chilled\",\n",
    "     xlab = \"uptake\")\n",
    "qqline(chilled$uptake, col = \"steelblue\", lwd = 2)\n",
    "qqnorm(nonchilled$uptake, pch = 1, frame = FALSE,   main = \"QQ Plot only nonchilled\",\n",
    "     xlab = \"uptake\")\n",
    "qqline(nonchilled$uptake, col = \"red\", lwd = 2)"
   ]
  },
  {
   "cell_type": "markdown",
   "id": "c0730cbc-8fc7-4405-aede-88274bc7faa8",
   "metadata": {},
   "source": [
    "<div style=\"text-align: justify;\">\n",
    "Die Normalverteilung ist eher nicht gegeben.\n",
    "</div>"
   ]
  },
  {
   "cell_type": "code",
   "execution_count": 50,
   "id": "e9959cbc-9eef-4130-b1bb-29ae5b98e597",
   "metadata": {},
   "outputs": [
    {
     "data": {
      "text/plain": [
       "\n",
       "\tShapiro-Wilk normality test\n",
       "\n",
       "data:  chilled$conc\n",
       "W = 0.87236, p-value = 0.0002367\n"
      ]
     },
     "metadata": {},
     "output_type": "display_data"
    },
    {
     "data": {
      "text/plain": [
       "\n",
       "\tShapiro-Wilk normality test\n",
       "\n",
       "data:  nonchilled$conc\n",
       "W = 0.87236, p-value = 0.0002367\n"
      ]
     },
     "metadata": {},
     "output_type": "display_data"
    },
    {
     "data": {
      "image/png": "[encoded data removed]",
      "text/plain": [
       "Plot with title \"Histogram of nonchilled$conc\""
      ]
     },
     "metadata": {
      "image/png": {
       "height": 420,
       "width": 420
      }
     },
     "output_type": "display_data"
    }
   ],
   "source": [
    "# Shapiro-Wilk mit Histogramm für Spalte conc\n",
    "par(mfrow = c(1, 2))\n",
    "hist(chilled$conc)\n",
    "shapiro.test(chilled$conc)\n",
    "hist(nonchilled$conc)\n",
    "shapiro.test(nonchilled$conc)"
   ]
  },
  {
   "cell_type": "markdown",
   "id": "7cfa85fc-afe5-4559-ab69-5c43802d6dd6",
   "metadata": {},
   "source": [
    "<div style=\"text-align: justify;\">\n",
    "Für die Spalte conc zeigt weder das Histogramm noch der Shapiro mit p-value = 0.0002367 eine Normalverteilung.\n",
    "</div>"
   ]
  },
  {
   "cell_type": "code",
   "execution_count": 52,
   "id": "cdfde7d2-a79f-446f-887f-f2782fb273e7",
   "metadata": {},
   "outputs": [
    {
     "data": {
      "text/plain": [
       "\n",
       "\tShapiro-Wilk normality test\n",
       "\n",
       "data:  chilled$uptake\n",
       "W = 0.89789, p-value = 0.001245\n"
      ]
     },
     "metadata": {},
     "output_type": "display_data"
    },
    {
     "data": {
      "text/plain": [
       "\n",
       "\tShapiro-Wilk normality test\n",
       "\n",
       "data:  nonchilled$uptake\n",
       "W = 0.94505, p-value = 0.04302\n"
      ]
     },
     "metadata": {},
     "output_type": "display_data"
    },
    {
     "data": {
      "image/png": "[encoded data removed]",
      "text/plain": [
       "Plot with title \"Histogram of nonchilled$uptake\""
      ]
     },
     "metadata": {
      "image/png": {
       "height": 420,
       "width": 420
      }
     },
     "output_type": "display_data"
    }
   ],
   "source": [
    "# Shapiro-Wilk mit Histogramm für Spalte uptake\n",
    "par(mfrow = c(1, 2))\n",
    "hist(chilled$uptake)\n",
    "shapiro.test(chilled$uptake)\n",
    "hist(nonchilled$uptake)\n",
    "shapiro.test(nonchilled$uptake)"
   ]
  },
  {
   "cell_type": "markdown",
   "id": "56741baa-ee3c-4629-bf35-4c659b41670d",
   "metadata": {},
   "source": [
    "<div style=\"text-align: justify;\">\n",
    "Für die Spalte uptake zeigt weder das Histogramm noch der Shapiro mit  p-value = 0.001245 und p-value = 0.04302 eine Normalverteilung. Hier gibt es zwei unterschiedliche p-values weil sich die Werte hier nicht wiederholen. Bei conc wiederholen sich diese Werte ja.\n",
    "</div>"
   ]
  },
  {
   "cell_type": "markdown",
   "id": "5f2a2fb7-0aa1-4f8d-93c4-1ef08bd08bba",
   "metadata": {},
   "source": [
    "### Resultat Annahmen für einen unabhängigen t-Test überprüfen\n",
    "<div style=\"text-align: justify;\">\n",
    "\n",
    "- Ja, die zu untersuchenden Spalten sin numerisch.\n",
    "\n",
    "- Die Daten sind unabhänig voneinander. Mit dem Scatterplot kann man kein Muster erkennen. Die Werte 0.4851774 (conc und uptake), 0.4277141 (Subset chilled conc und uptake), 0.6081648 (Subset nonchilled conc und uptake) deuten auf eine geringe Korrelation hin. Trotzdem kann man annehmen, dass bei der Aufnahme von Co2 auch die Konzentration steigt, dies für bei der Kühlung oder bei keiner Kühlung. Es gibt einen Zusammenhang.\n",
    "\n",
    "- df_summary1 der Mittelwert ist unterschiedlich, anhand des Boxplots erkennt man eine ähnliche Streuung, es scheint, dass die \"gleiche Varianz\" Annahme nicht verletzt ist. Dies mit den Werten 9.7 und 10.9.\n",
    "\n",
    "- df_summary2 zeigt gleiche Boxplots, weil die Werte sich wiederholen in der conc Spalte. Die ähnliche Streuung ist hier klar, die \"gleiche Varianz\" Annahme ist nicht verletzt. Dies mit den Werten 298 und 298.\n",
    "\n",
    "- Die QQ Plot deuten eher auf keine Normalverteilung. Auch hier wird für chilled und nonchilled mit den Spalten conc und uptake überprüft.\n",
    "\n",
    "- Für die Spalte conc gibt das Histogramm an, dass es sich nicht um eine Normalverteilung handelt, der Shapiro mit p-value = 0.0002367 verwirft die Nullhypothese ebenfalls, es ist keine Normalverteilung. Es sei angemerkt, dass beide Histogramme und Shapiros gleich sind, das verwundert nicht, die Werte wiederholen sich ja.\n",
    "\n",
    "- Für die Spalte uptake gibt das Histogramm an, dass es sich nicht um eine typische Normalverteilung handelt (bimodal?), der Shapiro mit p-value = 0.001245 und p-value = 0.04302 verwirft ebenfalls die Normalverteilung.\n",
    "\n",
    "- Des Weiteren: Hier habe ich nur Treatment berücksichtigt, ohne Type. \n",
    "\n",
    "- Die folgende Log und Square Transformation liefern keine besseren Resultate. Wir haben aber annährend Normalverteilung und könnten p = 0.01 wählen, sollte man den Fehler tolerieren wollen. Es wird nun mit dem Datensatz gearbeitet, ohne Transformation.\n",
    "</div>"
   ]
  },
  {
   "cell_type": "markdown",
   "id": "d5faa65f-8e62-4a1e-8e74-c096a2b95b9f",
   "metadata": {},
   "source": [
    "## Transformation Log\n",
    "<div style=\"text-align: justify;\">\n",
    "Mit der Log Tansformation soll gesehen werden, ob sich die Resultate verbessern.\n",
    "</div>"
   ]
  },
  {
   "cell_type": "code",
   "execution_count": 53,
   "id": "540af8c2-1a4f-4f57-a179-88ddb638637f",
   "metadata": {},
   "outputs": [
    {
     "data": {
      "text/plain": [
       "\n",
       "\tShapiro-Wilk normality test\n",
       "\n",
       "data:  chilled$log_conc\n",
       "W = 0.92636, p-value = 0.009783\n"
      ]
     },
     "metadata": {},
     "output_type": "display_data"
    },
    {
     "data": {
      "text/plain": [
       "\n",
       "\tShapiro-Wilk normality test\n",
       "\n",
       "data:  nonchilled$log_conc\n",
       "W = 0.92636, p-value = 0.009783\n"
      ]
     },
     "metadata": {},
     "output_type": "display_data"
    },
    {
     "data": {
      "text/plain": [
       "\n",
       "\tShapiro-Wilk normality test\n",
       "\n",
       "data:  chilled$log_uptake\n",
       "W = 0.93472, p-value = 0.01876\n"
      ]
     },
     "metadata": {},
     "output_type": "display_data"
    },
    {
     "data": {
      "image/png": "[encoded data removed]",
      "text/plain": [
       "Plot with title \"Normal Q-Q Plot\""
      ]
     },
     "metadata": {
      "image/png": {
       "height": 420,
       "width": 420
      }
     },
     "output_type": "display_data"
    },
    {
     "data": {
      "text/plain": [
       "\n",
       "\tShapiro-Wilk normality test\n",
       "\n",
       "data:  nonchilled$log_uptake\n",
       "W = 0.86729, p-value = 0.0001733\n"
      ]
     },
     "metadata": {},
     "output_type": "display_data"
    },
    {
     "data": {
      "image/png": "[encoded data removed]",
      "text/plain": [
       "Plot with title \"Histogram of nonchilled$log_uptake\""
      ]
     },
     "metadata": {
      "image/png": {
       "height": 420,
       "width": 420
      }
     },
     "output_type": "display_data"
    }
   ],
   "source": [
    "# Log\n",
    "data_co2$log_conc <- log(data_co2$conc)\n",
    "data_co2$log_uptake <- log(data_co2$uptake)\n",
    "chilled$log_conc <- log(chilled$conc)\n",
    "chilled$log_uptake <- log(chilled$uptake)\n",
    "nonchilled$log_conc <- log(nonchilled$conc)\n",
    "nonchilled$log_uptake <- log(nonchilled$uptake)\n",
    "\n",
    "par(mfrow = c(2, 2))\n",
    "qqnorm(chilled$log_conc, pch = 1, frame = FALSE)\n",
    "qqline(chilled$log_conc, col = \"steelblue\", lwd = 2)\n",
    "qqnorm(nonchilled$log_conc, pch = 1, frame = FALSE)\n",
    "qqline(nonchilled$log_conc, col = \"red\", lwd = 2)\n",
    "qqnorm(chilled$log_uptake, pch = 1, frame = FALSE)\n",
    "qqline(chilled$log_uptake, col = \"steelblue\", lwd = 2)\n",
    "qqnorm(nonchilled$log_uptake, pch = 1, frame = FALSE)\n",
    "qqline(nonchilled$log_uptake, col = \"red\", lwd = 2)\n",
    "\n",
    "# Shapiro-Wilk mit Histogramm für Spalte conc\n",
    "hist(chilled$log_conc)\n",
    "shapiro.test(chilled$log_conc)\n",
    "hist(nonchilled$log_conc)\n",
    "shapiro.test(nonchilled$log_conc)\n",
    "\n",
    "# Shapiro-Wilk mit Histogramm für Spalte uptake\n",
    "hist(chilled$log_uptake)\n",
    "shapiro.test(chilled$log_uptake)\n",
    "hist(nonchilled$log_uptake)\n",
    "shapiro.test(nonchilled$log_uptake)"
   ]
  },
  {
   "cell_type": "markdown",
   "id": "e0f28cde-640c-4f5f-b45f-cc425a16130e",
   "metadata": {},
   "source": [
    "### Resultat Transforamtion Log\n",
    "<div style=\"text-align: justify;\">\n",
    "    \n",
    "- Log verbessert den Datensatz nicht wirklich. Die Shapiros p-value = 0.009783, p-value = 0.01876, p-value = 0.0001733 verwerfen die Normalverteilung.\n",
    "\n",
    "- ODER: Für chilled uptake und nonchilled uptake sieht es gemäss den Histogrammen nach einer bimodal normal distribution aus, somit wäre die Normalverteilung ebenfalls erreicht. Ob dies so zu verwenden ist, kann untersucht werden.\n",
    "</div>"
   ]
  },
  {
   "cell_type": "markdown",
   "id": "8fc57a5a-1f1f-435a-a09c-c95497f719c7",
   "metadata": {},
   "source": [
    "## Transformation Square\n",
    "<div style=\"text-align: justify;\">\n",
    "Mit der Square Tansformation soll gesehen werden, ob sich die Resultate verbessern.\n",
    "</div>"
   ]
  },
  {
   "cell_type": "code",
   "execution_count": 54,
   "id": "615a3695-19df-4e86-95b8-2b2b1ca0ad4f",
   "metadata": {},
   "outputs": [
    {
     "data": {
      "text/plain": [
       "\n",
       "\tShapiro-Wilk normality test\n",
       "\n",
       "data:  chilled$square_conc\n",
       "W = 0.92088, p-value = 0.00646\n"
      ]
     },
     "metadata": {},
     "output_type": "display_data"
    },
    {
     "data": {
      "text/plain": [
       "\n",
       "\tShapiro-Wilk normality test\n",
       "\n",
       "data:  nonchilled$square_conc\n",
       "W = 0.92088, p-value = 0.00646\n"
      ]
     },
     "metadata": {},
     "output_type": "display_data"
    },
    {
     "data": {
      "text/plain": [
       "\n",
       "\tShapiro-Wilk normality test\n",
       "\n",
       "data:  chilled$square_uptake\n",
       "W = 0.92156, p-value = 0.006797\n"
      ]
     },
     "metadata": {},
     "output_type": "display_data"
    },
    {
     "data": {
      "image/png": "[encoded data removed]",
      "text/plain": [
       "Plot with title \"Normal Q-Q Plot\""
      ]
     },
     "metadata": {
      "image/png": {
       "height": 420,
       "width": 420
      }
     },
     "output_type": "display_data"
    },
    {
     "data": {
      "text/plain": [
       "\n",
       "\tShapiro-Wilk normality test\n",
       "\n",
       "data:  nonchilled$square_uptake\n",
       "W = 0.91392, p-value = 0.003862\n"
      ]
     },
     "metadata": {},
     "output_type": "display_data"
    },
    {
     "data": {
      "image/png": "[encoded data removed]",
      "text/plain": [
       "Plot with title \"Histogram of nonchilled$square_uptake\""
      ]
     },
     "metadata": {
      "image/png": {
       "height": 420,
       "width": 420
      }
     },
     "output_type": "display_data"
    }
   ],
   "source": [
    "# Square\n",
    "data_co2$square_conc <- sqrt(data_co2$conc)\n",
    "data_co2$square_uptake <- sqrt(data_co2$uptake)\n",
    "chilled$square_conc <- sqrt(chilled$conc)\n",
    "chilled$square_uptake <- sqrt(chilled$uptake)\n",
    "nonchilled$square_conc <- sqrt(nonchilled$conc)\n",
    "nonchilled$square_uptake <- sqrt(nonchilled$uptake)\n",
    "\n",
    "par(mfrow = c(2, 2))\n",
    "qqnorm(chilled$square_conc, pch = 1, frame = FALSE)\n",
    "qqline(chilled$square_conc, col = \"steelblue\", lwd = 2)\n",
    "qqnorm(nonchilled$square_conc, pch = 1, frame = FALSE)\n",
    "qqline(nonchilled$square_conc, col = \"red\", lwd = 2)\n",
    "qqnorm(chilled$square_uptake, pch = 1, frame = FALSE)\n",
    "qqline(chilled$square_uptake, col = \"steelblue\", lwd = 2)\n",
    "qqnorm(nonchilled$square_uptake, pch = 1, frame = FALSE)\n",
    "qqline(nonchilled$square_uptake, col = \"red\", lwd = 2)\n",
    "\n",
    "# Shapiro-Wilk mit Histogramm für Spalte conc\n",
    "hist(chilled$square_conc)\n",
    "shapiro.test(chilled$square_conc)\n",
    "hist(nonchilled$square_conc)\n",
    "shapiro.test(nonchilled$square_conc)\n",
    "\n",
    "# Shapiro-Wilk mit Histogramm für Spalte uptake\n",
    "hist(chilled$square_uptake)\n",
    "shapiro.test(chilled$square_uptake)\n",
    "hist(nonchilled$square_uptake)\n",
    "shapiro.test(nonchilled$square_uptake)"
   ]
  },
  {
   "cell_type": "markdown",
   "id": "5eefd6bc-33a3-473a-b504-7e1e9cfef560",
   "metadata": {},
   "source": [
    "### Resultat Transformation Square\n",
    "<div style=\"text-align: justify;\">\n",
    "    \n",
    "- Square verbessert den Datensatz nicht wirklich. Die Shapiros p-value = 0.00646, p-value = 0.006797, p-value = 0.003862 verwerfen die Normalverteilung.\n",
    "\n",
    "- ODER: Für chilled uptake und nonchilled uptake sieht es gemäss den Histogrammen nach einer bimodal normal distribution aus, somit wäre die Normalverteilung ebenfalls erreicht. Ob dies so zu verwenden ist, kann untersucht werden.  \n",
    "</div>"
   ]
  },
  {
   "cell_type": "markdown",
   "id": "b66a33f9-7514-45c1-b07e-6cc2d0f9cb3d",
   "metadata": {},
   "source": [
    "## Ein-Stichproben t-Test\n",
    "<div style=\"text-align: justify;\">\n",
    "Hier wird überprüft ob sich der Mittelwert stark von einem theoretischen Wert unterscheidet.\n",
    "</div>"
   ]
  },
  {
   "cell_type": "code",
   "execution_count": 55,
   "id": "3f99a00f-f309-456b-b1fd-fd2e9572d0c4",
   "metadata": {},
   "outputs": [
    {
     "data": {
      "text/plain": [
       "\n",
       "\tOne Sample t-test\n",
       "\n",
       "data:  data_co2$uptake\n",
       "t = 10.351, df = 83, p-value < 2.2e-16\n",
       "alternative hypothesis: true mean is not equal to 15\n",
       "95 percent confidence interval:\n",
       " 24.86622 29.55997\n",
       "sample estimates:\n",
       "mean of x \n",
       "  27.2131 \n"
      ]
     },
     "metadata": {},
     "output_type": "display_data"
    },
    {
     "data": {
      "text/plain": [
       "\n",
       "\tOne Sample t-test\n",
       "\n",
       "data:  data_co2$uptake\n",
       "t = 6.1131, df = 83, p-value = 3.053e-08\n",
       "alternative hypothesis: true mean is not equal to 20\n",
       "95 percent confidence interval:\n",
       " 24.86622 29.55997\n",
       "sample estimates:\n",
       "mean of x \n",
       "  27.2131 \n"
      ]
     },
     "metadata": {},
     "output_type": "display_data"
    },
    {
     "data": {
      "text/plain": [
       "\n",
       "\tOne Sample t-test\n",
       "\n",
       "data:  data_co2$uptake\n",
       "t = 1.8756, df = 83, p-value = 0.06423\n",
       "alternative hypothesis: true mean is not equal to 25\n",
       "95 percent confidence interval:\n",
       " 24.86622 29.55997\n",
       "sample estimates:\n",
       "mean of x \n",
       "  27.2131 \n"
      ]
     },
     "metadata": {},
     "output_type": "display_data"
    },
    {
     "data": {
      "text/plain": [
       "\n",
       "\tOne Sample t-test\n",
       "\n",
       "data:  data_co2$uptake\n",
       "t = 0.1806, df = 83, p-value = 0.8571\n",
       "alternative hypothesis: true mean is not equal to 27\n",
       "95 percent confidence interval:\n",
       " 24.86622 29.55997\n",
       "sample estimates:\n",
       "mean of x \n",
       "  27.2131 \n"
      ]
     },
     "metadata": {},
     "output_type": "display_data"
    },
    {
     "data": {
      "text/plain": [
       "\n",
       "\tOne Sample t-test\n",
       "\n",
       "data:  data_co2$uptake\n",
       "t = -2.3619, df = 83, p-value = 0.02052\n",
       "alternative hypothesis: true mean is not equal to 30\n",
       "95 percent confidence interval:\n",
       " 24.86622 29.55997\n",
       "sample estimates:\n",
       "mean of x \n",
       "  27.2131 \n"
      ]
     },
     "metadata": {},
     "output_type": "display_data"
    },
    {
     "data": {
      "text/plain": [
       "\n",
       "\tOne Sample t-test\n",
       "\n",
       "data:  data_co2$uptake\n",
       "t = -6.5994, df = 83, p-value = 3.64e-09\n",
       "alternative hypothesis: true mean is not equal to 35\n",
       "95 percent confidence interval:\n",
       " 24.86622 29.55997\n",
       "sample estimates:\n",
       "mean of x \n",
       "  27.2131 \n"
      ]
     },
     "metadata": {},
     "output_type": "display_data"
    },
    {
     "data": {
      "text/plain": [
       "\n",
       "\tOne Sample t-test\n",
       "\n",
       "data:  data_co2$uptake\n",
       "t = -61.686, df = 83, p-value < 2.2e-16\n",
       "alternative hypothesis: true mean is not equal to 100\n",
       "95 percent confidence interval:\n",
       " 24.86622 29.55997\n",
       "sample estimates:\n",
       "mean of x \n",
       "  27.2131 \n"
      ]
     },
     "metadata": {},
     "output_type": "display_data"
    }
   ],
   "source": [
    "# Einstichprobentest mit theoretischem Mittelwert Abgleich\n",
    "t.test(data_co2$uptake, mu=15)\n",
    "t.test(data_co2$uptake, mu=20)\n",
    "t.test(data_co2$uptake, mu=25)\n",
    "t.test(data_co2$uptake, mu=27)\n",
    "t.test(data_co2$uptake, mu=30)\n",
    "t.test(data_co2$uptake, mu=35)\n",
    "t.test(data_co2$uptake, mu=100)"
   ]
  },
  {
   "cell_type": "markdown",
   "id": "e9641cb0-b11d-4cbd-a843-5d046b7611d5",
   "metadata": {},
   "source": [
    "### Resultat Ein-Stichproben t-Test\n",
    "<div style=\"text-align: justify;\">\n",
    "    \n",
    "- Bei mu=25 und mu=27 verwerfen wir die Nullhypothese nicht, der angenommene theoretische Mittelwert der Population scheint zu stimmen, es gibt keinen signifikanten Unterschied.  Mit p-values 0.06423 und 0.8571 nehmen wir die Nullhypothese an. Das Konfidenzintervall liegt bei 24.86622 29.55997.\n",
    "\n",
    "- Man erkennt die Zunahme und Abbnahme des p-values bei den ausgewählten theoretischen Populationsmittelwerten.\n",
    "</div>"
   ]
  },
  {
   "cell_type": "markdown",
   "id": "77fe4a87-632b-4b08-9384-3c129c63967e",
   "metadata": {},
   "source": [
    "## Zwei-Stichproben t-Test, unabhängig\n",
    "<div style=\"text-align: justify;\">\n",
    "Hier wird untersucht, ob sich die Mittelwerte von zwei Stichproben sich signifikant unterscheiden.\n",
    "</div>"
   ]
  },
  {
   "cell_type": "code",
   "execution_count": 56,
   "id": "ddf3831e-6c3e-49b6-b69e-1f955b178724",
   "metadata": {},
   "outputs": [
    {
     "data": {
      "text/plain": [
       "\n",
       "\tTwo Sample t-test\n",
       "\n",
       "data:  data_co2$uptake by data_co2$Treatment\n",
       "t = 3.0485, df = 82, p-value = 0.003096\n",
       "alternative hypothesis: true difference in means between group nonchilled and group chilled is not equal to 0\n",
       "95 percent confidence interval:\n",
       "  2.38324 11.33581\n",
       "sample estimates:\n",
       "mean in group nonchilled    mean in group chilled \n",
       "                30.64286                 23.78333 \n"
      ]
     },
     "metadata": {},
     "output_type": "display_data"
    },
    {
     "data": {
      "text/plain": [
       "\n",
       "\tTwo Sample t-test\n",
       "\n",
       "data:  data_co2$uptake by data_co2$Treatment\n",
       "t = 3.0485, df = 82, p-value = 0.9985\n",
       "alternative hypothesis: true difference in means between group nonchilled and group chilled is less than 0\n",
       "95 percent confidence interval:\n",
       "   -Inf 10.603\n",
       "sample estimates:\n",
       "mean in group nonchilled    mean in group chilled \n",
       "                30.64286                 23.78333 \n"
      ]
     },
     "metadata": {},
     "output_type": "display_data"
    },
    {
     "data": {
      "text/plain": [
       "\n",
       "\tTwo Sample t-test\n",
       "\n",
       "data:  data_co2$uptake by data_co2$Treatment\n",
       "t = 3.0485, df = 82, p-value = 0.001548\n",
       "alternative hypothesis: true difference in means between group nonchilled and group chilled is greater than 0\n",
       "95 percent confidence interval:\n",
       " 3.116048      Inf\n",
       "sample estimates:\n",
       "mean in group nonchilled    mean in group chilled \n",
       "                30.64286                 23.78333 \n"
      ]
     },
     "metadata": {},
     "output_type": "display_data"
    }
   ],
   "source": [
    "# gleiche Varianz\n",
    "t.test(data_co2$uptake ~ data_co2$Treatment, var.equal = TRUE, alternative= \"two.sided\")\n",
    "t.test(data_co2$uptake ~ data_co2$Treatment, var.equal = TRUE, alternative= \"less\")\n",
    "t.test(data_co2$uptake ~ data_co2$Treatment, var.equal = TRUE, alternative= \"greater\")"
   ]
  },
  {
   "cell_type": "code",
   "execution_count": 57,
   "id": "4aa809fa-5a71-477c-aba6-d388a45b8fb2",
   "metadata": {},
   "outputs": [
    {
     "data": {
      "text/plain": [
       "\n",
       "\tWelch Two Sample t-test\n",
       "\n",
       "data:  data_co2$uptake by data_co2$Treatment\n",
       "t = 3.0485, df = 80.945, p-value = 0.003107\n",
       "alternative hypothesis: true difference in means between group nonchilled and group chilled is not equal to 0\n",
       "95 percent confidence interval:\n",
       "  2.382366 11.336682\n",
       "sample estimates:\n",
       "mean in group nonchilled    mean in group chilled \n",
       "                30.64286                 23.78333 \n"
      ]
     },
     "metadata": {},
     "output_type": "display_data"
    },
    {
     "data": {
      "text/plain": [
       "\n",
       "\tWelch Two Sample t-test\n",
       "\n",
       "data:  data_co2$uptake by data_co2$Treatment\n",
       "t = 3.0485, df = 80.945, p-value = 0.9984\n",
       "alternative hypothesis: true difference in means between group nonchilled and group chilled is less than 0\n",
       "95 percent confidence interval:\n",
       "     -Inf 10.60356\n",
       "sample estimates:\n",
       "mean in group nonchilled    mean in group chilled \n",
       "                30.64286                 23.78333 \n"
      ]
     },
     "metadata": {},
     "output_type": "display_data"
    },
    {
     "data": {
      "text/plain": [
       "\n",
       "\tWelch Two Sample t-test\n",
       "\n",
       "data:  data_co2$uptake by data_co2$Treatment\n",
       "t = 3.0485, df = 80.945, p-value = 0.001553\n",
       "alternative hypothesis: true difference in means between group nonchilled and group chilled is greater than 0\n",
       "95 percent confidence interval:\n",
       " 3.11549     Inf\n",
       "sample estimates:\n",
       "mean in group nonchilled    mean in group chilled \n",
       "                30.64286                 23.78333 \n"
      ]
     },
     "metadata": {},
     "output_type": "display_data"
    }
   ],
   "source": [
    "# ungleiche Varianz\n",
    "t.test(data_co2$uptake ~ data_co2$Treatment, var.equal = FALSE, alternative= \"two.sided\")\n",
    "t.test(data_co2$uptake ~ data_co2$Treatment, var.equal = FALSE, alternative= \"less\")\n",
    "t.test(data_co2$uptake ~ data_co2$Treatment, var.equal = FALSE, alternative= \"greater\")"
   ]
  },
  {
   "cell_type": "code",
   "execution_count": 58,
   "id": "0e383f36-52c7-4127-b960-faa39d51ceee",
   "metadata": {},
   "outputs": [
    {
     "data": {
      "image/png": "[encoded data removed]",
      "text/plain": [
       "plot without title"
      ]
     },
     "metadata": {
      "image/png": {
       "height": 420,
       "width": 420
      }
     },
     "output_type": "display_data"
    }
   ],
   "source": [
    "boxplot(data_co2$uptake~data_co2$Treatment, data=data_co2)"
   ]
  },
  {
   "cell_type": "markdown",
   "id": "4cb868aa-2562-4e53-9350-a256b3c4fffc",
   "metadata": {},
   "source": [
    "### Resultat Zwei-Stichproben t-Test, unabhängig\n",
    "<div style=\"text-align: justify;\">\n",
    "    s\n",
    "- Ungleiche Varianz wird trotzdem getestet, auch wenn wir aus den Annahmen erkennen, dass die gleiche Varianz Annahme nicht verletzt ist.\n",
    "\n",
    "- Mit gleicher Varianz und ungleicher Varianz:\n",
    "\n",
    "Mit gleicher Varianz:\n",
    "- p-value = 0.003096 (two sided)\n",
    "- p-value = 0.9985 (less)\n",
    "- p-value = 0.001548 (greater)\n",
    "\n",
    "Mit ungleicher Varianz:\n",
    "- p-value = 0.003107 (two sided)\n",
    "- p-value = 0.9984 (less)\n",
    "- p-value = 0.001553 (greater)\n",
    "\n",
    "- Mit p-value = 0.9985 kann klar gesagt werden, dass bei den Gruppen chilled und nonchilled die Mittelwerte sich unterscheiden, nonchilled 30.64286 und chilled 23.78333, siehe auch Boxplot. Der umgekehre Fall ist ebenfalls korrekt, mit p-value = 0.001548 müssen wir die Nullhypothese verwerfen, denn ist der eine Wert grösser, kann er nicht auch gleichzeitig kleiner sein. Mit p-value = 0.003096 kann die Nullhypothese verworfen werden, es muss ein kleiner gleich oder grösser gleich exisitieren, die Mittelwerte können nicht gleich sein.\n",
    "</div>"
   ]
  },
  {
   "cell_type": "markdown",
   "id": "027ef4ad-8654-461b-8238-ed45649337b2",
   "metadata": {},
   "source": [
    "## Gepaarter t-test, Paardifferenzentest, abhängig\n",
    "<div style=\"text-align: justify;\">\n",
    "\n",
    "</div>"
   ]
  },
  {
   "cell_type": "code",
   "execution_count": 59,
   "id": "50a47b64-d58e-4093-9275-8cb99361d2c7",
   "metadata": {},
   "outputs": [
    {
     "data": {
      "text/plain": [
       "\n",
       "\tPaired t-test\n",
       "\n",
       "data:  data_co2$uptake[data_co2$Treatment == \"chilled\"] and data_co2$uptake[data_co2$Treatment == \"nonchilled\"]\n",
       "t = -7.939, df = 41, p-value = 8.051e-10\n",
       "alternative hypothesis: true mean difference is not equal to 0\n",
       "95 percent confidence interval:\n",
       " -8.604458 -5.114589\n",
       "sample estimates:\n",
       "mean difference \n",
       "      -6.859524 \n"
      ]
     },
     "metadata": {},
     "output_type": "display_data"
    }
   ],
   "source": [
    "t.test(data_co2$uptake[data_co2$Treatment == \"chilled\"], data_co2$uptake[data_co2$Treatment == \"nonchilled\"], paired = TRUE)"
   ]
  },
  {
   "cell_type": "markdown",
   "id": "123ab44c-dbcc-4c82-a47f-7e183f373258",
   "metadata": {},
   "source": [
    "### Resultat Gepaarter t-test, Paardifferenzentest, abhängig\n",
    "<div style=\"text-align: justify;\">\n",
    "    \n",
    "- Es gibt mit p-value = 8.051e-10 einen signifikanten Unterschied zwischen den Mittelwerten der Gruppen.\n",
    "\n",
    "</div>"
   ]
  },
  {
   "cell_type": "markdown",
   "id": "c6367625-bb74-425c-806f-44389f45de6d",
   "metadata": {},
   "source": [
    "## Effect sizes\n",
    "<div style=\"text-align: justify;\">\n",
    "Mit der Effektstärke kann nun die Grösse des Unterschieds berechnet werden.\n",
    "</div>"
   ]
  },
  {
   "cell_type": "code",
   "execution_count": 60,
   "id": "392226e2-8f4e-43c9-a755-4b8fa21497f2",
   "metadata": {},
   "outputs": [
    {
     "name": "stderr",
     "output_type": "stream",
     "text": [
      "Warning message:\n",
      "\"package 'rstatix' is in use and will not be installed\"\n"
     ]
    },
    {
     "data": {
      "text/html": [
       "<table class=\"dataframe\">\n",
       "<caption>A rstatix_test: 1 × 6</caption>\n",
       "<thead>\n",
       "\t<tr><th></th><th scope=col>.y.</th><th scope=col>group1</th><th scope=col>group2</th><th scope=col>effsize</th><th scope=col>n</th><th scope=col>magnitude</th></tr>\n",
       "\t<tr><th></th><th scope=col>&lt;chr&gt;</th><th scope=col>&lt;chr&gt;</th><th scope=col>&lt;chr&gt;</th><th scope=col>&lt;dbl&gt;</th><th scope=col>&lt;int&gt;</th><th scope=col>&lt;ord&gt;</th></tr>\n",
       "</thead>\n",
       "<tbody>\n",
       "\t<tr><th scope=row>Cohen's d</th><td>uptake</td><td>1</td><td>null model</td><td>1.129335</td><td>84</td><td>large</td></tr>\n",
       "</tbody>\n",
       "</table>\n"
      ],
      "text/latex": [
       "A rstatix\\_test: 1 × 6\n",
       "\\begin{tabular}{r|llllll}\n",
       "  & .y. & group1 & group2 & effsize & n & magnitude\\\\\n",
       "  & <chr> & <chr> & <chr> & <dbl> & <int> & <ord>\\\\\n",
       "\\hline\n",
       "\tCohen's d & uptake & 1 & null model & 1.129335 & 84 & large\\\\\n",
       "\\end{tabular}\n"
      ],
      "text/markdown": [
       "\n",
       "A rstatix_test: 1 × 6\n",
       "\n",
       "| <!--/--> | .y. &lt;chr&gt; | group1 &lt;chr&gt; | group2 &lt;chr&gt; | effsize &lt;dbl&gt; | n &lt;int&gt; | magnitude &lt;ord&gt; |\n",
       "|---|---|---|---|---|---|---|\n",
       "| Cohen's d | uptake | 1 | null model | 1.129335 | 84 | large |\n",
       "\n"
      ],
      "text/plain": [
       "          .y.    group1 group2     effsize  n  magnitude\n",
       "Cohen's d uptake 1      null model 1.129335 84 large    "
      ]
     },
     "metadata": {},
     "output_type": "display_data"
    },
    {
     "data": {
      "text/html": [
       "<table class=\"dataframe\">\n",
       "<caption>A rstatix_test: 1 × 6</caption>\n",
       "<thead>\n",
       "\t<tr><th></th><th scope=col>.y.</th><th scope=col>group1</th><th scope=col>group2</th><th scope=col>effsize</th><th scope=col>n</th><th scope=col>magnitude</th></tr>\n",
       "\t<tr><th></th><th scope=col>&lt;chr&gt;</th><th scope=col>&lt;chr&gt;</th><th scope=col>&lt;chr&gt;</th><th scope=col>&lt;dbl&gt;</th><th scope=col>&lt;int&gt;</th><th scope=col>&lt;ord&gt;</th></tr>\n",
       "</thead>\n",
       "<tbody>\n",
       "\t<tr><th scope=row>Cohen's d</th><td>uptake</td><td>1</td><td>null model</td><td>0.6669891</td><td>84</td><td>moderate</td></tr>\n",
       "</tbody>\n",
       "</table>\n"
      ],
      "text/latex": [
       "A rstatix\\_test: 1 × 6\n",
       "\\begin{tabular}{r|llllll}\n",
       "  & .y. & group1 & group2 & effsize & n & magnitude\\\\\n",
       "  & <chr> & <chr> & <chr> & <dbl> & <int> & <ord>\\\\\n",
       "\\hline\n",
       "\tCohen's d & uptake & 1 & null model & 0.6669891 & 84 & moderate\\\\\n",
       "\\end{tabular}\n"
      ],
      "text/markdown": [
       "\n",
       "A rstatix_test: 1 × 6\n",
       "\n",
       "| <!--/--> | .y. &lt;chr&gt; | group1 &lt;chr&gt; | group2 &lt;chr&gt; | effsize &lt;dbl&gt; | n &lt;int&gt; | magnitude &lt;ord&gt; |\n",
       "|---|---|---|---|---|---|---|\n",
       "| Cohen's d | uptake | 1 | null model | 0.6669891 | 84 | moderate |\n",
       "\n"
      ],
      "text/plain": [
       "          .y.    group1 group2     effsize   n  magnitude\n",
       "Cohen's d uptake 1      null model 0.6669891 84 moderate "
      ]
     },
     "metadata": {},
     "output_type": "display_data"
    },
    {
     "data": {
      "text/html": [
       "<table class=\"dataframe\">\n",
       "<caption>A rstatix_test: 1 × 6</caption>\n",
       "<thead>\n",
       "\t<tr><th></th><th scope=col>.y.</th><th scope=col>group1</th><th scope=col>group2</th><th scope=col>effsize</th><th scope=col>n</th><th scope=col>magnitude</th></tr>\n",
       "\t<tr><th></th><th scope=col>&lt;chr&gt;</th><th scope=col>&lt;chr&gt;</th><th scope=col>&lt;chr&gt;</th><th scope=col>&lt;dbl&gt;</th><th scope=col>&lt;int&gt;</th><th scope=col>&lt;ord&gt;</th></tr>\n",
       "</thead>\n",
       "<tbody>\n",
       "\t<tr><th scope=row>Cohen's d</th><td>uptake</td><td>1</td><td>null model</td><td>0.2046431</td><td>84</td><td>small</td></tr>\n",
       "</tbody>\n",
       "</table>\n"
      ],
      "text/latex": [
       "A rstatix\\_test: 1 × 6\n",
       "\\begin{tabular}{r|llllll}\n",
       "  & .y. & group1 & group2 & effsize & n & magnitude\\\\\n",
       "  & <chr> & <chr> & <chr> & <dbl> & <int> & <ord>\\\\\n",
       "\\hline\n",
       "\tCohen's d & uptake & 1 & null model & 0.2046431 & 84 & small\\\\\n",
       "\\end{tabular}\n"
      ],
      "text/markdown": [
       "\n",
       "A rstatix_test: 1 × 6\n",
       "\n",
       "| <!--/--> | .y. &lt;chr&gt; | group1 &lt;chr&gt; | group2 &lt;chr&gt; | effsize &lt;dbl&gt; | n &lt;int&gt; | magnitude &lt;ord&gt; |\n",
       "|---|---|---|---|---|---|---|\n",
       "| Cohen's d | uptake | 1 | null model | 0.2046431 | 84 | small |\n",
       "\n"
      ],
      "text/plain": [
       "          .y.    group1 group2     effsize   n  magnitude\n",
       "Cohen's d uptake 1      null model 0.2046431 84 small    "
      ]
     },
     "metadata": {},
     "output_type": "display_data"
    },
    {
     "data": {
      "text/html": [
       "<table class=\"dataframe\">\n",
       "<caption>A rstatix_test: 1 × 6</caption>\n",
       "<thead>\n",
       "\t<tr><th></th><th scope=col>.y.</th><th scope=col>group1</th><th scope=col>group2</th><th scope=col>effsize</th><th scope=col>n</th><th scope=col>magnitude</th></tr>\n",
       "\t<tr><th></th><th scope=col>&lt;chr&gt;</th><th scope=col>&lt;chr&gt;</th><th scope=col>&lt;chr&gt;</th><th scope=col>&lt;dbl&gt;</th><th scope=col>&lt;int&gt;</th><th scope=col>&lt;ord&gt;</th></tr>\n",
       "</thead>\n",
       "<tbody>\n",
       "\t<tr><th scope=row>Cohen's d</th><td>uptake</td><td>1</td><td>null model</td><td>0.01970475</td><td>84</td><td>negligible</td></tr>\n",
       "</tbody>\n",
       "</table>\n"
      ],
      "text/latex": [
       "A rstatix\\_test: 1 × 6\n",
       "\\begin{tabular}{r|llllll}\n",
       "  & .y. & group1 & group2 & effsize & n & magnitude\\\\\n",
       "  & <chr> & <chr> & <chr> & <dbl> & <int> & <ord>\\\\\n",
       "\\hline\n",
       "\tCohen's d & uptake & 1 & null model & 0.01970475 & 84 & negligible\\\\\n",
       "\\end{tabular}\n"
      ],
      "text/markdown": [
       "\n",
       "A rstatix_test: 1 × 6\n",
       "\n",
       "| <!--/--> | .y. &lt;chr&gt; | group1 &lt;chr&gt; | group2 &lt;chr&gt; | effsize &lt;dbl&gt; | n &lt;int&gt; | magnitude &lt;ord&gt; |\n",
       "|---|---|---|---|---|---|---|\n",
       "| Cohen's d | uptake | 1 | null model | 0.01970475 | 84 | negligible |\n",
       "\n"
      ],
      "text/plain": [
       "          .y.    group1 group2     effsize    n  magnitude \n",
       "Cohen's d uptake 1      null model 0.01970475 84 negligible"
      ]
     },
     "metadata": {},
     "output_type": "display_data"
    },
    {
     "data": {
      "text/html": [
       "<table class=\"dataframe\">\n",
       "<caption>A rstatix_test: 1 × 6</caption>\n",
       "<thead>\n",
       "\t<tr><th></th><th scope=col>.y.</th><th scope=col>group1</th><th scope=col>group2</th><th scope=col>effsize</th><th scope=col>n</th><th scope=col>magnitude</th></tr>\n",
       "\t<tr><th></th><th scope=col>&lt;chr&gt;</th><th scope=col>&lt;chr&gt;</th><th scope=col>&lt;chr&gt;</th><th scope=col>&lt;dbl&gt;</th><th scope=col>&lt;int&gt;</th><th scope=col>&lt;ord&gt;</th></tr>\n",
       "</thead>\n",
       "<tbody>\n",
       "\t<tr><th scope=row>Cohen's d</th><td>uptake</td><td>1</td><td>null model</td><td>-0.2577028</td><td>84</td><td>small</td></tr>\n",
       "</tbody>\n",
       "</table>\n"
      ],
      "text/latex": [
       "A rstatix\\_test: 1 × 6\n",
       "\\begin{tabular}{r|llllll}\n",
       "  & .y. & group1 & group2 & effsize & n & magnitude\\\\\n",
       "  & <chr> & <chr> & <chr> & <dbl> & <int> & <ord>\\\\\n",
       "\\hline\n",
       "\tCohen's d & uptake & 1 & null model & -0.2577028 & 84 & small\\\\\n",
       "\\end{tabular}\n"
      ],
      "text/markdown": [
       "\n",
       "A rstatix_test: 1 × 6\n",
       "\n",
       "| <!--/--> | .y. &lt;chr&gt; | group1 &lt;chr&gt; | group2 &lt;chr&gt; | effsize &lt;dbl&gt; | n &lt;int&gt; | magnitude &lt;ord&gt; |\n",
       "|---|---|---|---|---|---|---|\n",
       "| Cohen's d | uptake | 1 | null model | -0.2577028 | 84 | small |\n",
       "\n"
      ],
      "text/plain": [
       "          .y.    group1 group2     effsize    n  magnitude\n",
       "Cohen's d uptake 1      null model -0.2577028 84 small    "
      ]
     },
     "metadata": {},
     "output_type": "display_data"
    },
    {
     "data": {
      "text/html": [
       "<table class=\"dataframe\">\n",
       "<caption>A rstatix_test: 1 × 6</caption>\n",
       "<thead>\n",
       "\t<tr><th></th><th scope=col>.y.</th><th scope=col>group1</th><th scope=col>group2</th><th scope=col>effsize</th><th scope=col>n</th><th scope=col>magnitude</th></tr>\n",
       "\t<tr><th></th><th scope=col>&lt;chr&gt;</th><th scope=col>&lt;chr&gt;</th><th scope=col>&lt;chr&gt;</th><th scope=col>&lt;dbl&gt;</th><th scope=col>&lt;int&gt;</th><th scope=col>&lt;ord&gt;</th></tr>\n",
       "</thead>\n",
       "<tbody>\n",
       "\t<tr><th scope=row>Cohen's d</th><td>uptake</td><td>1</td><td>null model</td><td>-0.7200488</td><td>84</td><td>moderate</td></tr>\n",
       "</tbody>\n",
       "</table>\n"
      ],
      "text/latex": [
       "A rstatix\\_test: 1 × 6\n",
       "\\begin{tabular}{r|llllll}\n",
       "  & .y. & group1 & group2 & effsize & n & magnitude\\\\\n",
       "  & <chr> & <chr> & <chr> & <dbl> & <int> & <ord>\\\\\n",
       "\\hline\n",
       "\tCohen's d & uptake & 1 & null model & -0.7200488 & 84 & moderate\\\\\n",
       "\\end{tabular}\n"
      ],
      "text/markdown": [
       "\n",
       "A rstatix_test: 1 × 6\n",
       "\n",
       "| <!--/--> | .y. &lt;chr&gt; | group1 &lt;chr&gt; | group2 &lt;chr&gt; | effsize &lt;dbl&gt; | n &lt;int&gt; | magnitude &lt;ord&gt; |\n",
       "|---|---|---|---|---|---|---|\n",
       "| Cohen's d | uptake | 1 | null model | -0.7200488 | 84 | moderate |\n",
       "\n"
      ],
      "text/plain": [
       "          .y.    group1 group2     effsize    n  magnitude\n",
       "Cohen's d uptake 1      null model -0.7200488 84 moderate "
      ]
     },
     "metadata": {},
     "output_type": "display_data"
    },
    {
     "data": {
      "text/html": [
       "<table class=\"dataframe\">\n",
       "<caption>A rstatix_test: 1 × 6</caption>\n",
       "<thead>\n",
       "\t<tr><th></th><th scope=col>.y.</th><th scope=col>group1</th><th scope=col>group2</th><th scope=col>effsize</th><th scope=col>n</th><th scope=col>magnitude</th></tr>\n",
       "\t<tr><th></th><th scope=col>&lt;chr&gt;</th><th scope=col>&lt;chr&gt;</th><th scope=col>&lt;chr&gt;</th><th scope=col>&lt;dbl&gt;</th><th scope=col>&lt;int&gt;</th><th scope=col>&lt;ord&gt;</th></tr>\n",
       "</thead>\n",
       "<tbody>\n",
       "\t<tr><th scope=row>Cohen's d</th><td>uptake</td><td>1</td><td>null model</td><td>-6.730546</td><td>84</td><td>large</td></tr>\n",
       "</tbody>\n",
       "</table>\n"
      ],
      "text/latex": [
       "A rstatix\\_test: 1 × 6\n",
       "\\begin{tabular}{r|llllll}\n",
       "  & .y. & group1 & group2 & effsize & n & magnitude\\\\\n",
       "  & <chr> & <chr> & <chr> & <dbl> & <int> & <ord>\\\\\n",
       "\\hline\n",
       "\tCohen's d & uptake & 1 & null model & -6.730546 & 84 & large\\\\\n",
       "\\end{tabular}\n"
      ],
      "text/markdown": [
       "\n",
       "A rstatix_test: 1 × 6\n",
       "\n",
       "| <!--/--> | .y. &lt;chr&gt; | group1 &lt;chr&gt; | group2 &lt;chr&gt; | effsize &lt;dbl&gt; | n &lt;int&gt; | magnitude &lt;ord&gt; |\n",
       "|---|---|---|---|---|---|---|\n",
       "| Cohen's d | uptake | 1 | null model | -6.730546 | 84 | large |\n",
       "\n"
      ],
      "text/plain": [
       "          .y.    group1 group2     effsize   n  magnitude\n",
       "Cohen's d uptake 1      null model -6.730546 84 large    "
      ]
     },
     "metadata": {},
     "output_type": "display_data"
    },
    {
     "data": {
      "text/html": [
       "<table class=\"dataframe\">\n",
       "<caption>A rstatix_test: 1 × 7</caption>\n",
       "<thead>\n",
       "\t<tr><th></th><th scope=col>.y.</th><th scope=col>group1</th><th scope=col>group2</th><th scope=col>effsize</th><th scope=col>n1</th><th scope=col>n2</th><th scope=col>magnitude</th></tr>\n",
       "\t<tr><th></th><th scope=col>&lt;chr&gt;</th><th scope=col>&lt;chr&gt;</th><th scope=col>&lt;chr&gt;</th><th scope=col>&lt;dbl&gt;</th><th scope=col>&lt;int&gt;</th><th scope=col>&lt;int&gt;</th><th scope=col>&lt;ord&gt;</th></tr>\n",
       "</thead>\n",
       "<tbody>\n",
       "\t<tr><th scope=row>Cohen's d</th><td>uptake</td><td>nonchilled</td><td>chilled</td><td>0.6652288</td><td>42</td><td>42</td><td>moderate</td></tr>\n",
       "</tbody>\n",
       "</table>\n"
      ],
      "text/latex": [
       "A rstatix\\_test: 1 × 7\n",
       "\\begin{tabular}{r|lllllll}\n",
       "  & .y. & group1 & group2 & effsize & n1 & n2 & magnitude\\\\\n",
       "  & <chr> & <chr> & <chr> & <dbl> & <int> & <int> & <ord>\\\\\n",
       "\\hline\n",
       "\tCohen's d & uptake & nonchilled & chilled & 0.6652288 & 42 & 42 & moderate\\\\\n",
       "\\end{tabular}\n"
      ],
      "text/markdown": [
       "\n",
       "A rstatix_test: 1 × 7\n",
       "\n",
       "| <!--/--> | .y. &lt;chr&gt; | group1 &lt;chr&gt; | group2 &lt;chr&gt; | effsize &lt;dbl&gt; | n1 &lt;int&gt; | n2 &lt;int&gt; | magnitude &lt;ord&gt; |\n",
       "|---|---|---|---|---|---|---|---|\n",
       "| Cohen's d | uptake | nonchilled | chilled | 0.6652288 | 42 | 42 | moderate |\n",
       "\n"
      ],
      "text/plain": [
       "          .y.    group1     group2  effsize   n1 n2 magnitude\n",
       "Cohen's d uptake nonchilled chilled 0.6652288 42 42 moderate "
      ]
     },
     "metadata": {},
     "output_type": "display_data"
    }
   ],
   "source": [
    "# Cohen's d One-sample\n",
    "# d = x - mu / s\n",
    "# x: Mittelwert der Stichprobe\n",
    "# mu: Mittwert der Nullhypothese\n",
    "# s: Standardabweichung der Stichprobe\n",
    "install.packages(\"rstatix\")\n",
    "library(rstatix)\n",
    "\n",
    "# One-sample t-test effect size\n",
    "cohens_d(formula = uptake ~ 1, data=data_co2, mu=15) \n",
    "cohens_d(formula = uptake ~ 1, data=data_co2, mu=20) \n",
    "cohens_d(formula = uptake ~ 1, data=data_co2, mu=25) \n",
    "cohens_d(formula = uptake ~ 1, data=data_co2, mu=27) \n",
    "cohens_d(formula = uptake ~ 1, data=data_co2, mu=30) \n",
    "cohens_d(formula = uptake ~ 1, data=data_co2, mu=35) \n",
    "cohens_d(formula = uptake ~ 1, data=data_co2, mu=100) \n",
    "\n",
    "# Cohen's d Two indepedent samples t-test effect size\n",
    "# d = x1 -x2 / sqrt((s1^2+s2^2) / 2)\n",
    "# x1,x2: Mittelwert der Stichproben\n",
    "# s1^2,s2^2: Varianzen der Stichproben\n",
    "\n",
    "#  Two-sample t-test effect size\n",
    "cohens_d(formula = uptake ~ Treatment, paired = FALSE, data=data_co2)\n",
    "\n",
    "# Cohen's d Two indepedent samples t-test effect size mit den Gruppen\n",
    "# d = (x1 -x2) / s\n",
    "# x1,x2: Mittelwerte der Gruppe chilled und nonchilled\n",
    "# s: Standardabweichng der Population\n",
    "# Geht nicht!"
   ]
  },
  {
   "cell_type": "markdown",
   "id": "71029962-1f85-47eb-a40c-3ff50db500a0",
   "metadata": {},
   "source": [
    "### Resultat Effect sizes\n",
    "<div style=\"text-align: justify;\">\n",
    "    \n",
    "Nebst der statistischen Signifikanz soll der Unterschied mit der Effektstärke bestimt werden.\n",
    "Mit der Effektstärke kann die Grösse des Unterschieds bestimmt werden. Diese wird dann anschliessend füt den power-test als Input verwendet.\n",
    "\n",
    "Resultat:\n",
    "\n",
    "- One-sample t-test effect size Resultate:\n",
    "\n",
    "mu=15 1.129335\n",
    "\n",
    "mu=20 0.6669891\n",
    "\n",
    "mu=25 0.2046431\t\n",
    "\n",
    "mu=27 0.01970475\n",
    "\n",
    "mu=30 -0.2577028\n",
    "\n",
    "mu=35 -0.7200488\n",
    "\n",
    "mu=100 -6.730546\n",
    "\n",
    "abs(d) < 0.2 vernachlässigbar\n",
    "\n",
    "0.2 <= abs(d) < 0.5 klein\n",
    "\n",
    "0.5 <= abs(d) < 0.8 mittel\n",
    "\n",
    "abs(d) >= 0.8 gross\n",
    "\n",
    "- Bei mu=27 erkennt man den Unterschied \"vernachlässigbar\". Dies deckt sich auch mit dem Test der Signifikanz, der bei 27 ein besseres Resultat liefert.\n",
    "\n",
    "- Die neagtiven Zahlen können ignoriert werden, der Test würde sagen, diese würde wieder besser abschneiden, aber nur weil d als absoluter Wert verwendet wird.\n",
    "\n",
    "- Two-sample t-test effect size:\n",
    "\n",
    "Die Effektstärke ist 0.6652288 und das kommt hin, wenn man den Test von früher berücksichtigt, es muss ein Unterschied vorhanden sein, was die Mittelwerte aus dem Test so zeigen:\n",
    "Nonchilled: 30.64286\n",
    "Chilled: 23.78333\n",
    "\n",
    "-  Die zweite Variante des Cohen's d Two indepedent samples t-test geht nicht, da die Standardabweichung der Population nicht bekannt ist.\n",
    "\n",
    "</div>"
   ]
  },
  {
   "cell_type": "markdown",
   "id": "e0a2ec49-f658-4ead-9a86-86ca42f81047",
   "metadata": {},
   "source": [
    "## Trennschärfe, power of a test für den t-test\n",
    "<div style=\"text-align: justify;\">\n",
    "\n",
    "</div>"
   ]
  },
  {
   "cell_type": "code",
   "execution_count": 61,
   "id": "29b919d0-3144-40fb-9c26-278a7a267359",
   "metadata": {},
   "outputs": [
    {
     "data": {
      "text/plain": [
       "\n",
       "     One-sample t test power calculation \n",
       "\n",
       "              n = 84\n",
       "          delta = 1.129335\n",
       "             sd = 1\n",
       "      sig.level = 0.05\n",
       "          power = 1\n",
       "    alternative = two.sided\n"
      ]
     },
     "metadata": {},
     "output_type": "display_data"
    },
    {
     "data": {
      "text/plain": [
       "\n",
       "     One-sample t test power calculation \n",
       "\n",
       "              n = 84\n",
       "          delta = 0.6669891\n",
       "             sd = 1\n",
       "      sig.level = 0.05\n",
       "          power = 0.9999776\n",
       "    alternative = two.sided\n"
      ]
     },
     "metadata": {},
     "output_type": "display_data"
    },
    {
     "data": {
      "text/plain": [
       "\n",
       "     One-sample t test power calculation \n",
       "\n",
       "              n = 84\n",
       "          delta = 0.2046431\n",
       "             sd = 1\n",
       "      sig.level = 0.05\n",
       "          power = 0.4577539\n",
       "    alternative = two.sided\n"
      ]
     },
     "metadata": {},
     "output_type": "display_data"
    },
    {
     "data": {
      "text/plain": [
       "\n",
       "     One-sample t test power calculation \n",
       "\n",
       "              n = 84\n",
       "          delta = 0.01970475\n",
       "             sd = 1\n",
       "      sig.level = 0.05\n",
       "          power = 0.03741997\n",
       "    alternative = two.sided\n"
      ]
     },
     "metadata": {},
     "output_type": "display_data"
    },
    {
     "data": {
      "text/plain": [
       "\n",
       "     Two-sample t test power calculation \n",
       "\n",
       "              n = 84\n",
       "          delta = 0.6652288\n",
       "             sd = 1\n",
       "      sig.level = 0.05\n",
       "          power = 0.9899945\n",
       "    alternative = two.sided\n",
       "\n",
       "NOTE: n is number in *each* group\n"
      ]
     },
     "metadata": {},
     "output_type": "display_data"
    }
   ],
   "source": [
    "# Power Analyse für den t-test one-sample\n",
    "# d= sind die Effektstärken\n",
    "power.t.test(n=84, d=1.129335, type=c(\"one.sample\"))\n",
    "power.t.test(n=84, d=0.6669891, type=c(\"one.sample\"))\n",
    "power.t.test(n=84, d=0.2046431, type=c(\"one.sample\"))\n",
    "power.t.test(n=84, d=0.01970475, type=c(\"one.sample\"))             \n",
    "\n",
    "# Power Analyse für den t-test two-sample\n",
    "power.t.test(n=84, d=0.6652288, type=c(\"two.sample\"))"
   ]
  },
  {
   "cell_type": "markdown",
   "id": "d843ab61-e5d2-41f3-8179-edd5696976ee",
   "metadata": {},
   "source": [
    "### Resultat Trennschärfe, power of a test für den t-test\n",
    "<div style=\"text-align: justify;\">\n",
    "    \n",
    "- Die Resultate sind ählich wie bei der Effektstärke und dem vorangegangenen T-test für eine Stichprobe: Mit einer Teststärke von 1 kann gesagt werden, dass ein Unterschied vorhanden ist, mit 3.741% wird kein Unterschied mehr erkannt. Die 3.741% decken sich mit dem Resultat auch vom t-Test mit mu=27.\n",
    "\n",
    "- Bei dem Zwistichprobentest ist die Effektstärke 66.5%, somit im Bereich \"Mittel\", die Teststärke 98.99%, ein Unterschied kann hier tatsächlich gefunden werden, sollte einer existieren.\n",
    "</div>"
   ]
  },
  {
   "cell_type": "markdown",
   "id": "f3cdc724-ad11-4ab1-93da-a675f906d06c",
   "metadata": {},
   "source": [
    "## ANOVA (einfaktorielle Varianzanalyse)\n",
    "<div style=\"text-align: justify;\">\n",
    "\n",
    "</div>"
   ]
  },
  {
   "cell_type": "code",
   "execution_count": 62,
   "id": "2f9df98c-9158-48f3-990c-6c7842ab23a4",
   "metadata": {},
   "outputs": [
    {
     "data": {
      "text/plain": [
       "            Df Sum Sq Mean Sq F value Pr(>F)  \n",
       "plant$group  2  3.766  1.8832   4.846 0.0159 *\n",
       "Residuals   27 10.492  0.3886                 \n",
       "---\n",
       "Signif. codes:  0 '***' 0.001 '**' 0.01 '*' 0.05 '.' 0.1 ' ' 1"
      ]
     },
     "metadata": {},
     "output_type": "display_data"
    },
    {
     "data": {
      "image/png": "[encoded data removed]",
      "text/plain": [
       "plot without title"
      ]
     },
     "metadata": {
      "image/png": {
       "height": 420,
       "width": 420
      }
     },
     "output_type": "display_data"
    }
   ],
   "source": [
    "# Neuer Datensatz für ANOVA\n",
    "plant <- PlantGrowth\n",
    "\n",
    "# Annahmen prüfen, Outliers\n",
    "par(mfrow = c(1, 2))\n",
    "boxplot(plant$weight, data=plant)\n",
    "boxplot(data_co2$uptake, data=plant)\n",
    "\n",
    "# AOV\n",
    "aov <- aov(plant$weight~plant$group) \n",
    "summary(aov)"
   ]
  },
  {
   "cell_type": "code",
   "execution_count": 63,
   "id": "27d5fa39-c033-4a51-a728-384a8531cdb4",
   "metadata": {},
   "outputs": [
    {
     "data": {
      "text/plain": [
       "\n",
       "\tPairwise comparisons using t tests with pooled SD \n",
       "\n",
       "data:  plant$weight and plant$group \n",
       "\n",
       "     ctrl  trt1 \n",
       "trt1 0.583 -    \n",
       "trt2 0.263 0.013\n",
       "\n",
       "P value adjustment method: bonferroni "
      ]
     },
     "metadata": {},
     "output_type": "display_data"
    }
   ],
   "source": [
    "# Bonferroni Anpassung\n",
    "pairwise.t.test(plant$weight,plant$group, p.adjust=\"bonferroni\")"
   ]
  },
  {
   "cell_type": "markdown",
   "id": "b6e341cc-7a57-44f8-a0f4-da97fb206aec",
   "metadata": {},
   "source": [
    "### Resultat ANOVA (einfaktorielle Varianzanalyse) auf Datensatz plant\n",
    "<div style=\"text-align: justify;\">\n",
    "    \n",
    "- Es gibt keine Outliers, somit sind alle Annahmen (siehe zuoberst + Outlier) unverletzt. Im Boxplot sind keine Outliers zu erkennen.\n",
    "\n",
    "- (AOV) Mit einem Wert von 0.0159 kann die Nullhypothese verworfen werden, die Gleichheit der Mittelwerte über die Gruppen hinweg kann nicht vorkommen.\n",
    "\n",
    "- Mit Bonferroni vorallem kann nun bestimmt werden, welche Gruppen sich näher sind und welche nicht. Mit 0.583 und 0.263 kann die Annahme von Nähe nicht verworfen werden, mit 0.013 schon. Ähnlich sind somit nur ctrl und trt1 und ctrl trt2.\n",
    "</div>"
   ]
  },
  {
   "cell_type": "code",
   "execution_count": 64,
   "id": "2f4efb1a-7b07-4711-8ac8-2bc129be23be",
   "metadata": {},
   "outputs": [
    {
     "data": {
      "image/png": "[encoded data removed]",
      "text/plain": [
       "plot without title"
      ]
     },
     "metadata": {
      "image/png": {
       "height": 420,
       "width": 420
      }
     },
     "output_type": "display_data"
    }
   ],
   "source": [
    "# Lineare Regression und ANOVA, neuer Datensatz\n",
    "USArrests <- USArrests\n",
    "\n",
    "# Annahmen prüfen, Outliers\n",
    "par(mfrow = c(2, 2))\n",
    "boxplot(USArrests$Murder, data=USArrests)\n",
    "boxplot(USArrests$Assault, data=USArrests)\n",
    "boxplot(USArrests$UrbanPop, data=USArrests)\n",
    "boxplot(USArrests$Rape, data=USArrests)"
   ]
  },
  {
   "cell_type": "code",
   "execution_count": 65,
   "id": "e5d2df04-e67c-4f48-878a-35b1181426f5",
   "metadata": {},
   "outputs": [
    {
     "data": {
      "text/plain": [
       "\n",
       "Call:\n",
       "lm(formula = Murder ~ Assault + UrbanPop + Rape, data = USArrests)\n",
       "\n",
       "Residuals:\n",
       "    Min      1Q  Median      3Q     Max \n",
       "-4.3990 -1.9127 -0.3444  1.2557  7.4279 \n",
       "\n",
       "Coefficients:\n",
       "             Estimate Std. Error t value Pr(>|t|)    \n",
       "(Intercept)  3.276639   1.737997   1.885   0.0657 .  \n",
       "Assault      0.039777   0.005912   6.729 2.33e-08 ***\n",
       "UrbanPop    -0.054694   0.027880  -1.962   0.0559 .  \n",
       "Rape         0.061399   0.055740   1.102   0.2764    \n",
       "---\n",
       "Signif. codes:  0 '***' 0.001 '**' 0.01 '*' 0.05 '.' 0.1 ' ' 1\n",
       "\n",
       "Residual standard error: 2.574 on 46 degrees of freedom\n",
       "Multiple R-squared:  0.6721,\tAdjusted R-squared:  0.6507 \n",
       "F-statistic: 31.42 on 3 and 46 DF,  p-value: 3.322e-11\n"
      ]
     },
     "metadata": {},
     "output_type": "display_data"
    },
    {
     "data": {
      "text/plain": [
       "            Df Sum Sq Mean Sq F value   Pr(>F)    \n",
       "Assault      1  597.7   597.7  90.195 2.05e-12 ***\n",
       "UrbanPop     1   19.0    19.0   2.864   0.0974 .  \n",
       "Rape         1    8.0     8.0   1.213   0.2764    \n",
       "Residuals   46  304.8     6.6                     \n",
       "---\n",
       "Signif. codes:  0 '***' 0.001 '**' 0.01 '*' 0.05 '.' 0.1 ' ' 1"
      ]
     },
     "metadata": {},
     "output_type": "display_data"
    }
   ],
   "source": [
    "# LM Model\n",
    "lm_model2 <- lm(Murder ~ Assault + UrbanPop + Rape, data=USArrests)\n",
    "summary(lm_model2)\n",
    "\n",
    "# AOV\n",
    "USArrests.aov <- aov(lm_model2)\n",
    "summary(USArrests.aov)"
   ]
  },
  {
   "cell_type": "markdown",
   "id": "1b47ef4a-3554-45ef-90d5-5b3bc33d5fdf",
   "metadata": {},
   "source": [
    "### Resultat ANOVA (einfaktorielle Varianzanalyse) lineare Regression\n",
    "<div style=\"text-align: justify;\">\n",
    "    \n",
    "- Es gibt keine Outliers (nur zwei bei rape, sind vernachlässigbar), somit sind alle Annahmen unverletzt. Im Boxplot sind keine Outliers zu erkennen.\n",
    "\n",
    "- Die Variable Assault ist dem Modell am wichtigsten. Der p-value 3.322e-11 bei dem AOV sagt, dass die Mittelwerte über den Gruppen nicht gleich sein kann.\n",
    "</div>"
   ]
  },
  {
   "cell_type": "markdown",
   "id": "d3953e93-c9e9-4f3f-80d9-1c8e45f4fb46",
   "metadata": {},
   "source": [
    "# Beschreibung Ergebnisse logistische Regression\n",
    "<div style=\"text-align: justify;\">\n",
    "Die Ergebnisse kommen alle bei den bereits erwähnten Resultaten vor.\n",
    "</div>"
   ]
  },
  {
   "cell_type": "markdown",
   "id": "44747064-ffd9-4ea3-b43d-2d30e760fbff",
   "metadata": {},
   "source": [
    "# Analyse/Hinterfragen Ergebnisse logistische Regression\n",
    "<div style=\"text-align: justify;\">\n",
    "Die Analyse der Ergebnisse kommt bei den bereits erwähnten Resultaten vor.\n",
    "</div>"
   ]
  },
  {
   "cell_type": "markdown",
   "id": "73162c4d-68e8-4719-9ca4-b3896b0893b9",
   "metadata": {},
   "source": [
    "# Quellenangaben\n",
    "<div style=\"text-align: justify;\">\n",
    "\n",
    "-   Daten von R (24.12.2024)\n",
    "    \n",
    "- Einfaktorielle Varianzanalyse (ANOVA) in R rechnen, https://bjoernwalther.com/einfaktorielle-varianzanalyse-anova-in-r-rechnen/ \n",
    "(13.10.2024)\n",
    "\n",
    "- Chapter 3 Effect sizes,\n",
    "https://bookdown.org/content/f9d035ed-86ea-4779-ad01-31acc973f0dd/3-effect-sizes.html\n",
    "(13.10.2024)\n",
    "\n",
    "- How to Interpret Cohen’s d (With Examples), https://www.statology.org/interpret-cohens-d/\n",
    "(13.10.2024)\n",
    "\n",
    "- Quellen FFHS Videos,\n",
    "(13.10.2024)\n",
    "</div>"
   ]
  },
  {
   "cell_type": "code",
   "execution_count": null,
   "id": "92ebff7e-3eeb-44a0-ba9d-2524135fe6e0",
   "metadata": {},
   "outputs": [],
   "source": []
  }
 ],
 "metadata": {
  "kernelspec": {
   "display_name": "R",
   "language": "R",
   "name": "ir"
  },
  "language_info": {
   "codemirror_mode": "r",
   "file_extension": ".r",
   "mimetype": "text/x-r-source",
   "name": "R",
   "pygments_lexer": "r",
   "version": "4.4.2"
  }
 },
 "nbformat": 4,
 "nbformat_minor": 5
}
