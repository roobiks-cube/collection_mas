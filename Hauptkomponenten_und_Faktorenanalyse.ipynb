{
 "cells": [
  {
   "cell_type": "markdown",
   "id": "ffdb587c-26fd-40a3-9885-60ef5ec922cb",
   "metadata": {},
   "source": [
    "<div style=\"font-size:40px;\">\n",
    "Hauptkomponenten und Faktorenanalyse\n",
    "</div>"
   ]
  },
  {
   "cell_type": "markdown",
   "id": "673c839c-97a7-4056-8c18-1be674ae48a8",
   "metadata": {},
   "source": [
    "# Einleitung Hauptkomponenten\n",
    "<div style=\"text-align: justify;\">\n",
    "    \n",
    "Vorgehensweise Hauptkomponentenanalyse (stark an dem Buch orientiert,  bei manchen Zeilen ist head verwendet worden, um das Maximum von 100 Seiten eher erreichen zu können.):\n",
    "\n",
    "- Daten einlesen\n",
    "\n",
    "- Hauptkomponentenanalyse vornehmen (mit und ohne princomp):\n",
    "  - Liegt ein hochdimensionaler Datensatz vor, der in einem niedrigdimensionalen Raum dargestellt werden soll.\n",
    "  - Erfüllen die Daten die Voraussetzungen (mindestens eines davon): Alle Merkmale sind quantitativ, die Daten liegen als Varianz-Kovarianz-Matrix oder Korrelationsmatrix vor.\n",
    "  - Die Hauptkomponentenanalyse soll auf Basis der Varianz-Kovarianz-Matrix oder Korrelatiosnmatrix durchgeführt werden.\n",
    "  - Die Eigenwerte und Eigenvektoren werden bestimmt.\n",
    "  - Auswahl der Hauptkomponenten: Anteil der Gesamtstreuung, die durch die Hauptkomponenten erklärt wird, Kaiser-Kriterium, Jolliffe-Kriterium, Scree-Plot\n",
    "  - Darstellung der minimal spannenden Bäume, grafische Beuteilung in R^2.\n",
    "  - Hauptkomponenten interpretieren.\n",
    "    \n",
    "</div>\n"
   ]
  },
  {
   "cell_type": "markdown",
   "id": "6a855450-bead-43df-a318-6ce1e216a761",
   "metadata": {},
   "source": [
    "# Statistisches Vorgehen Hauptkomponenten"
   ]
  },
  {
   "cell_type": "markdown",
   "id": "2febd9bc-4ef8-47d4-bf27-0b7582fc3f19",
   "metadata": {},
   "source": [
    "## Vorgehensweise ohne princomp Varianz\n",
    "<div style=\"text-align: justify;\">\n",
    "Die Kovarianzmatrix und Korrelationsmatrix in Vergleich bringen.\n",
    "</div>"
   ]
  },
  {
   "cell_type": "code",
   "execution_count": 10,
   "id": "b5b12afd-616b-4441-aea8-eb68ef879deb",
   "metadata": {},
   "outputs": [
    {
     "data": {
      "text/html": [
       "<table class=\"dataframe\">\n",
       "<caption>A data.frame: 6 × 4</caption>\n",
       "<thead>\n",
       "\t<tr><th></th><th scope=col>area</th><th scope=col>peri</th><th scope=col>shape</th><th scope=col>perm</th></tr>\n",
       "\t<tr><th></th><th scope=col>&lt;int&gt;</th><th scope=col>&lt;dbl&gt;</th><th scope=col>&lt;dbl&gt;</th><th scope=col>&lt;dbl&gt;</th></tr>\n",
       "</thead>\n",
       "<tbody>\n",
       "\t<tr><th scope=row>1</th><td>4990</td><td>2791.90</td><td>0.0903296</td><td> 6.3</td></tr>\n",
       "\t<tr><th scope=row>2</th><td>7002</td><td>3892.60</td><td>0.1486220</td><td> 6.3</td></tr>\n",
       "\t<tr><th scope=row>3</th><td>7558</td><td>3930.66</td><td>0.1833120</td><td> 6.3</td></tr>\n",
       "\t<tr><th scope=row>4</th><td>7352</td><td>3869.32</td><td>0.1170630</td><td> 6.3</td></tr>\n",
       "\t<tr><th scope=row>5</th><td>7943</td><td>3948.54</td><td>0.1224170</td><td>17.1</td></tr>\n",
       "\t<tr><th scope=row>6</th><td>7979</td><td>4010.15</td><td>0.1670450</td><td>17.1</td></tr>\n",
       "</tbody>\n",
       "</table>\n"
      ],
      "text/latex": [
       "A data.frame: 6 × 4\n",
       "\\begin{tabular}{r|llll}\n",
       "  & area & peri & shape & perm\\\\\n",
       "  & <int> & <dbl> & <dbl> & <dbl>\\\\\n",
       "\\hline\n",
       "\t1 & 4990 & 2791.90 & 0.0903296 &  6.3\\\\\n",
       "\t2 & 7002 & 3892.60 & 0.1486220 &  6.3\\\\\n",
       "\t3 & 7558 & 3930.66 & 0.1833120 &  6.3\\\\\n",
       "\t4 & 7352 & 3869.32 & 0.1170630 &  6.3\\\\\n",
       "\t5 & 7943 & 3948.54 & 0.1224170 & 17.1\\\\\n",
       "\t6 & 7979 & 4010.15 & 0.1670450 & 17.1\\\\\n",
       "\\end{tabular}\n"
      ],
      "text/markdown": [
       "\n",
       "A data.frame: 6 × 4\n",
       "\n",
       "| <!--/--> | area &lt;int&gt; | peri &lt;dbl&gt; | shape &lt;dbl&gt; | perm &lt;dbl&gt; |\n",
       "|---|---|---|---|---|\n",
       "| 1 | 4990 | 2791.90 | 0.0903296 |  6.3 |\n",
       "| 2 | 7002 | 3892.60 | 0.1486220 |  6.3 |\n",
       "| 3 | 7558 | 3930.66 | 0.1833120 |  6.3 |\n",
       "| 4 | 7352 | 3869.32 | 0.1170630 |  6.3 |\n",
       "| 5 | 7943 | 3948.54 | 0.1224170 | 17.1 |\n",
       "| 6 | 7979 | 4010.15 | 0.1670450 | 17.1 |\n",
       "\n"
      ],
      "text/plain": [
       "  area peri    shape     perm\n",
       "1 4990 2791.90 0.0903296  6.3\n",
       "2 7002 3892.60 0.1486220  6.3\n",
       "3 7558 3930.66 0.1833120  6.3\n",
       "4 7352 3869.32 0.1170630  6.3\n",
       "5 7943 3948.54 0.1224170 17.1\n",
       "6 7979 4010.15 0.1670450 17.1"
      ]
     },
     "metadata": {},
     "output_type": "display_data"
    },
    {
     "data": {
      "text/html": [
       "<table class=\"dataframe\">\n",
       "<caption>A matrix: 4 × 4 of type dbl</caption>\n",
       "<thead>\n",
       "\t<tr><th></th><th scope=col>area</th><th scope=col>peri</th><th scope=col>shape</th><th scope=col>perm</th></tr>\n",
       "</thead>\n",
       "<tbody>\n",
       "\t<tr><th scope=row>area</th><td>7203044.71232</td><td>3160367.49330</td><td>-40.820823047</td><td>-466063.55213</td></tr>\n",
       "\t<tr><th scope=row>peri</th><td>3160367.49330</td><td>2049653.68934</td><td>-51.775231267</td><td>-463032.47715</td></tr>\n",
       "\t<tr><th scope=row>shape</th><td>    -40.82082</td><td>    -51.77523</td><td>  0.006971657</td><td>     20.35164</td></tr>\n",
       "\t<tr><th scope=row>perm</th><td>-466063.55213</td><td>-463032.47715</td><td> 20.351635275</td><td> 191684.79915</td></tr>\n",
       "</tbody>\n",
       "</table>\n"
      ],
      "text/latex": [
       "A matrix: 4 × 4 of type dbl\n",
       "\\begin{tabular}{r|llll}\n",
       "  & area & peri & shape & perm\\\\\n",
       "\\hline\n",
       "\tarea & 7203044.71232 & 3160367.49330 & -40.820823047 & -466063.55213\\\\\n",
       "\tperi & 3160367.49330 & 2049653.68934 & -51.775231267 & -463032.47715\\\\\n",
       "\tshape &     -40.82082 &     -51.77523 &   0.006971657 &      20.35164\\\\\n",
       "\tperm & -466063.55213 & -463032.47715 &  20.351635275 &  191684.79915\\\\\n",
       "\\end{tabular}\n"
      ],
      "text/markdown": [
       "\n",
       "A matrix: 4 × 4 of type dbl\n",
       "\n",
       "| <!--/--> | area | peri | shape | perm |\n",
       "|---|---|---|---|---|\n",
       "| area | 7203044.71232 | 3160367.49330 | -40.820823047 | -466063.55213 |\n",
       "| peri | 3160367.49330 | 2049653.68934 | -51.775231267 | -463032.47715 |\n",
       "| shape |     -40.82082 |     -51.77523 |   0.006971657 |      20.35164 |\n",
       "| perm | -466063.55213 | -463032.47715 |  20.351635275 |  191684.79915 |\n",
       "\n"
      ],
      "text/plain": [
       "      area          peri          shape         perm         \n",
       "area  7203044.71232 3160367.49330 -40.820823047 -466063.55213\n",
       "peri  3160367.49330 2049653.68934 -51.775231267 -463032.47715\n",
       "shape     -40.82082     -51.77523   0.006971657      20.35164\n",
       "perm  -466063.55213 -463032.47715  20.351635275  191684.79915"
      ]
     },
     "metadata": {},
     "output_type": "display_data"
    },
    {
     "data": {
      "text/html": [
       "<table class=\"dataframe\">\n",
       "<caption>A matrix: 4 × 4 of type dbl</caption>\n",
       "<thead>\n",
       "\t<tr><th></th><th scope=col>area</th><th scope=col>peri</th><th scope=col>shape</th><th scope=col>perm</th></tr>\n",
       "</thead>\n",
       "<tbody>\n",
       "\t<tr><th scope=row>area</th><td> 1.0000000</td><td> 0.8225064</td><td>-0.1821611</td><td>-0.3966370</td></tr>\n",
       "\t<tr><th scope=row>peri</th><td> 0.8225064</td><td> 1.0000000</td><td>-0.4331255</td><td>-0.7387158</td></tr>\n",
       "\t<tr><th scope=row>shape</th><td>-0.1821611</td><td>-0.4331255</td><td> 1.0000000</td><td> 0.5567208</td></tr>\n",
       "\t<tr><th scope=row>perm</th><td>-0.3966370</td><td>-0.7387158</td><td> 0.5567208</td><td> 1.0000000</td></tr>\n",
       "</tbody>\n",
       "</table>\n"
      ],
      "text/latex": [
       "A matrix: 4 × 4 of type dbl\n",
       "\\begin{tabular}{r|llll}\n",
       "  & area & peri & shape & perm\\\\\n",
       "\\hline\n",
       "\tarea &  1.0000000 &  0.8225064 & -0.1821611 & -0.3966370\\\\\n",
       "\tperi &  0.8225064 &  1.0000000 & -0.4331255 & -0.7387158\\\\\n",
       "\tshape & -0.1821611 & -0.4331255 &  1.0000000 &  0.5567208\\\\\n",
       "\tperm & -0.3966370 & -0.7387158 &  0.5567208 &  1.0000000\\\\\n",
       "\\end{tabular}\n"
      ],
      "text/markdown": [
       "\n",
       "A matrix: 4 × 4 of type dbl\n",
       "\n",
       "| <!--/--> | area | peri | shape | perm |\n",
       "|---|---|---|---|---|\n",
       "| area |  1.0000000 |  0.8225064 | -0.1821611 | -0.3966370 |\n",
       "| peri |  0.8225064 |  1.0000000 | -0.4331255 | -0.7387158 |\n",
       "| shape | -0.1821611 | -0.4331255 |  1.0000000 |  0.5567208 |\n",
       "| perm | -0.3966370 | -0.7387158 |  0.5567208 |  1.0000000 |\n",
       "\n"
      ],
      "text/plain": [
       "      area       peri       shape      perm      \n",
       "area   1.0000000  0.8225064 -0.1821611 -0.3966370\n",
       "peri   0.8225064  1.0000000 -0.4331255 -0.7387158\n",
       "shape -0.1821611 -0.4331255  1.0000000  0.5567208\n",
       "perm  -0.3966370 -0.7387158  0.5567208  1.0000000"
      ]
     },
     "metadata": {},
     "output_type": "display_data"
    }
   ],
   "source": [
    "# Daten einlesen\n",
    "# Verwendung des Datensatzes rock\n",
    "rock_data <- data.frame(rock)\n",
    "head(rock_data)\n",
    "# Berechnung der Varianz-Kovarianzmatrix\n",
    "cov(rock_data)\n",
    "\n",
    "# Berechnung der Korrelationsmatrix\n",
    "cor(rock_data)"
   ]
  },
  {
   "cell_type": "markdown",
   "id": "781c7d85-a8b1-4d08-a7e0-731ad83b4155",
   "metadata": {},
   "source": [
    "### Resultat Vorgehensweise ohne princomp Varianz\n",
    "<div style=\"text-align: justify;\">\n",
    "    \n",
    "- Die Varianzen sind: 7203044.71232, 2049653.68934, 0.006971657, 191684.79915. Da sich diese stark unterscheiden, wird die Korrelationsmatrix für die weiteren Berechnungen verwendet.\n",
    "</div>"
   ]
  },
  {
   "cell_type": "markdown",
   "id": "9ecd70d1-ca07-4a98-ba1b-10f2c4738079",
   "metadata": {},
   "source": [
    "## Vorgehensweise ohne princomp Kriterien\n",
    "<div style=\"text-align: justify;\">\n",
    "Ohne dem princomp Befehl sollen nun die Hauptkomponenten bestimmt werden, die den Datzensatz am besten repräsentieren.\n",
    "</div>"
   ]
  },
  {
   "cell_type": "code",
   "execution_count": 11,
   "id": "fbe166f5-bde7-45bc-9e00-7faf52495d8c",
   "metadata": {},
   "outputs": [
    {
     "data": {
      "text/html": [
       "<style>\n",
       ".list-inline {list-style: none; margin:0; padding: 0}\n",
       ".list-inline>li {display: inline-block}\n",
       ".list-inline>li:not(:last-child)::after {content: \"\\00b7\"; padding: 0 .5ex}\n",
       "</style>\n",
       "<ol class=list-inline><li>2.60896149658739</li><li>0.922919591532206</li><li>0.39605650068641</li><li>0.0720624111939854</li></ol>\n"
      ],
      "text/latex": [
       "\\begin{enumerate*}\n",
       "\\item 2.60896149658739\n",
       "\\item 0.922919591532206\n",
       "\\item 0.39605650068641\n",
       "\\item 0.0720624111939854\n",
       "\\end{enumerate*}\n"
      ],
      "text/markdown": [
       "1. 2.60896149658739\n",
       "2. 0.922919591532206\n",
       "3. 0.39605650068641\n",
       "4. 0.0720624111939854\n",
       "\n",
       "\n"
      ],
      "text/plain": [
       "[1] 2.60896150 0.92291959 0.39605650 0.07206241"
      ]
     },
     "metadata": {},
     "output_type": "display_data"
    },
    {
     "data": {
      "text/html": [
       "<table class=\"dataframe\">\n",
       "<caption>A matrix: 4 × 4 of type dbl</caption>\n",
       "<tbody>\n",
       "\t<tr><td>-0.4744238</td><td>-0.6046129</td><td> 0.37639417</td><td> 0.51739034</td></tr>\n",
       "\t<tr><td>-0.5886286</td><td>-0.2366588</td><td>-0.06308377</td><td>-0.77040862</td></tr>\n",
       "\t<tr><td> 0.3932268</td><td>-0.7054215</td><td>-0.58863352</td><td>-0.03554881</td></tr>\n",
       "\t<tr><td> 0.5232697</td><td>-0.2842821</td><td> 0.71264188</td><td>-0.37082890</td></tr>\n",
       "</tbody>\n",
       "</table>\n"
      ],
      "text/latex": [
       "A matrix: 4 × 4 of type dbl\n",
       "\\begin{tabular}{llll}\n",
       "\t -0.4744238 & -0.6046129 &  0.37639417 &  0.51739034\\\\\n",
       "\t -0.5886286 & -0.2366588 & -0.06308377 & -0.77040862\\\\\n",
       "\t  0.3932268 & -0.7054215 & -0.58863352 & -0.03554881\\\\\n",
       "\t  0.5232697 & -0.2842821 &  0.71264188 & -0.37082890\\\\\n",
       "\\end{tabular}\n"
      ],
      "text/markdown": [
       "\n",
       "A matrix: 4 × 4 of type dbl\n",
       "\n",
       "| -0.4744238 | -0.6046129 |  0.37639417 |  0.51739034 |\n",
       "| -0.5886286 | -0.2366588 | -0.06308377 | -0.77040862 |\n",
       "|  0.3932268 | -0.7054215 | -0.58863352 | -0.03554881 |\n",
       "|  0.5232697 | -0.2842821 |  0.71264188 | -0.37082890 |\n",
       "\n"
      ],
      "text/plain": [
       "     [,1]       [,2]       [,3]        [,4]       \n",
       "[1,] -0.4744238 -0.6046129  0.37639417  0.51739034\n",
       "[2,] -0.5886286 -0.2366588 -0.06308377 -0.77040862\n",
       "[3,]  0.3932268 -0.7054215 -0.58863352 -0.03554881\n",
       "[4,]  0.5232697 -0.2842821  0.71264188 -0.37082890"
      ]
     },
     "metadata": {},
     "output_type": "display_data"
    }
   ],
   "source": [
    "library(ggplot2)\n",
    "# Eigenwerte und Eigenvektoren berechnen\n",
    "\n",
    "eig <- eigen(cor(rock_data))$values\n",
    "eig\n",
    "eigenv <- eigen(cor(rock_data))$vectors\n",
    "eigenv"
   ]
  },
  {
   "cell_type": "markdown",
   "id": "fca1e41a-ed6c-4839-9fca-ddf7437c7586",
   "metadata": {},
   "source": [
    "Die Bestimmung der Eignwerte und Eigenvektoren sind der erste Schritt."
   ]
  },
  {
   "cell_type": "code",
   "execution_count": 12,
   "id": "cdc52934-e69a-43b9-ab7d-9f9a8be2007e",
   "metadata": {},
   "outputs": [
    {
     "data": {
      "text/html": [
       "65.2240374146849"
      ],
      "text/latex": [
       "65.2240374146849"
      ],
      "text/markdown": [
       "65.2240374146849"
      ],
      "text/plain": [
       "[1] 65.22404"
      ]
     },
     "metadata": {},
     "output_type": "display_data"
    },
    {
     "data": {
      "text/html": [
       "88.2970272029901"
      ],
      "text/latex": [
       "88.2970272029901"
      ],
      "text/markdown": [
       "88.2970272029901"
      ],
      "text/plain": [
       "[1] 88.29703"
      ]
     },
     "metadata": {},
     "output_type": "display_data"
    },
    {
     "data": {
      "text/html": [
       "98.1984397201504"
      ],
      "text/latex": [
       "98.1984397201504"
      ],
      "text/markdown": [
       "98.1984397201504"
      ],
      "text/plain": [
       "[1] 98.19844"
      ]
     },
     "metadata": {},
     "output_type": "display_data"
    },
    {
     "data": {
      "text/html": [
       "100"
      ],
      "text/latex": [
       "100"
      ],
      "text/markdown": [
       "100"
      ],
      "text/plain": [
       "[1] 100"
      ]
     },
     "metadata": {},
     "output_type": "display_data"
    }
   ],
   "source": [
    "library(ggplot2)\n",
    "# Anteil der Gesamtstreuung, die durch die Hauptkomponenten erklärt wird\n",
    "first <- 100*(eig[1]/(sum(eig[1]+eig[2]+eig[3]+eig[4])))\n",
    "second <- 100*((eig[1]+eig[2])/(sum(eig[1]+eig[2]+eig[3]+eig[4])))\n",
    "third <- 100*((eig[1]+eig[2]+eig[3])/(sum(eig[1]+eig[2]+eig[3]+eig[4])))\n",
    "fourth <- 100*((eig[1]+eig[2]+eig[3]+eig[4])/(sum(eig[1]+eig[2]+eig[3]+eig[4])))\n",
    "first\n",
    "second\n",
    "third\n",
    "fourth"
   ]
  },
  {
   "cell_type": "markdown",
   "id": "dcd5d674-5bfd-4e57-8052-43926fcba22b",
   "metadata": {},
   "source": [
    "Die Werte erhöhen sich, was logisch ist. Nimmt man alle Hauptkomponenten kann man die ganze Varianz des Datensatzes repräsentieren, hat aber nichts eingespart. Mit der Hinzunahme von zwei der Hauptkomponenten kann man 88.3% der Totalvarianz beibehalten.\n"
   ]
  },
  {
   "cell_type": "markdown",
   "id": "ec7328d5-a262-4855-9609-c1d26df8df68",
   "metadata": {},
   "source": [
    "Dies sind die beiden Kriterien in Vergleich."
   ]
  },
  {
   "cell_type": "code",
   "execution_count": 13,
   "id": "70fce3f8-9da7-462e-a97a-30d86ec4c5b0",
   "metadata": {},
   "outputs": [
    {
     "data": {
      "text/html": [
       "0.999999999999999"
      ],
      "text/latex": [
       "0.999999999999999"
      ],
      "text/markdown": [
       "0.999999999999999"
      ],
      "text/plain": [
       "[1] 1"
      ]
     },
     "metadata": {},
     "output_type": "display_data"
    },
    {
     "data": {
      "text/html": [
       "0.699999999999999"
      ],
      "text/latex": [
       "0.699999999999999"
      ],
      "text/markdown": [
       "0.699999999999999"
      ],
      "text/plain": [
       "[1] 0.7"
      ]
     },
     "metadata": {},
     "output_type": "display_data"
    }
   ],
   "source": [
    "# Kaiser Kriterium, Mittelwert der Eigenwerte\n",
    "kaiser <- (eig[1]+eig[2]+eig[3]+eig[4])/4\n",
    "kaiser\n",
    "\n",
    "# Jolliffe-Kriterum, Mittelwert * 0.7\n",
    "jolliffe <- 0.7 * kaiser\n",
    "jolliffe"
   ]
  },
  {
   "cell_type": "code",
   "execution_count": 14,
   "id": "ac15435a-d4df-418b-81da-5936e34ff414",
   "metadata": {},
   "outputs": [
    {
     "data": {
      "image/png": "[encoded data removed]",
      "text/plain": [
       "plot without title"
      ]
     },
     "metadata": {
      "image/png": {
       "height": 420,
       "width": 420
      }
     },
     "output_type": "display_data"
    }
   ],
   "source": [
    "# Scree-Plot\n",
    "frame <- data.frame(hauptkomponenten = c(1,2,3,4), varianz = c(eig[1], eig[2], eig[3], eig[4]))\n",
    "   \n",
    "ggplot(data=frame, aes(x=hauptkomponenten, y=varianz, group=1)) +\n",
    "  geom_line()+\n",
    "  geom_point()"
   ]
  },
  {
   "cell_type": "markdown",
   "id": "8a8f41d0-c79b-4dae-be5e-eb26e84a011c",
   "metadata": {},
   "source": [
    "### Resultat Vorgehensweise ohne princomp Kriterien\n",
    "<div style=\"text-align: justify;\">\n",
    "    \n",
    "- Nimmt man eine Grenze von 80% an, erfüllen zwei Hauptkomponenten, eig[1] = 2.608961 und eig[2] = 0.9229196 die Voraussetzung. Mit der Variable second kann man dies erfüllen: second = 88.29703.\n",
    "\n",
    "- Nimmt man das Kaiser-Kriterium an, so muss in diesem Fall der Eigenwert grösser als 1 sein, denn der Mittelwert ist 0.9999 und dies ist der einzige Eigenwert, der diesen Mittelwert überschreitet und dies mit 2.60896149658739.  eig[1] = 2.608961 erfüllt diese Voraussetzung. Dies spricht für eine Hauptkomponente, man benötigt nur eine Hauptkomponente.\n",
    "\n",
    "- Nimmt man das Jolliffe-Kriterium an, so muss in diesem Fall der Eigenwert grösser als 0.7 sein, eig[1] = 2.60896150 und eig[2] = 0.92291959 erfüllen die Voraussetzung. Diese beiden erreichen ebenfalls erneut die 88.29703%.\n",
    "\n",
    "- Ein wirklicker Knick ist im Scree-Plot nicht zu erkennen. Meistens kann dieser Plot verwendet werden, um die zu verwendenden Hauptkomponenten bestimmen zu können. Meisten erkennt man dabei einen Knick.\n",
    "\n",
    "</div>"
   ]
  },
  {
   "cell_type": "markdown",
   "id": "e9babdfc-5609-4600-9755-a7438aea8cd3",
   "metadata": {},
   "source": [
    "## Vorgehensweise mit princomp\n",
    "<div style=\"text-align: justify;\">\n",
    "Mit princomp Befehl sollen nun die Hauptkomponenten bestimmt werden, die den Datzensatz am besten repräsentieren.\n",
    "</div>"
   ]
  },
  {
   "cell_type": "code",
   "execution_count": 15,
   "id": "64122545-09c9-4b25-8682-78b0c87aa395",
   "metadata": {},
   "outputs": [
    {
     "name": "stderr",
     "output_type": "stream",
     "text": [
      "Warning message:\n",
      "\"package 'vegan' is in use and will not be installed\"\n"
     ]
    },
    {
     "data": {
      "text/html": [
       "<style>\n",
       ".dl-inline {width: auto; margin:0; padding: 0}\n",
       ".dl-inline>dt, .dl-inline>dd {float: none; width: auto; display: inline-block}\n",
       ".dl-inline>dt::after {content: \":\\0020\"; padding-right: .5ex}\n",
       ".dl-inline>dt:not(:first-of-type) {padding-left: .5ex}\n",
       "</style><dl class=dl-inline><dt>Comp.1</dt><dd>2.60896149658739</dd><dt>Comp.2</dt><dd>0.922919591532206</dd><dt>Comp.3</dt><dd>0.39605650068641</dd><dt>Comp.4</dt><dd>0.0720624111939852</dd></dl>\n"
      ],
      "text/latex": [
       "\\begin{description*}\n",
       "\\item[Comp.1] 2.60896149658739\n",
       "\\item[Comp.2] 0.922919591532206\n",
       "\\item[Comp.3] 0.39605650068641\n",
       "\\item[Comp.4] 0.0720624111939852\n",
       "\\end{description*}\n"
      ],
      "text/markdown": [
       "Comp.1\n",
       ":   2.60896149658739Comp.2\n",
       ":   0.922919591532206Comp.3\n",
       ":   0.39605650068641Comp.4\n",
       ":   0.0720624111939852\n",
       "\n"
      ],
      "text/plain": [
       "    Comp.1     Comp.2     Comp.3     Comp.4 \n",
       "2.60896150 0.92291959 0.39605650 0.07206241 "
      ]
     },
     "metadata": {},
     "output_type": "display_data"
    }
   ],
   "source": [
    "install.packages(\"vegan\")\n",
    "library(vegan)\n",
    "# Berechnung der Eigenwerte\n",
    "e <- princomp(rock_data, cor=TRUE)\n",
    "eig2 <-e$sdev^2\n",
    "eig2"
   ]
  },
  {
   "cell_type": "markdown",
   "id": "a94a6e92-c504-49df-9f02-5ba735230f88",
   "metadata": {},
   "source": [
    "Anbei erkennt man dieselben Eigenwerte, sprich die Hauptkomponenten, wie man sie ohne princomp errechnen kann."
   ]
  },
  {
   "cell_type": "code",
   "execution_count": 16,
   "id": "5c03c6dd-3b8c-47c4-8b57-9d790b08d31a",
   "metadata": {},
   "outputs": [
    {
     "data": {
      "text/html": [
       "0.999999999999999"
      ],
      "text/latex": [
       "0.999999999999999"
      ],
      "text/markdown": [
       "0.999999999999999"
      ],
      "text/plain": [
       "[1] 1"
      ]
     },
     "metadata": {},
     "output_type": "display_data"
    },
    {
     "data": {
      "text/html": [
       "0.699999999999999"
      ],
      "text/latex": [
       "0.699999999999999"
      ],
      "text/markdown": [
       "0.699999999999999"
      ],
      "text/plain": [
       "[1] 0.7"
      ]
     },
     "metadata": {},
     "output_type": "display_data"
    }
   ],
   "source": [
    "# Kaiser Kriterium, Mittelwert der Eigenwerte\n",
    "kaiser2 <- mean(eig2)\n",
    "kaiser2\n",
    "\n",
    "# Jolliffe-Kriterum, Mittelwert * 0.7\n",
    "jolliffe2 <- 0.7 * mean(eig2)\n",
    "jolliffe2"
   ]
  },
  {
   "cell_type": "markdown",
   "id": "81311296-9bcc-4246-8efe-77a47f9801f3",
   "metadata": {},
   "source": [
    "Anbei erkennt man dieselben Werte, wie bei den Resultaten ohne princomp."
   ]
  },
  {
   "cell_type": "code",
   "execution_count": 17,
   "id": "ce904c79-0f54-4239-b744-cff2491da836",
   "metadata": {},
   "outputs": [
    {
     "data": {
      "image/png": "[encoded data removed]",
      "text/plain": [
       "Plot with title \"\""
      ]
     },
     "metadata": {
      "image/png": {
       "height": 420,
       "width": 420
      }
     },
     "output_type": "display_data"
    }
   ],
   "source": [
    "# Scree-Plot\n",
    "par(las=1)\n",
    "screeplot(e, type=\"l\", main=\"\")"
   ]
  },
  {
   "cell_type": "markdown",
   "id": "acc7f68e-200f-4172-96c0-464d72ed3a13",
   "metadata": {},
   "source": [
    "Dieser Scree-Plot sieht genau so aus wie der Scree-Plot ohne princomp."
   ]
  },
  {
   "cell_type": "code",
   "execution_count": 18,
   "id": "999b2d64-1414-43a9-885e-8a93eda55530",
   "metadata": {},
   "outputs": [
    {
     "data": {
      "text/plain": [
       "Importance of components:\n",
       "                          Comp.1    Comp.2     Comp.3    Comp.4\n",
       "Standard deviation     1.6152280 0.9606870 0.62933020 0.2684444\n",
       "Proportion of Variance 0.6522404 0.2307299 0.09901413 0.0180156\n",
       "Cumulative Proportion  0.6522404 0.8829703 0.98198440 1.0000000"
      ]
     },
     "metadata": {},
     "output_type": "display_data"
    },
    {
     "data": {
      "text/plain": [
       "\n",
       "Loadings:\n",
       "      Comp.1 Comp.2 Comp.3 Comp.4\n",
       "area   0.474  0.605  0.376  0.517\n",
       "peri   0.589  0.237        -0.770\n",
       "shape -0.393  0.705 -0.589       \n",
       "perm  -0.523  0.284  0.713 -0.371\n",
       "\n",
       "               Comp.1 Comp.2 Comp.3 Comp.4\n",
       "SS loadings      1.00   1.00   1.00   1.00\n",
       "Proportion Var   0.25   0.25   0.25   0.25\n",
       "Cumulative Var   0.25   0.50   0.75   1.00"
      ]
     },
     "metadata": {},
     "output_type": "display_data"
    }
   ],
   "source": [
    "# Summary\n",
    "summary(e)\n",
    "\n",
    "# Die Hauptkomponenten\n",
    "loadings(e)"
   ]
  },
  {
   "cell_type": "markdown",
   "id": "ff93c881-c33f-4f22-8ff7-6f8a75c13c79",
   "metadata": {},
   "source": [
    "Auch hier erkennt man dieselben Werte wie bei den Berechnungen ohne princomp. Die Werte bei \"Cumulative Proportion\" entsprechen den Variablen first, second, third und fourth. Dies sind ebenfalls 65.22404 88.29703 98.198440 100.00000 Prozent.\n",
    "Die Loadings erklären wie stark diese den Hauptkomponenten beisteuern, sprich welche am winchtigsten sind, den Datensatz in der gekürzten Version darstellen."
   ]
  },
  {
   "cell_type": "code",
   "execution_count": 19,
   "id": "94dd88ea-a6a0-4393-9f43-2f6fb3229d29",
   "metadata": {},
   "outputs": [
    {
     "data": {
      "text/html": [
       "<table class=\"dataframe\">\n",
       "<caption>A matrix: 6 × 4 of type dbl</caption>\n",
       "<thead>\n",
       "\t<tr><th scope=col>Comp.1</th><th scope=col>Comp.2</th><th scope=col>Comp.3</th><th scope=col>Comp.4</th></tr>\n",
       "</thead>\n",
       "<tbody>\n",
       "\t<tr><td>0.7553055</td><td>-1.8414783</td><td>-0.07902806</td><td>-0.08261715</td></tr>\n",
       "\t<tr><td>1.2946396</td><td>-0.7018505</td><td>-0.25818326</td><td>-0.31430060</td></tr>\n",
       "\t<tr><td>1.2446762</td><td>-0.2727316</td><td>-0.42822279</td><td>-0.24160439</td></tr>\n",
       "\t<tr><td>1.4976909</td><td>-0.8955061</td><td> 0.01729743</td><td>-0.21987529</td></tr>\n",
       "\t<tr><td>1.5976575</td><td>-0.6949249</td><td> 0.07715245</td><td>-0.15936618</td></tr>\n",
       "\t<tr><td>1.4172878</td><td>-0.2954063</td><td>-0.23843681</td><td>-0.20505878</td></tr>\n",
       "</tbody>\n",
       "</table>\n"
      ],
      "text/latex": [
       "A matrix: 6 × 4 of type dbl\n",
       "\\begin{tabular}{llll}\n",
       " Comp.1 & Comp.2 & Comp.3 & Comp.4\\\\\n",
       "\\hline\n",
       "\t 0.7553055 & -1.8414783 & -0.07902806 & -0.08261715\\\\\n",
       "\t 1.2946396 & -0.7018505 & -0.25818326 & -0.31430060\\\\\n",
       "\t 1.2446762 & -0.2727316 & -0.42822279 & -0.24160439\\\\\n",
       "\t 1.4976909 & -0.8955061 &  0.01729743 & -0.21987529\\\\\n",
       "\t 1.5976575 & -0.6949249 &  0.07715245 & -0.15936618\\\\\n",
       "\t 1.4172878 & -0.2954063 & -0.23843681 & -0.20505878\\\\\n",
       "\\end{tabular}\n"
      ],
      "text/markdown": [
       "\n",
       "A matrix: 6 × 4 of type dbl\n",
       "\n",
       "| Comp.1 | Comp.2 | Comp.3 | Comp.4 |\n",
       "|---|---|---|---|\n",
       "| 0.7553055 | -1.8414783 | -0.07902806 | -0.08261715 |\n",
       "| 1.2946396 | -0.7018505 | -0.25818326 | -0.31430060 |\n",
       "| 1.2446762 | -0.2727316 | -0.42822279 | -0.24160439 |\n",
       "| 1.4976909 | -0.8955061 |  0.01729743 | -0.21987529 |\n",
       "| 1.5976575 | -0.6949249 |  0.07715245 | -0.15936618 |\n",
       "| 1.4172878 | -0.2954063 | -0.23843681 | -0.20505878 |\n",
       "\n"
      ],
      "text/plain": [
       "     Comp.1    Comp.2     Comp.3      Comp.4     \n",
       "[1,] 0.7553055 -1.8414783 -0.07902806 -0.08261715\n",
       "[2,] 1.2946396 -0.7018505 -0.25818326 -0.31430060\n",
       "[3,] 1.2446762 -0.2727316 -0.42822279 -0.24160439\n",
       "[4,] 1.4976909 -0.8955061  0.01729743 -0.21987529\n",
       "[5,] 1.5976575 -0.6949249  0.07715245 -0.15936618\n",
       "[6,] 1.4172878 -0.2954063 -0.23843681 -0.20505878"
      ]
     },
     "metadata": {},
     "output_type": "display_data"
    },
    {
     "data": {
      "image/png": "[encoded data removed]",
      "text/plain": [
       "plot without title"
      ]
     },
     "metadata": {
      "image/png": {
       "height": 420,
       "width": 420
      }
     },
     "output_type": "display_data"
    }
   ],
   "source": [
    "# Barplot mit Hauptkomponenten\n",
    "par(las=1)\n",
    "barplot(loadings(e), beside=TRUE, legend=colnames(rock_data), args.legend=list(bty=\"n\"))\n",
    "\n",
    "# Scores\n",
    "head(e$scores)"
   ]
  },
  {
   "cell_type": "code",
   "execution_count": 20,
   "id": "549917f0-a19a-415d-875e-9ec08296cfcc",
   "metadata": {},
   "outputs": [
    {
     "data": {
      "image/png": "[encoded data removed]",
      "text/plain": [
       "Plot with title \"Plot 1\""
      ]
     },
     "metadata": {
      "image/png": {
       "height": 420,
       "width": 420
      }
     },
     "output_type": "display_data"
    }
   ],
   "source": [
    "# Plot 1 der Scores in den zwei Hauptkomponenten\n",
    "plot(e$scores, xlab=\"1 Hauptkomponente\", ylab=\"2 Hauptkomponente\", type=\"n\", main=\"Plot 1\")\n",
    "text(e$scores,rownames(e$scores))\n",
    "\n",
    "# Minimal spantree of rock_data\n",
    "sp_tree <- spantree(dist(rock_data, method = \"euclidean\"))\n",
    "distance1 <- dist(rock_data, method = \"euclidean\")\n",
    "\n",
    "for (x in 2:48){\n",
    "line1x <- c(e$scores[,1][x],e$scores[,1][sp_tree$kid[x-1]])\n",
    "line1y <- c(e$scores[,2][x],e$scores[,2][sp_tree$kid[x-1]])\n",
    "lines(line1x, line1y, pch = 18, col = \"blue\", type =\"l\", lty = 1)\n",
    "}"
   ]
  },
  {
   "cell_type": "markdown",
   "id": "6db0aec2-f23b-4fec-bfc6-49e5b34ece4f",
   "metadata": {},
   "source": [
    "Dies ist der Plot, wie es generiert wird anhand der Anleitung S. 154 des Kuhlenkasper \"Multivariate Analysemethode\"."
   ]
  },
  {
   "cell_type": "code",
   "execution_count": 21,
   "id": "49b6c585-b34c-44e1-b1ed-36e186d1cdd6",
   "metadata": {},
   "outputs": [
    {
     "data": {
      "image/png": "[encoded data removed]",
      "text/plain": [
       "Plot with title \"Plot 2\""
      ]
     },
     "metadata": {
      "image/png": {
       "height": 420,
       "width": 420
      }
     },
     "output_type": "display_data"
    }
   ],
   "source": [
    "# Plot 2 der Scores in den zwei Hauptkomponenten\n",
    "plot(e$scores, xlab=\"1 Hauptkomponente\", ylab=\"2 Hauptkomponente\", type=\"n\", main=\"Plot 2\")\n",
    "text(e$scores,rownames(e$scores))\n",
    "\n",
    "# Minimal spantree of scores\n",
    "sp_tree2 <- spantree(dist(e$scores, method = \"euclidean\"))\n",
    "distance2 <- dist(e$scores, method = \"euclidean\")\n",
    "\n",
    "for (x in 2:48){\n",
    "line1x <- c(e$scores[,1][x],e$scores[,1][sp_tree2$kid[x-1]])\n",
    "line1y <- c(e$scores[,2][x],e$scores[,2][sp_tree2$kid[x-1]])\n",
    "lines(line1x, line1y, pch = 18, col = \"red\", type =\"l\", lty = 1)\n",
    "}"
   ]
  },
  {
   "cell_type": "markdown",
   "id": "cee5fdc4-0b39-4e59-bd08-2fd2e3b40f60",
   "metadata": {},
   "source": [
    "Die ist der Plot unter Berücksichtigung der Scores."
   ]
  },
  {
   "cell_type": "markdown",
   "id": "813b17bd-94cd-4c8c-a780-ccb812cf268f",
   "metadata": {},
   "source": [
    "### Resultat Vorgehensweise mit princomp\n",
    "<div style=\"text-align: justify;\">\n",
    "\n",
    "- Mit princomp sind es dieselben Resultate, wie bei den obigen Berechnungen ohne princomp. Das heisst die Eigenwerte sind dieselben und folglich die darauf aufbauenden Berechnungen.\n",
    "\n",
    "- Mit dem Summary kann man erkennen, dass mit den drei Hauptkomponenten 98.2% der Gesamtstreuung erklärt werden können. Mit den ersten beiden Hauptkomponenten kann man 88.3% der Gesamstreuung erklären. Mit der eigens gesetzten Grenze von 80% oder dem Jolliffe-Kriterum würden diese beiden ausreichen. Kaiser wiederum würde nur eine Hauptkomponente angeben, wie bereits erwähnt.\n",
    "\n",
    "- Die Variable area ist stark in der zweiten Hauptkomponente vokrommende, peri bei der ersten Hauptkomponente, shape bei der zweiten Hauptkomponente und perm bei der dritten Hauptkomponente. Inwieweit die Variable perm bei der Auswahl von nur zwei Hauptkomponenten dann noch gut genug erklärt werden kann wird nicht weiter untersucht.\n",
    "\n",
    "- Mit dem Barplot kann man erkennen, welche Variable am meisten zur Hauptkomponente beisteuert und in welcher Richtung. Bei der Hauptkomponenten 1 area und peri, die in positiver Richung gehen und shape und perm in die negative Richtung. Peri und perm haben den grössten Einfluss. Bei der Hauptkomponente 2 ist es shape in positiver Richtung. Bei der Hauptkomponente 3 ist es perm in positiver Richtung und shape in negativer Richgung. Bei der Hauptkomponente 4 ist es peri in negativer Richtung.\n",
    "\n",
    "- Plot 1 stellt den minimal spannenden Baum dar, den man erhält, wenn man die Distanzen anhand des Datensatzes berechnet. Plot 2 stellt den minimal spannenden Baum dar, wenn ma die Distanzen anhand der Scores berechnet. Also einmal dist(rock_data) und einmal dist(e$scores).\n",
    "\n",
    "- Beide Plots unterscheiden sich doch sehr und somit kann anhand der grafischen Beurteilung gesagt werden, dass diese beiden Hauptkomponenten Probleme liefern und somit den Datensatz weniger gut repräsentieren. Es ist etwas schwierig zu beurteilen, weil im Buch auf Seite 148 (Handl, Kuhlenkasper) zwar auch auf Fehler eingegangen wird, aber nicht erklärt, inwieweit Fehler vorhanden sein dürfen. Es gibt keine angegebene Grenze, die klar aufzeigt, dass die Hauptkomponenten den Datensatz besser oder weniger gut repräsentieren. Somit könnte auch gesagt werden, dass der Plotvergleich positiv ausfällt.\n",
    "\n",
    "- Mit distance1 und distance2 könnte man die Distanzmatrizen nebst der grafischen Beurteilung vergleichen.\n",
    "\n",
    "- Die Interpretation der beiden Hauptkomponenten: Ist dieselbe wie bei dem bereits erwähnten Barplot.\n",
    "</div>"
   ]
  },
  {
   "cell_type": "markdown",
   "id": "53f9a293-059d-41c9-94e1-f9208fced74c",
   "metadata": {},
   "source": [
    "## Check der Spantree\n",
    "<div style=\"text-align: justify;\">\n",
    "Nun soll der Datensatz normalisiert und standardisiert werden, um darin eine grafische Übereinstimmung des Plot 1 und Plot 2 zu erreichen. Die Übereinstimmung ist wichtig, damit die Qualität des PCA bewertet werden kann.\n",
    "</div>"
   ]
  },
  {
   "cell_type": "code",
   "execution_count": 22,
   "id": "717d256e-8ef8-49c5-b150-c8b37db60622",
   "metadata": {},
   "outputs": [
    {
     "name": "stderr",
     "output_type": "stream",
     "text": [
      "Installing package into 'C:/Users/olivi/AppData/Local/R/win-library/4.4'\n",
      "(as 'lib' is unspecified)\n",
      "\n"
     ]
    },
    {
     "name": "stdout",
     "output_type": "stream",
     "text": [
      "package 'normalize' successfully unpacked and MD5 sums checked\n",
      "\n",
      "The downloaded binary packages are in\n",
      "\tC:\\Users\\olivi\\AppData\\Local\\Temp\\Rtmp6hlsNn\\downloaded_packages\n"
     ]
    },
    {
     "data": {
      "image/png": "[encoded data removed]",
      "text/plain": [
       "Plot with title \"Plot 3\""
      ]
     },
     "metadata": {
      "image/png": {
       "height": 420,
       "width": 420
      }
     },
     "output_type": "display_data"
    }
   ],
   "source": [
    "# Normalize installieren und aufrufen\n",
    "install.packages(\"normalize\")\n",
    "library(\"normalize\")\n",
    "\n",
    "# Plot 3 der Scores in den zwei Hauptkomponenten\n",
    "plot(e$scores, xlab=\"1 Hauptkomponente\", ylab=\"2 Hauptkomponente\", type=\"n\", main=\"Plot 3\")\n",
    "text(e$scores,rownames(e$scores))\n",
    "\n",
    "# Normalisieren (Methode standardize)\n",
    "distance_c1 <- normalize(rock_data, method=\"standardize\")\n",
    "\n",
    "# Minimal spantree of rock_data\n",
    "sp_tree3 <- spantree(dist(distance_c1, method = \"euclidean\"))\n",
    "distance3 <- dist(distance_c1, method = \"euclidean\")\n",
    "\n",
    "for (x in 2:48){\n",
    "line2x <- c(e$scores[,1][x],e$scores[,1][sp_tree3$kid[x-1]])\n",
    "line2y <- c(e$scores[,2][x],e$scores[,2][sp_tree3$kid[x-1]])\n",
    "lines(line2x, line2y, pch = 18, col = \"darkgreen\", type =\"l\", lty = 1)\n",
    "}"
   ]
  },
  {
   "cell_type": "markdown",
   "id": "7c3d9b5a-7996-4f37-a48b-ba328bbab608",
   "metadata": {},
   "source": [
    "Plot nach dem Normalisieren"
   ]
  },
  {
   "cell_type": "code",
   "execution_count": 23,
   "id": "15d8bc65-731a-4ae5-bb48-90264a13d94b",
   "metadata": {},
   "outputs": [
    {
     "data": {
      "image/png": "[encoded data removed]",
      "text/plain": [
       "Plot with title \"Plot 4\""
      ]
     },
     "metadata": {
      "image/png": {
       "height": 420,
       "width": 420
      }
     },
     "output_type": "display_data"
    }
   ],
   "source": [
    "# Plot 4 der Scores in den zwei Hauptkomponenten\n",
    "plot(e$scores, xlab=\"1 Hauptkomponente\", ylab=\"2 Hauptkomponente\", type=\"n\", main=\"Plot 4\")\n",
    "text(e$scores,rownames(e$scores))\n",
    "\n",
    "# Standardisieren\n",
    "distance_c2 <- scale(rock_data)\n",
    "\n",
    "# Minimal spantree of rock_data\n",
    "sp_tree4 <- spantree(dist(distance_c2, method = \"euclidean\"))\n",
    "distance4 <- dist(distance_c2, method = \"euclidean\")\n",
    "\n",
    "for (x in 2:48){\n",
    "line3x <- c(e$scores[,1][x],e$scores[,1][sp_tree4$kid[x-1]])\n",
    "line3y <- c(e$scores[,2][x],e$scores[,2][sp_tree4$kid[x-1]])\n",
    "lines(line3x, line3y, pch = 18, col = \"purple\", type =\"l\", lty = 1)\n",
    "    }"
   ]
  },
  {
   "cell_type": "markdown",
   "id": "8d7a0e43-7141-4fc4-9cfa-7df52614e290",
   "metadata": {},
   "source": [
    "Plot nach dem Skalieren"
   ]
  },
  {
   "cell_type": "markdown",
   "id": "e01940ea-877b-4c71-9146-4934e205cf2f",
   "metadata": {},
   "source": [
    "### Resultat Check der Spantree\n",
    "<div style=\"text-align: justify;\">\n",
    "    \n",
    "- Nach dem Normalisieren des Datensatzes (standardize), stimmen die Plots überein. Also der Plot 2 aus dem vorangegangenen Beispiel und Plot 3 aus diesem Beispiel. Somit gibt es keine Problem oder Fehler mehr, nach dem Normalisieren.\n",
    "\n",
    "- Nach dem Skalieren des Datensatzes (standardize), stimmen die Plots überein. Also der Plot 2 aus dem vorangegangenen Beispiel und Plot 4 aus diesem Beispiel. Somit gibt es keine Problem oder Fehler mehr, nach dem Normalisieren.\n",
    "\n",
    "- Normalisieren und skalieren hat hier dasselbe Resultat.\n",
    "\n",
    "- Die dazugehörige Distazmatrix kann mit distance3, distance4 abgerufen werden.\n",
    "\n",
    "</div>"
   ]
  },
  {
   "cell_type": "markdown",
   "id": "86d3dac5-f9a3-4da0-a6ca-11f0c17bdce3",
   "metadata": {},
   "source": [
    "# Einleitung Faktorenanalyse\n",
    "<div style=\"text-align: justify;\">\n",
    "    \n",
    "Vorgehensweise Explorative Faktorenanalyse (stark an dem Buch orientiert):\n",
    "\n",
    "- Bestimmung der Bestimmtheitsmasse\n",
    "- Ersetzung der Hauptdiagonalen\n",
    "- Berechung der Eigenwerte\n",
    "- Index Bestimmung der Eigenwerte\n",
    "- Faktoanalyse vornehmen ohne Rotation\n",
    "- Faktoanalyse vornehmen mit Rotation\n",
    "- Interpretation\n",
    "    \n",
    "</div>\n"
   ]
  },
  {
   "cell_type": "markdown",
   "id": "77f8ce9b-eaac-47ea-bd8f-541c363f4948",
   "metadata": {},
   "source": [
    "# Statistisches Vorgehen Faktorenanalyse\n",
    "<div style=\"text-align: justify;\">\n",
    "</div>"
   ]
  },
  {
   "cell_type": "markdown",
   "id": "9f5ff4eb-4d46-423c-9e98-528bdc549f3b",
   "metadata": {},
   "source": [
    "## Explorative Faktorenanalyse\n",
    "<div style=\"text-align: justify;\">\n",
    "\n",
    "</div>"
   ]
  },
  {
   "cell_type": "code",
   "execution_count": 24,
   "id": "802c7afd-4839-4486-86af-b11de9f5c198",
   "metadata": {},
   "outputs": [
    {
     "data": {
      "text/html": [
       "<style>\n",
       ".dl-inline {width: auto; margin:0; padding: 0}\n",
       ".dl-inline>dt, .dl-inline>dd {float: none; width: auto; display: inline-block}\n",
       ".dl-inline>dt::after {content: \":\\0020\"; padding-right: .5ex}\n",
       ".dl-inline>dt:not(:first-of-type) {padding-left: .5ex}\n",
       "</style><dl class=dl-inline><dt>area</dt><dd>0.219548540763207</dd><dt>peri</dt><dd>0.118485331814595</dd><dt>shape</dt><dd>0.670766210707031</dd><dt>perm</dt><dd>0.295589717400253</dd></dl>\n"
      ],
      "text/latex": [
       "\\begin{description*}\n",
       "\\item[area] 0.219548540763207\n",
       "\\item[peri] 0.118485331814595\n",
       "\\item[shape] 0.670766210707031\n",
       "\\item[perm] 0.295589717400253\n",
       "\\end{description*}\n"
      ],
      "text/markdown": [
       "area\n",
       ":   0.219548540763207peri\n",
       ":   0.118485331814595shape\n",
       ":   0.670766210707031perm\n",
       ":   0.295589717400253\n",
       "\n"
      ],
      "text/plain": [
       "     area      peri     shape      perm \n",
       "0.2195485 0.1184853 0.6707662 0.2955897 "
      ]
     },
     "metadata": {},
     "output_type": "display_data"
    },
    {
     "data": {
      "text/plain": [
       "eigen() decomposition\n",
       "$values\n",
       "[1]  1.9049653  0.3969537 -0.2379407 -0.7595885\n",
       "\n",
       "$vectors\n",
       "           [,1]        [,2]        [,3]        [,4]\n",
       "[1,] -0.4394835 -0.53748163  0.49993926  0.51771464\n",
       "[2,] -0.5385453 -0.30148074  0.01705795 -0.78663041\n",
       "[3,]  0.4908081 -0.78719910 -0.37098543 -0.04236459\n",
       "[4,]  0.5252910 -0.02324736  0.78239349 -0.33375050\n"
      ]
     },
     "metadata": {},
     "output_type": "display_data"
    },
    {
     "data": {
      "text/html": [
       "1"
      ],
      "text/latex": [
       "1"
      ],
      "text/markdown": [
       "1"
      ],
      "text/plain": [
       "[1] 1"
      ]
     },
     "metadata": {},
     "output_type": "display_data"
    }
   ],
   "source": [
    "# Bestimmung der Bestimmtheitsmasse\n",
    "rquadrat <- 1/diag(solve(cor(rock_data)))\n",
    "rquadrat\n",
    "\n",
    "rh <- cor(rock_data)\n",
    "\n",
    "# Ersetzung der Hauptdiagonalen\n",
    "diag(rh) <- rquadrat\n",
    "\n",
    "# Berechung der Eigenwerte\n",
    "ew <- eigen(rh)\n",
    "ew\n",
    "\n",
    "# Index Bestimmung der Eigenwerte\n",
    "index <- min((1:length(ew$values))[cumsum(ew$values)>sum(ew$values)])\n",
    "index\n"
   ]
  },
  {
   "cell_type": "code",
   "execution_count": 25,
   "id": "51e191b7-7e33-4e2a-b641-7fe70b502336",
   "metadata": {},
   "outputs": [
    {
     "data": {
      "text/plain": [
       "\n",
       "Call:\n",
       "factanal(factors = 1, covmat = cor(rock_data), rotation = \"none\")\n",
       "\n",
       "Uniquenesses:\n",
       " area  peri shape  perm \n",
       "0.324 0.005 0.812 0.455 \n",
       "\n",
       "Loadings:\n",
       "      Factor1\n",
       "area   0.822 \n",
       "peri   0.998 \n",
       "shape -0.434 \n",
       "perm  -0.738 \n",
       "\n",
       "               Factor1\n",
       "SS loadings      2.405\n",
       "Proportion Var   0.601\n",
       "\n",
       "The degrees of freedom for the model is 2 and the fit was 0.5614 "
      ]
     },
     "metadata": {},
     "output_type": "display_data"
    },
    {
     "data": {
      "text/plain": [
       "\n",
       "Loadings:\n",
       "      Factor1\n",
       "area   0.822 \n",
       "peri   0.998 \n",
       "shape -0.434 \n",
       "perm  -0.738 \n",
       "\n",
       "               Factor1\n",
       "SS loadings      2.405\n",
       "Proportion Var   0.601"
      ]
     },
     "metadata": {},
     "output_type": "display_data"
    },
    {
     "data": {
      "text/plain": [
       "\n",
       "Call:\n",
       "factanal(factors = 1, covmat = cor(rock_data), rotation = \"varimax\")\n",
       "\n",
       "Uniquenesses:\n",
       " area  peri shape  perm \n",
       "0.324 0.005 0.812 0.455 \n",
       "\n",
       "Loadings:\n",
       "      Factor1\n",
       "area   0.822 \n",
       "peri   0.998 \n",
       "shape -0.434 \n",
       "perm  -0.738 \n",
       "\n",
       "               Factor1\n",
       "SS loadings      2.405\n",
       "Proportion Var   0.601\n",
       "\n",
       "The degrees of freedom for the model is 2 and the fit was 0.5614 "
      ]
     },
     "metadata": {},
     "output_type": "display_data"
    },
    {
     "data": {
      "text/plain": [
       "\n",
       "Loadings:\n",
       "      Factor1\n",
       "area   0.822 \n",
       "peri   0.998 \n",
       "shape -0.434 \n",
       "perm  -0.738 \n",
       "\n",
       "               Factor1\n",
       "SS loadings      2.405\n",
       "Proportion Var   0.601"
      ]
     },
     "metadata": {},
     "output_type": "display_data"
    }
   ],
   "source": [
    "# Faktoanalyse vornehmen ohne Rotation\n",
    "f1 <- factanal(covmat=cor(rock_data), factors=1, rotation=\"none\")\n",
    "f1\n",
    "f1$loadings\n",
    "\n",
    "# Faktoanalyse vornehmen mit Rotation\n",
    "f2 <- factanal(covmat=cor(rock_data), factors=1, rotation=\"varimax\")\n",
    "f2\n",
    "f2$loadings"
   ]
  },
  {
   "cell_type": "markdown",
   "id": "406e5d17-1132-4863-b213-ed4a3370b981",
   "metadata": {},
   "source": [
    "### Resultat Explorative Faktorenanalyse\n",
    "<div style=\"text-align: justify;\">\n",
    "\n",
    "- Gemäss der Bestimmung des Indexes kann gesehen werden, dass nur ein Faktor zu verwenden ist. Die Faktoranalyse mit und ohne Rotation bestätigt dies, beide Resultate sind dieselben.  \n",
    "\n",
    "- Factor1 ist stark postiv assoziiert mit peri und area, stark negativ assoziiet mit perm. 60.1% der Varianz kann mit diesem einen Faktor erhalten/erklärt werden.\n",
    "\n",
    "- PCA eröffnet mehr Möglichkeiten, sei dies bei einer Auswahl einer eigenen Grenze, also beispielweise die erwähnten 80%, das Kaiser-Kriterium, oder das Jolliffe-Kriterium. Mit PCA bewegen wir und zwischen der Auswahl einer Hauptkomponente oder zwischen der Auswahl von zwei Komponenten oder mehr, sollte man mehr Varianz erhalten wollen.\n",
    "\n",
    "- EFA zeigt direkt über die Indexbestimmung an, wieviele Faktoren es sein sollen.In diesem Fall einen.\n",
    "</div>"
   ]
  },
  {
   "cell_type": "markdown",
   "id": "577d066e-3a59-48cc-b4d2-ebc30845c879",
   "metadata": {},
   "source": [
    "# Beschreibung Ergebnisse\n",
    "<div style=\"text-align: justify;\">\n",
    "Die Ergebnisse kommen alle bei den bereits erwähnten Resultaten vor.\n",
    "</div>"
   ]
  },
  {
   "cell_type": "markdown",
   "id": "1b6ceed1-68c3-417f-bfb6-a3a3e06e832b",
   "metadata": {},
   "source": [
    "# Analyse/Hinterfragen Ergebnisse\n",
    "<div style=\"text-align: justify;\">\n",
    "Die Analyse der Ergebnisse kommt bei den bereits erwähnten Resultaten vor.\n",
    "</div>"
   ]
  },
  {
   "cell_type": "markdown",
   "id": "d881b0f6-89da-4b0b-b5b9-42bac0a1bbf5",
   "metadata": {},
   "source": [
    "# Quellenangaben\n",
    "<div style=\"text-align: justify;\">\n",
    "\n",
    "-   Daten von R (24.12.2024)\n",
    "\n",
    " - Andreas Handl, Torben Kuhlenkasper. (2017) Multivariate Analysemethoden (3. Auflage). Springer Spektrum.\n",
    "</div>"
   ]
  }
 ],
 "metadata": {
  "kernelspec": {
   "display_name": "R",
   "language": "R",
   "name": "ir"
  },
  "language_info": {
   "codemirror_mode": "r",
   "file_extension": ".r",
   "mimetype": "text/x-r-source",
   "name": "R",
   "pygments_lexer": "r",
   "version": "4.4.2"
  }
 },
 "nbformat": 4,
 "nbformat_minor": 5
}
